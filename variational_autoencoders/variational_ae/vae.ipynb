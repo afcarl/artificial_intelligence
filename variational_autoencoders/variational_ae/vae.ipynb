{
  "nbformat": 4,
  "nbformat_minor": 0,
  "metadata": {
    "colab": {
      "name": "vanilla_vae.ipynb",
      "provenance": [],
      "collapsed_sections": []
    },
    "kernelspec": {
      "name": "python3",
      "display_name": "Python 3"
    },
    "accelerator": "GPU"
  },
  "cells": [
    {
      "cell_type": "code",
      "metadata": {
        "id": "T579skXCQnSx"
      },
      "source": [
        "import tqdm\r\n",
        "import torch\r\n",
        "import torch.nn as nn\r\n",
        "import matplotlib.pyplot as plt\r\n",
        "import torch.nn.functional as F\r\n",
        "from torch.utils.data import DataLoader\r\n",
        "from torchvision import datasets, transforms\r\n",
        "from torchvision.utils import make_grid, save_image"
      ],
      "execution_count": 1,
      "outputs": []
    },
    {
      "cell_type": "code",
      "metadata": {
        "id": "8yLdqTmHaFk3"
      },
      "source": [
        "import warnings\r\n",
        "warnings.filterwarnings('ignore')"
      ],
      "execution_count": 2,
      "outputs": []
    },
    {
      "cell_type": "code",
      "metadata": {
        "id": "ekImof1lTBal"
      },
      "source": [
        "class Encoder(nn.Module):\r\n",
        "    def __init__(self, input_dim, latent_dim):\r\n",
        "        super().__init__()\r\n",
        "        self.fc1 = nn.Linear(input_dim, 256)\r\n",
        "        self.fc2 = nn.Linear(256, latent_dim)\r\n",
        "        self.fc3 = nn.Linear(256, latent_dim)\r\n",
        "        \r\n",
        "    def forward(self, x):\r\n",
        "        x = F.relu(self.fc1(x))\r\n",
        "        mean = self.fc2(x)\r\n",
        "        log_var = self.fc3(x)\r\n",
        "        return mean, log_var"
      ],
      "execution_count": 3,
      "outputs": []
    },
    {
      "cell_type": "code",
      "metadata": {
        "id": "a2J3ynlrTBXB"
      },
      "source": [
        "class Decoder(nn.Module):\r\n",
        "    def __init__(self, latent_dim, output_dim):\r\n",
        "        super().__init__()\r\n",
        "        self.fc1 = nn.Linear(latent_dim, 256)\r\n",
        "        self.fc2 = nn.Linear(256, output_dim)\r\n",
        "        \r\n",
        "    def forward(self, x):\r\n",
        "        x = F.relu(self.fc1(x))\r\n",
        "        x = F.sigmoid(self.fc2(x))    \r\n",
        "        return x"
      ],
      "execution_count": 4,
      "outputs": []
    },
    {
      "cell_type": "code",
      "metadata": {
        "id": "44JinaKIS5YT"
      },
      "source": [
        "class VAE(nn.Module):\r\n",
        "    def __init__(self, input_dim, latent_dim):\r\n",
        "        super().__init__()\r\n",
        "        self.encoder = Encoder(input_dim, latent_dim)\r\n",
        "        self.decoder = Decoder(latent_dim, input_dim)\r\n",
        "        \r\n",
        "    def forward(self, x):\r\n",
        "        mean, log_var = self.encoder(x)\r\n",
        "\r\n",
        "        std = torch.exp(0.5 * log_var)\r\n",
        "        eps = torch.randn_like(std)\r\n",
        "        z = eps.mul(std).add_(mean)\r\n",
        "        \r\n",
        "        x = self.decoder(z)\r\n",
        "        return x, mean, log_var"
      ],
      "execution_count": 5,
      "outputs": []
    },
    {
      "cell_type": "code",
      "metadata": {
        "id": "KWiLtgHzUpwv"
      },
      "source": [
        "def loss_fn(x, gen_x, mean, log_var):\r\n",
        "    bce = F.binary_cross_entropy(gen_x, x, size_average=False)\r\n",
        "    kld = -0.5 * torch.sum(1 + log_var - mean.pow(2) - log_var.exp())\r\n",
        "    return bce + kld"
      ],
      "execution_count": 6,
      "outputs": []
    },
    {
      "cell_type": "code",
      "metadata": {
        "id": "Xe1y7mAlUpr9"
      },
      "source": [
        "device = torch.device('cuda' if torch.cuda.is_available() else 'cpu')\r\n",
        "epochs = 51\r\n",
        "batch_size = 64\r\n",
        "input_dim = 28 * 28\r\n",
        "latent_dim = 2\r\n",
        "lr = 1e-3\r\n",
        "transform = transforms.Compose([transforms.ToTensor()])\r\n",
        "z = torch.randn(64, latent_dim).to(device)"
      ],
      "execution_count": 7,
      "outputs": []
    },
    {
      "cell_type": "code",
      "metadata": {
        "colab": {
          "base_uri": "https://localhost:8080/"
        },
        "id": "H8l5ShWNUppq",
        "outputId": "8cdee9ba-411c-4190-e431-b368a9726cb5"
      },
      "source": [
        "device"
      ],
      "execution_count": 8,
      "outputs": [
        {
          "output_type": "execute_result",
          "data": {
            "text/plain": [
              "device(type='cuda')"
            ]
          },
          "metadata": {
            "tags": []
          },
          "execution_count": 8
        }
      ]
    },
    {
      "cell_type": "code",
      "metadata": {
        "id": "HvM3iXCDUpnz"
      },
      "source": [
        "train_dataset = datasets.MNIST('data/', train=True, download=True, transform=transform)\r\n",
        "test_dataset = datasets.MNIST('data/', train=False, download=True, transform=transform)"
      ],
      "execution_count": 9,
      "outputs": []
    },
    {
      "cell_type": "code",
      "metadata": {
        "id": "UaRe2_ryV_fK"
      },
      "source": [
        "train_batches = DataLoader(train_dataset, batch_size=batch_size, shuffle=True)\r\n",
        "test_batches = DataLoader(test_dataset, batch_size=batch_size, shuffle=True)"
      ],
      "execution_count": 10,
      "outputs": []
    },
    {
      "cell_type": "code",
      "metadata": {
        "colab": {
          "base_uri": "https://localhost:8080/",
          "height": 281
        },
        "id": "uVFmO9Y3ZIGn",
        "outputId": "ed07d72a-63cf-46b5-8123-8a535549aa77"
      },
      "source": [
        "img, _ = train_dataset[42]\r\n",
        "plt.imshow(img[0], cmap=\"gray\")"
      ],
      "execution_count": 11,
      "outputs": [
        {
          "output_type": "execute_result",
          "data": {
            "text/plain": [
              "<matplotlib.image.AxesImage at 0x7f98fc2146d8>"
            ]
          },
          "metadata": {
            "tags": []
          },
          "execution_count": 11
        },
        {
          "output_type": "display_data",
          "data": {
            "image/png": "[encoded data removed]",
            "text/plain": [
              "<Figure size 432x288 with 1 Axes>"
            ]
          },
          "metadata": {
            "tags": [],
            "needs_background": "light"
          }
        }
      ]
    },
    {
      "cell_type": "code",
      "metadata": {
        "id": "dAGL9uocg49g"
      },
      "source": [
        "def save_fake_images(epoch):\r\n",
        "    with torch.no_grad():\r\n",
        "        fake = net.decoder(z)\r\n",
        "        \r\n",
        "    fake = fake.cpu().view(-1, 1, 28, 28)\r\n",
        "    img_grid = make_grid(fake)\r\n",
        "    file_name = \"fake_images-{0:0=4d}.png\".format(epoch)\r\n",
        "    save_image(fake, file_name, nrow=8)\r\n",
        "\r\n",
        "    print(\"\")\r\n",
        "    print(\"Image Saved!\")\r\n",
        "    print(\"\")"
      ],
      "execution_count": 12,
      "outputs": []
    },
    {
      "cell_type": "code",
      "metadata": {
        "id": "Cw8PHeZNgug_"
      },
      "source": [
        "for x, _ in train_batches:\r\n",
        "    img_grid = make_grid(x[:64])\r\n",
        "    save_image(img_grid, \"real_images.png\", nrow=8)\r\n",
        "    break"
      ],
      "execution_count": 13,
      "outputs": []
    },
    {
      "cell_type": "code",
      "metadata": {
        "colab": {
          "base_uri": "https://localhost:8080/"
        },
        "id": "QYXx1-0kXCng",
        "outputId": "05e5d692-0fca-46ef-8568-baf83ae15066"
      },
      "source": [
        "net = VAE(input_dim, latent_dim).to(device)\r\n",
        "opt = torch.optim.Adam(net.parameters(), lr)\r\n",
        "net"
      ],
      "execution_count": 14,
      "outputs": [
        {
          "output_type": "execute_result",
          "data": {
            "text/plain": [
              "VAE(\n",
              "  (encoder): Encoder(\n",
              "    (fc1): Linear(in_features=784, out_features=256, bias=True)\n",
              "    (fc2): Linear(in_features=256, out_features=2, bias=True)\n",
              "    (fc3): Linear(in_features=256, out_features=2, bias=True)\n",
              "  )\n",
              "  (decoder): Decoder(\n",
              "    (fc1): Linear(in_features=2, out_features=256, bias=True)\n",
              "    (fc2): Linear(in_features=256, out_features=784, bias=True)\n",
              "  )\n",
              ")"
            ]
          },
          "metadata": {
            "tags": []
          },
          "execution_count": 14
        }
      ]
    },
    {
      "cell_type": "code",
      "metadata": {
        "id": "-48ac1qqUplu"
      },
      "source": [
        "def loop(net, batches, train):\r\n",
        "    batch_losses = []\r\n",
        "\r\n",
        "    if train:\r\n",
        "        print(\"Train Loop:\")\r\n",
        "        print(\"\")\r\n",
        "        net.train()\r\n",
        "\r\n",
        "        for x, _ in tqdm.tqdm(batches, total=len(batches)):\r\n",
        "            x = x.view(-1, 28 * 28)\r\n",
        "            x = x.to(device)\r\n",
        "\r\n",
        "            gen_x, mean, log_var = net(x)\r\n",
        "            loss = loss_fn(x, gen_x, mean, log_var)\r\n",
        "\r\n",
        "            opt.zero_grad()\r\n",
        "            loss.backward()\r\n",
        "            opt.step()\r\n",
        "            batch_losses.append(loss.item())\r\n",
        "\r\n",
        "    else:\r\n",
        "        print(\"Test Loop:\")\r\n",
        "        print(\"\")\r\n",
        "        net.eval()\r\n",
        "\r\n",
        "        with torch.no_grad():\r\n",
        "            for x, _ in tqdm.tqdm(batches, total=len(batches)):\r\n",
        "                x = x.view(-1, 28 * 28)\r\n",
        "                x = x.to(device)\r\n",
        "\r\n",
        "                gen_x, mean, log_var = net(x)\r\n",
        "                loss = loss_fn(x, gen_x, mean, log_var)\r\n",
        "                batch_losses.append(loss.item())\r\n",
        "\r\n",
        "\r\n",
        "    print(\"\")\r\n",
        "    print(\"\")\r\n",
        "    return sum(batch_losses) / len(batch_losses)"
      ],
      "execution_count": 15,
      "outputs": []
    },
    {
      "cell_type": "code",
      "metadata": {
        "colab": {
          "base_uri": "https://localhost:8080/"
        },
        "id": "VnauNjOBUpjk",
        "outputId": "0b379f77-5ce1-49af-afed-15198976e3f6"
      },
      "source": [
        "for epoch in range(epochs):\r\n",
        "    train_loss = loop(net, train_batches, True)\r\n",
        "    test_loss = loop(net, test_batches, False)\r\n",
        "\r\n",
        "    if epoch % 10 == 0:\r\n",
        "        save_fake_images(epoch)\r\n",
        "\r\n",
        "    print(f\"epoch: {epoch} | train_loss: {train_loss:.4f} | test_loss: {test_loss:.4f}\")\r\n",
        "    print(\"\")"
      ],
      "execution_count": 16,
      "outputs": [
        {
          "output_type": "stream",
          "text": [
            "  1%|          | 6/938 [00:00<00:16, 55.60it/s]"
          ],
          "name": "stderr"
        },
        {
          "output_type": "stream",
          "text": [
            "Train Loop:\n",
            "\n"
          ],
          "name": "stdout"
        },
        {
          "output_type": "stream",
          "text": [
            "100%|██████████| 938/938 [00:13<00:00, 71.35it/s]\n",
            "  8%|▊         | 12/157 [00:00<00:01, 113.01it/s]"
          ],
          "name": "stderr"
        },
        {
          "output_type": "stream",
          "text": [
            "\n",
            "\n",
            "Test Loop:\n",
            "\n"
          ],
          "name": "stdout"
        },
        {
          "output_type": "stream",
          "text": [
            "100%|██████████| 157/157 [00:01<00:00, 104.26it/s]\n",
            "  1%|          | 7/938 [00:00<00:15, 61.98it/s]"
          ],
          "name": "stderr"
        },
        {
          "output_type": "stream",
          "text": [
            "\n",
            "\n",
            "\n",
            "Image Saved!\n",
            "\n",
            "epoch: 0 | train_loss: 11772.5261 | test_loss: 10705.4632\n",
            "\n",
            "Train Loop:\n",
            "\n"
          ],
          "name": "stdout"
        },
        {
          "output_type": "stream",
          "text": [
            "100%|██████████| 938/938 [00:12<00:00, 76.06it/s]\n",
            "  8%|▊         | 12/157 [00:00<00:01, 113.12it/s]"
          ],
          "name": "stderr"
        },
        {
          "output_type": "stream",
          "text": [
            "\n",
            "\n",
            "Test Loop:\n",
            "\n"
          ],
          "name": "stdout"
        },
        {
          "output_type": "stream",
          "text": [
            "100%|██████████| 157/157 [00:01<00:00, 106.09it/s]\n",
            "  1%|          | 8/938 [00:00<00:11, 78.42it/s]"
          ],
          "name": "stderr"
        },
        {
          "output_type": "stream",
          "text": [
            "\n",
            "\n",
            "epoch: 1 | train_loss: 10570.0190 | test_loss: 10420.8339\n",
            "\n",
            "Train Loop:\n",
            "\n"
          ],
          "name": "stdout"
        },
        {
          "output_type": "stream",
          "text": [
            "100%|██████████| 938/938 [00:12<00:00, 75.40it/s]\n",
            "  7%|▋         | 11/157 [00:00<00:01, 102.67it/s]"
          ],
          "name": "stderr"
        },
        {
          "output_type": "stream",
          "text": [
            "\n",
            "\n",
            "Test Loop:\n",
            "\n"
          ],
          "name": "stdout"
        },
        {
          "output_type": "stream",
          "text": [
            "100%|██████████| 157/157 [00:01<00:00, 100.55it/s]\n",
            "  1%|          | 7/938 [00:00<00:15, 62.04it/s]"
          ],
          "name": "stderr"
        },
        {
          "output_type": "stream",
          "text": [
            "\n",
            "\n",
            "epoch: 2 | train_loss: 10374.9378 | test_loss: 10282.2446\n",
            "\n",
            "Train Loop:\n",
            "\n"
          ],
          "name": "stdout"
        },
        {
          "output_type": "stream",
          "text": [
            "100%|██████████| 938/938 [00:13<00:00, 71.96it/s]\n",
            "  6%|▌         | 9/157 [00:00<00:01, 86.83it/s]"
          ],
          "name": "stderr"
        },
        {
          "output_type": "stream",
          "text": [
            "\n",
            "\n",
            "Test Loop:\n",
            "\n"
          ],
          "name": "stdout"
        },
        {
          "output_type": "stream",
          "text": [
            "100%|██████████| 157/157 [00:01<00:00, 96.39it/s]\n",
            "  1%|          | 8/938 [00:00<00:12, 76.76it/s]"
          ],
          "name": "stderr"
        },
        {
          "output_type": "stream",
          "text": [
            "\n",
            "\n",
            "epoch: 3 | train_loss: 10257.5942 | test_loss: 10183.8895\n",
            "\n",
            "Train Loop:\n",
            "\n"
          ],
          "name": "stdout"
        },
        {
          "output_type": "stream",
          "text": [
            "100%|██████████| 938/938 [00:12<00:00, 72.93it/s]\n",
            "  6%|▋         | 10/157 [00:00<00:01, 95.04it/s]"
          ],
          "name": "stderr"
        },
        {
          "output_type": "stream",
          "text": [
            "\n",
            "\n",
            "Test Loop:\n",
            "\n"
          ],
          "name": "stdout"
        },
        {
          "output_type": "stream",
          "text": [
            "100%|██████████| 157/157 [00:01<00:00, 97.61it/s] \n",
            "  1%|          | 8/938 [00:00<00:12, 77.49it/s]"
          ],
          "name": "stderr"
        },
        {
          "output_type": "stream",
          "text": [
            "\n",
            "\n",
            "epoch: 4 | train_loss: 10162.9588 | test_loss: 10101.7529\n",
            "\n",
            "Train Loop:\n",
            "\n"
          ],
          "name": "stdout"
        },
        {
          "output_type": "stream",
          "text": [
            "100%|██████████| 938/938 [00:12<00:00, 73.02it/s]\n",
            "  6%|▋         | 10/157 [00:00<00:01, 95.00it/s]"
          ],
          "name": "stderr"
        },
        {
          "output_type": "stream",
          "text": [
            "\n",
            "\n",
            "Test Loop:\n",
            "\n"
          ],
          "name": "stdout"
        },
        {
          "output_type": "stream",
          "text": [
            "100%|██████████| 157/157 [00:01<00:00, 101.09it/s]\n",
            "  1%|          | 8/938 [00:00<00:12, 74.79it/s]"
          ],
          "name": "stderr"
        },
        {
          "output_type": "stream",
          "text": [
            "\n",
            "\n",
            "epoch: 5 | train_loss: 10084.6697 | test_loss: 10043.2757\n",
            "\n",
            "Train Loop:\n",
            "\n"
          ],
          "name": "stdout"
        },
        {
          "output_type": "stream",
          "text": [
            "100%|██████████| 938/938 [00:12<00:00, 73.05it/s]\n",
            "  8%|▊         | 12/157 [00:00<00:01, 119.72it/s]"
          ],
          "name": "stderr"
        },
        {
          "output_type": "stream",
          "text": [
            "\n",
            "\n",
            "Test Loop:\n",
            "\n"
          ],
          "name": "stdout"
        },
        {
          "output_type": "stream",
          "text": [
            "100%|██████████| 157/157 [00:01<00:00, 110.97it/s]\n",
            "  1%|          | 9/938 [00:00<00:11, 80.85it/s]"
          ],
          "name": "stderr"
        },
        {
          "output_type": "stream",
          "text": [
            "\n",
            "\n",
            "epoch: 6 | train_loss: 10017.4489 | test_loss: 9990.2526\n",
            "\n",
            "Train Loop:\n",
            "\n"
          ],
          "name": "stdout"
        },
        {
          "output_type": "stream",
          "text": [
            "100%|██████████| 938/938 [00:12<00:00, 76.86it/s]\n",
            "  6%|▋         | 10/157 [00:00<00:01, 94.05it/s]"
          ],
          "name": "stderr"
        },
        {
          "output_type": "stream",
          "text": [
            "\n",
            "\n",
            "Test Loop:\n",
            "\n"
          ],
          "name": "stdout"
        },
        {
          "output_type": "stream",
          "text": [
            "100%|██████████| 157/157 [00:01<00:00, 101.87it/s]\n",
            "  1%|          | 8/938 [00:00<00:11, 79.38it/s]"
          ],
          "name": "stderr"
        },
        {
          "output_type": "stream",
          "text": [
            "\n",
            "\n",
            "epoch: 7 | train_loss: 9961.1812 | test_loss: 9946.3936\n",
            "\n",
            "Train Loop:\n",
            "\n"
          ],
          "name": "stdout"
        },
        {
          "output_type": "stream",
          "text": [
            "100%|██████████| 938/938 [00:12<00:00, 75.06it/s]\n",
            "  6%|▌         | 9/157 [00:00<00:01, 84.79it/s]"
          ],
          "name": "stderr"
        },
        {
          "output_type": "stream",
          "text": [
            "\n",
            "\n",
            "Test Loop:\n",
            "\n"
          ],
          "name": "stdout"
        },
        {
          "output_type": "stream",
          "text": [
            "100%|██████████| 157/157 [00:01<00:00, 96.74it/s] \n",
            "  1%|          | 8/938 [00:00<00:12, 74.73it/s]"
          ],
          "name": "stderr"
        },
        {
          "output_type": "stream",
          "text": [
            "\n",
            "\n",
            "epoch: 8 | train_loss: 9912.2705 | test_loss: 9890.8742\n",
            "\n",
            "Train Loop:\n",
            "\n"
          ],
          "name": "stdout"
        },
        {
          "output_type": "stream",
          "text": [
            "100%|██████████| 938/938 [00:12<00:00, 75.03it/s]\n",
            "  8%|▊         | 12/157 [00:00<00:01, 112.11it/s]"
          ],
          "name": "stderr"
        },
        {
          "output_type": "stream",
          "text": [
            "\n",
            "\n",
            "Test Loop:\n",
            "\n"
          ],
          "name": "stdout"
        },
        {
          "output_type": "stream",
          "text": [
            "100%|██████████| 157/157 [00:01<00:00, 111.42it/s]\n",
            "  1%|          | 6/938 [00:00<00:15, 59.39it/s]"
          ],
          "name": "stderr"
        },
        {
          "output_type": "stream",
          "text": [
            "\n",
            "\n",
            "epoch: 9 | train_loss: 9868.1242 | test_loss: 9849.1546\n",
            "\n",
            "Train Loop:\n",
            "\n"
          ],
          "name": "stdout"
        },
        {
          "output_type": "stream",
          "text": [
            "100%|██████████| 938/938 [00:13<00:00, 71.68it/s]\n",
            "  6%|▋         | 10/157 [00:00<00:01, 94.83it/s]"
          ],
          "name": "stderr"
        },
        {
          "output_type": "stream",
          "text": [
            "\n",
            "\n",
            "Test Loop:\n",
            "\n"
          ],
          "name": "stdout"
        },
        {
          "output_type": "stream",
          "text": [
            "100%|██████████| 157/157 [00:01<00:00, 109.45it/s]\n",
            "  1%|          | 8/938 [00:00<00:11, 78.01it/s]"
          ],
          "name": "stderr"
        },
        {
          "output_type": "stream",
          "text": [
            "\n",
            "\n",
            "\n",
            "Image Saved!\n",
            "\n",
            "epoch: 10 | train_loss: 9831.4275 | test_loss: 9816.4308\n",
            "\n",
            "Train Loop:\n",
            "\n"
          ],
          "name": "stdout"
        },
        {
          "output_type": "stream",
          "text": [
            "100%|██████████| 938/938 [00:12<00:00, 73.41it/s]\n",
            "  8%|▊         | 12/157 [00:00<00:01, 114.85it/s]"
          ],
          "name": "stderr"
        },
        {
          "output_type": "stream",
          "text": [
            "\n",
            "\n",
            "Test Loop:\n",
            "\n"
          ],
          "name": "stdout"
        },
        {
          "output_type": "stream",
          "text": [
            "100%|██████████| 157/157 [00:01<00:00, 110.71it/s]\n",
            "  1%|          | 8/938 [00:00<00:12, 75.78it/s]"
          ],
          "name": "stderr"
        },
        {
          "output_type": "stream",
          "text": [
            "\n",
            "\n",
            "epoch: 11 | train_loss: 9798.7049 | test_loss: 9807.8031\n",
            "\n",
            "Train Loop:\n",
            "\n"
          ],
          "name": "stdout"
        },
        {
          "output_type": "stream",
          "text": [
            "100%|██████████| 938/938 [00:13<00:00, 71.51it/s]\n",
            "  8%|▊         | 12/157 [00:00<00:01, 116.72it/s]"
          ],
          "name": "stderr"
        },
        {
          "output_type": "stream",
          "text": [
            "\n",
            "\n",
            "Test Loop:\n",
            "\n"
          ],
          "name": "stdout"
        },
        {
          "output_type": "stream",
          "text": [
            "100%|██████████| 157/157 [00:01<00:00, 111.48it/s]\n",
            "  1%|          | 8/938 [00:00<00:12, 74.18it/s]"
          ],
          "name": "stderr"
        },
        {
          "output_type": "stream",
          "text": [
            "\n",
            "\n",
            "epoch: 12 | train_loss: 9768.9114 | test_loss: 9767.8793\n",
            "\n",
            "Train Loop:\n",
            "\n"
          ],
          "name": "stdout"
        },
        {
          "output_type": "stream",
          "text": [
            "100%|██████████| 938/938 [00:12<00:00, 72.83it/s]\n",
            "  8%|▊         | 12/157 [00:00<00:01, 115.27it/s]"
          ],
          "name": "stderr"
        },
        {
          "output_type": "stream",
          "text": [
            "\n",
            "\n",
            "Test Loop:\n",
            "\n"
          ],
          "name": "stdout"
        },
        {
          "output_type": "stream",
          "text": [
            "100%|██████████| 157/157 [00:01<00:00, 96.17it/s]\n",
            "  1%|          | 6/938 [00:00<00:16, 57.98it/s]"
          ],
          "name": "stderr"
        },
        {
          "output_type": "stream",
          "text": [
            "\n",
            "\n",
            "epoch: 13 | train_loss: 9739.2394 | test_loss: 9752.4516\n",
            "\n",
            "Train Loop:\n",
            "\n"
          ],
          "name": "stdout"
        },
        {
          "output_type": "stream",
          "text": [
            "100%|██████████| 938/938 [00:12<00:00, 72.64it/s]\n",
            "  7%|▋         | 11/157 [00:00<00:01, 106.35it/s]"
          ],
          "name": "stderr"
        },
        {
          "output_type": "stream",
          "text": [
            "\n",
            "\n",
            "Test Loop:\n",
            "\n"
          ],
          "name": "stdout"
        },
        {
          "output_type": "stream",
          "text": [
            "100%|██████████| 157/157 [00:01<00:00, 110.88it/s]\n",
            "  1%|          | 7/938 [00:00<00:14, 62.20it/s]"
          ],
          "name": "stderr"
        },
        {
          "output_type": "stream",
          "text": [
            "\n",
            "\n",
            "epoch: 14 | train_loss: 9715.2238 | test_loss: 9731.7283\n",
            "\n",
            "Train Loop:\n",
            "\n"
          ],
          "name": "stdout"
        },
        {
          "output_type": "stream",
          "text": [
            "100%|██████████| 938/938 [00:12<00:00, 72.87it/s]\n",
            "  7%|▋         | 11/157 [00:00<00:01, 104.18it/s]"
          ],
          "name": "stderr"
        },
        {
          "output_type": "stream",
          "text": [
            "\n",
            "\n",
            "Test Loop:\n",
            "\n"
          ],
          "name": "stdout"
        },
        {
          "output_type": "stream",
          "text": [
            "100%|██████████| 157/157 [00:01<00:00, 109.20it/s]\n",
            "  1%|          | 8/938 [00:00<00:12, 77.22it/s]"
          ],
          "name": "stderr"
        },
        {
          "output_type": "stream",
          "text": [
            "\n",
            "\n",
            "epoch: 15 | train_loss: 9691.6579 | test_loss: 9706.4285\n",
            "\n",
            "Train Loop:\n",
            "\n"
          ],
          "name": "stdout"
        },
        {
          "output_type": "stream",
          "text": [
            "100%|██████████| 938/938 [00:12<00:00, 75.67it/s]\n",
            "  8%|▊         | 12/157 [00:00<00:01, 114.26it/s]"
          ],
          "name": "stderr"
        },
        {
          "output_type": "stream",
          "text": [
            "\n",
            "\n",
            "Test Loop:\n",
            "\n"
          ],
          "name": "stdout"
        },
        {
          "output_type": "stream",
          "text": [
            "100%|██████████| 157/157 [00:01<00:00, 107.81it/s]\n",
            "  1%|          | 7/938 [00:00<00:15, 61.73it/s]"
          ],
          "name": "stderr"
        },
        {
          "output_type": "stream",
          "text": [
            "\n",
            "\n",
            "epoch: 16 | train_loss: 9665.5332 | test_loss: 9680.2492\n",
            "\n",
            "Train Loop:\n",
            "\n"
          ],
          "name": "stdout"
        },
        {
          "output_type": "stream",
          "text": [
            "100%|██████████| 938/938 [00:12<00:00, 72.20it/s]\n",
            "  8%|▊         | 12/157 [00:00<00:01, 111.90it/s]"
          ],
          "name": "stderr"
        },
        {
          "output_type": "stream",
          "text": [
            "\n",
            "\n",
            "Test Loop:\n",
            "\n"
          ],
          "name": "stdout"
        },
        {
          "output_type": "stream",
          "text": [
            "100%|██████████| 157/157 [00:01<00:00, 112.20it/s]\n",
            "  1%|          | 9/938 [00:00<00:11, 80.02it/s]"
          ],
          "name": "stderr"
        },
        {
          "output_type": "stream",
          "text": [
            "\n",
            "\n",
            "epoch: 17 | train_loss: 9646.5712 | test_loss: 9660.4648\n",
            "\n",
            "Train Loop:\n",
            "\n"
          ],
          "name": "stdout"
        },
        {
          "output_type": "stream",
          "text": [
            "100%|██████████| 938/938 [00:12<00:00, 74.45it/s]\n",
            "  8%|▊         | 12/157 [00:00<00:01, 113.78it/s]"
          ],
          "name": "stderr"
        },
        {
          "output_type": "stream",
          "text": [
            "\n",
            "\n",
            "Test Loop:\n",
            "\n"
          ],
          "name": "stdout"
        },
        {
          "output_type": "stream",
          "text": [
            "100%|██████████| 157/157 [00:01<00:00, 103.29it/s]\n",
            "  1%|          | 8/938 [00:00<00:12, 76.89it/s]"
          ],
          "name": "stderr"
        },
        {
          "output_type": "stream",
          "text": [
            "\n",
            "\n",
            "epoch: 18 | train_loss: 9628.4247 | test_loss: 9644.5588\n",
            "\n",
            "Train Loop:\n",
            "\n"
          ],
          "name": "stdout"
        },
        {
          "output_type": "stream",
          "text": [
            "100%|██████████| 938/938 [00:12<00:00, 75.41it/s]\n",
            "  8%|▊         | 12/157 [00:00<00:01, 110.86it/s]"
          ],
          "name": "stderr"
        },
        {
          "output_type": "stream",
          "text": [
            "\n",
            "\n",
            "Test Loop:\n",
            "\n"
          ],
          "name": "stdout"
        },
        {
          "output_type": "stream",
          "text": [
            "100%|██████████| 157/157 [00:01<00:00, 105.64it/s]\n",
            "  1%|          | 8/938 [00:00<00:12, 74.69it/s]"
          ],
          "name": "stderr"
        },
        {
          "output_type": "stream",
          "text": [
            "\n",
            "\n",
            "epoch: 19 | train_loss: 9610.2973 | test_loss: 9643.5065\n",
            "\n",
            "Train Loop:\n",
            "\n"
          ],
          "name": "stdout"
        },
        {
          "output_type": "stream",
          "text": [
            "100%|██████████| 938/938 [00:12<00:00, 72.60it/s]\n",
            "  6%|▌         | 9/157 [00:00<00:01, 87.82it/s]"
          ],
          "name": "stderr"
        },
        {
          "output_type": "stream",
          "text": [
            "\n",
            "\n",
            "Test Loop:\n",
            "\n"
          ],
          "name": "stdout"
        },
        {
          "output_type": "stream",
          "text": [
            "100%|██████████| 157/157 [00:01<00:00, 105.48it/s]\n",
            "  1%|          | 8/938 [00:00<00:11, 77.97it/s]"
          ],
          "name": "stderr"
        },
        {
          "output_type": "stream",
          "text": [
            "\n",
            "\n",
            "\n",
            "Image Saved!\n",
            "\n",
            "epoch: 20 | train_loss: 9592.7958 | test_loss: 9637.9149\n",
            "\n",
            "Train Loop:\n",
            "\n"
          ],
          "name": "stdout"
        },
        {
          "output_type": "stream",
          "text": [
            "100%|██████████| 938/938 [00:12<00:00, 72.91it/s]\n",
            "  6%|▋         | 10/157 [00:00<00:01, 95.44it/s]"
          ],
          "name": "stderr"
        },
        {
          "output_type": "stream",
          "text": [
            "\n",
            "\n",
            "Test Loop:\n",
            "\n"
          ],
          "name": "stdout"
        },
        {
          "output_type": "stream",
          "text": [
            "100%|██████████| 157/157 [00:01<00:00, 108.96it/s]\n",
            "  1%|          | 8/938 [00:00<00:12, 72.52it/s]"
          ],
          "name": "stderr"
        },
        {
          "output_type": "stream",
          "text": [
            "\n",
            "\n",
            "epoch: 21 | train_loss: 9577.0696 | test_loss: 9614.1136\n",
            "\n",
            "Train Loop:\n",
            "\n"
          ],
          "name": "stdout"
        },
        {
          "output_type": "stream",
          "text": [
            "100%|██████████| 938/938 [00:12<00:00, 73.49it/s]\n",
            "  7%|▋         | 11/157 [00:00<00:01, 107.49it/s]"
          ],
          "name": "stderr"
        },
        {
          "output_type": "stream",
          "text": [
            "\n",
            "\n",
            "Test Loop:\n",
            "\n"
          ],
          "name": "stdout"
        },
        {
          "output_type": "stream",
          "text": [
            "100%|██████████| 157/157 [00:01<00:00, 110.52it/s]\n",
            "  1%|          | 8/938 [00:00<00:11, 77.51it/s]"
          ],
          "name": "stderr"
        },
        {
          "output_type": "stream",
          "text": [
            "\n",
            "\n",
            "epoch: 22 | train_loss: 9564.9165 | test_loss: 9624.1744\n",
            "\n",
            "Train Loop:\n",
            "\n"
          ],
          "name": "stdout"
        },
        {
          "output_type": "stream",
          "text": [
            "100%|██████████| 938/938 [00:12<00:00, 75.88it/s]\n",
            "  6%|▋         | 10/157 [00:00<00:01, 94.96it/s]"
          ],
          "name": "stderr"
        },
        {
          "output_type": "stream",
          "text": [
            "\n",
            "\n",
            "Test Loop:\n",
            "\n"
          ],
          "name": "stdout"
        },
        {
          "output_type": "stream",
          "text": [
            "100%|██████████| 157/157 [00:01<00:00, 109.68it/s]\n",
            "  1%|          | 8/938 [00:00<00:12, 75.40it/s]"
          ],
          "name": "stderr"
        },
        {
          "output_type": "stream",
          "text": [
            "\n",
            "\n",
            "epoch: 23 | train_loss: 9548.8832 | test_loss: 9591.7325\n",
            "\n",
            "Train Loop:\n",
            "\n"
          ],
          "name": "stdout"
        },
        {
          "output_type": "stream",
          "text": [
            "100%|██████████| 938/938 [00:12<00:00, 75.83it/s]\n",
            "  6%|▌         | 9/157 [00:00<00:01, 89.21it/s]"
          ],
          "name": "stderr"
        },
        {
          "output_type": "stream",
          "text": [
            "\n",
            "\n",
            "Test Loop:\n",
            "\n"
          ],
          "name": "stdout"
        },
        {
          "output_type": "stream",
          "text": [
            "100%|██████████| 157/157 [00:01<00:00, 93.10it/s]\n",
            "  1%|          | 7/938 [00:00<00:14, 62.37it/s]"
          ],
          "name": "stderr"
        },
        {
          "output_type": "stream",
          "text": [
            "\n",
            "\n",
            "epoch: 24 | train_loss: 9530.7850 | test_loss: 9571.9145\n",
            "\n",
            "Train Loop:\n",
            "\n"
          ],
          "name": "stdout"
        },
        {
          "output_type": "stream",
          "text": [
            "100%|██████████| 938/938 [00:12<00:00, 74.14it/s]\n",
            "  6%|▋         | 10/157 [00:00<00:01, 91.48it/s]"
          ],
          "name": "stderr"
        },
        {
          "output_type": "stream",
          "text": [
            "\n",
            "\n",
            "Test Loop:\n",
            "\n"
          ],
          "name": "stdout"
        },
        {
          "output_type": "stream",
          "text": [
            "100%|██████████| 157/157 [00:01<00:00, 103.02it/s]\n",
            "  1%|          | 8/938 [00:00<00:12, 76.70it/s]"
          ],
          "name": "stderr"
        },
        {
          "output_type": "stream",
          "text": [
            "\n",
            "\n",
            "epoch: 25 | train_loss: 9518.4948 | test_loss: 9602.1993\n",
            "\n",
            "Train Loop:\n",
            "\n"
          ],
          "name": "stdout"
        },
        {
          "output_type": "stream",
          "text": [
            "100%|██████████| 938/938 [00:12<00:00, 74.33it/s]\n",
            "  8%|▊         | 12/157 [00:00<00:01, 116.04it/s]"
          ],
          "name": "stderr"
        },
        {
          "output_type": "stream",
          "text": [
            "\n",
            "\n",
            "Test Loop:\n",
            "\n"
          ],
          "name": "stdout"
        },
        {
          "output_type": "stream",
          "text": [
            "100%|██████████| 157/157 [00:01<00:00, 105.05it/s]\n",
            "  1%|          | 8/938 [00:00<00:12, 73.35it/s]"
          ],
          "name": "stderr"
        },
        {
          "output_type": "stream",
          "text": [
            "\n",
            "\n",
            "epoch: 26 | train_loss: 9507.1301 | test_loss: 9576.5417\n",
            "\n",
            "Train Loop:\n",
            "\n"
          ],
          "name": "stdout"
        },
        {
          "output_type": "stream",
          "text": [
            "100%|██████████| 938/938 [00:12<00:00, 76.31it/s]\n",
            "  8%|▊         | 12/157 [00:00<00:01, 114.18it/s]"
          ],
          "name": "stderr"
        },
        {
          "output_type": "stream",
          "text": [
            "\n",
            "\n",
            "Test Loop:\n",
            "\n"
          ],
          "name": "stdout"
        },
        {
          "output_type": "stream",
          "text": [
            "100%|██████████| 157/157 [00:01<00:00, 106.02it/s]\n",
            "  1%|          | 7/938 [00:00<00:13, 69.83it/s]"
          ],
          "name": "stderr"
        },
        {
          "output_type": "stream",
          "text": [
            "\n",
            "\n",
            "epoch: 27 | train_loss: 9493.8755 | test_loss: 9563.0993\n",
            "\n",
            "Train Loop:\n",
            "\n"
          ],
          "name": "stdout"
        },
        {
          "output_type": "stream",
          "text": [
            "100%|██████████| 938/938 [00:12<00:00, 73.81it/s]\n",
            "  8%|▊         | 12/157 [00:00<00:01, 112.45it/s]"
          ],
          "name": "stderr"
        },
        {
          "output_type": "stream",
          "text": [
            "\n",
            "\n",
            "Test Loop:\n",
            "\n"
          ],
          "name": "stdout"
        },
        {
          "output_type": "stream",
          "text": [
            "100%|██████████| 157/157 [00:01<00:00, 112.91it/s]\n",
            "  1%|          | 8/938 [00:00<00:12, 77.40it/s]"
          ],
          "name": "stderr"
        },
        {
          "output_type": "stream",
          "text": [
            "\n",
            "\n",
            "epoch: 28 | train_loss: 9481.3710 | test_loss: 9558.2014\n",
            "\n",
            "Train Loop:\n",
            "\n"
          ],
          "name": "stdout"
        },
        {
          "output_type": "stream",
          "text": [
            "100%|██████████| 938/938 [00:13<00:00, 70.08it/s]\n",
            "  8%|▊         | 12/157 [00:00<00:01, 113.41it/s]"
          ],
          "name": "stderr"
        },
        {
          "output_type": "stream",
          "text": [
            "\n",
            "\n",
            "Test Loop:\n",
            "\n"
          ],
          "name": "stdout"
        },
        {
          "output_type": "stream",
          "text": [
            "100%|██████████| 157/157 [00:01<00:00, 96.85it/s]\n",
            "  1%|          | 8/938 [00:00<00:11, 79.38it/s]"
          ],
          "name": "stderr"
        },
        {
          "output_type": "stream",
          "text": [
            "\n",
            "\n",
            "epoch: 29 | train_loss: 9470.9681 | test_loss: 9545.9701\n",
            "\n",
            "Train Loop:\n",
            "\n"
          ],
          "name": "stdout"
        },
        {
          "output_type": "stream",
          "text": [
            "100%|██████████| 938/938 [00:12<00:00, 75.00it/s]\n",
            "  6%|▋         | 10/157 [00:00<00:01, 93.91it/s]"
          ],
          "name": "stderr"
        },
        {
          "output_type": "stream",
          "text": [
            "\n",
            "\n",
            "Test Loop:\n",
            "\n"
          ],
          "name": "stdout"
        },
        {
          "output_type": "stream",
          "text": [
            "100%|██████████| 157/157 [00:01<00:00, 97.05it/s]\n",
            "  1%|          | 7/938 [00:00<00:14, 65.65it/s]"
          ],
          "name": "stderr"
        },
        {
          "output_type": "stream",
          "text": [
            "\n",
            "\n",
            "\n",
            "Image Saved!\n",
            "\n",
            "epoch: 30 | train_loss: 9460.4416 | test_loss: 9545.5482\n",
            "\n",
            "Train Loop:\n",
            "\n"
          ],
          "name": "stdout"
        },
        {
          "output_type": "stream",
          "text": [
            "100%|██████████| 938/938 [00:12<00:00, 72.43it/s]\n",
            "  8%|▊         | 12/157 [00:00<00:01, 117.20it/s]"
          ],
          "name": "stderr"
        },
        {
          "output_type": "stream",
          "text": [
            "\n",
            "\n",
            "Test Loop:\n",
            "\n"
          ],
          "name": "stdout"
        },
        {
          "output_type": "stream",
          "text": [
            "100%|██████████| 157/157 [00:01<00:00, 112.90it/s]\n",
            "  1%|          | 9/938 [00:00<00:11, 82.04it/s]"
          ],
          "name": "stderr"
        },
        {
          "output_type": "stream",
          "text": [
            "\n",
            "\n",
            "epoch: 31 | train_loss: 9454.4182 | test_loss: 9527.8527\n",
            "\n",
            "Train Loop:\n",
            "\n"
          ],
          "name": "stdout"
        },
        {
          "output_type": "stream",
          "text": [
            "100%|██████████| 938/938 [00:12<00:00, 77.47it/s]\n",
            "  8%|▊         | 12/157 [00:00<00:01, 117.62it/s]"
          ],
          "name": "stderr"
        },
        {
          "output_type": "stream",
          "text": [
            "\n",
            "\n",
            "Test Loop:\n",
            "\n"
          ],
          "name": "stdout"
        },
        {
          "output_type": "stream",
          "text": [
            "100%|██████████| 157/157 [00:01<00:00, 106.41it/s]\n",
            "  1%|          | 8/938 [00:00<00:12, 77.32it/s]"
          ],
          "name": "stderr"
        },
        {
          "output_type": "stream",
          "text": [
            "\n",
            "\n",
            "epoch: 32 | train_loss: 9441.6053 | test_loss: 9538.0316\n",
            "\n",
            "Train Loop:\n",
            "\n"
          ],
          "name": "stdout"
        },
        {
          "output_type": "stream",
          "text": [
            "100%|██████████| 938/938 [00:12<00:00, 75.30it/s]\n",
            "  6%|▋         | 10/157 [00:00<00:01, 90.91it/s]"
          ],
          "name": "stderr"
        },
        {
          "output_type": "stream",
          "text": [
            "\n",
            "\n",
            "Test Loop:\n",
            "\n"
          ],
          "name": "stdout"
        },
        {
          "output_type": "stream",
          "text": [
            "100%|██████████| 157/157 [00:01<00:00, 95.41it/s]\n",
            "  1%|          | 9/938 [00:00<00:11, 81.37it/s]"
          ],
          "name": "stderr"
        },
        {
          "output_type": "stream",
          "text": [
            "\n",
            "\n",
            "epoch: 33 | train_loss: 9432.2537 | test_loss: 9522.5656\n",
            "\n",
            "Train Loop:\n",
            "\n"
          ],
          "name": "stdout"
        },
        {
          "output_type": "stream",
          "text": [
            "100%|██████████| 938/938 [00:12<00:00, 73.24it/s]\n",
            "  8%|▊         | 12/157 [00:00<00:01, 113.49it/s]"
          ],
          "name": "stderr"
        },
        {
          "output_type": "stream",
          "text": [
            "\n",
            "\n",
            "Test Loop:\n",
            "\n"
          ],
          "name": "stdout"
        },
        {
          "output_type": "stream",
          "text": [
            "100%|██████████| 157/157 [00:01<00:00, 101.43it/s]\n",
            "  1%|          | 9/938 [00:00<00:11, 81.85it/s]"
          ],
          "name": "stderr"
        },
        {
          "output_type": "stream",
          "text": [
            "\n",
            "\n",
            "epoch: 34 | train_loss: 9426.3604 | test_loss: 9524.2547\n",
            "\n",
            "Train Loop:\n",
            "\n"
          ],
          "name": "stdout"
        },
        {
          "output_type": "stream",
          "text": [
            "100%|██████████| 938/938 [00:12<00:00, 77.08it/s]\n",
            "  8%|▊         | 13/157 [00:00<00:01, 121.66it/s]"
          ],
          "name": "stderr"
        },
        {
          "output_type": "stream",
          "text": [
            "\n",
            "\n",
            "Test Loop:\n",
            "\n"
          ],
          "name": "stdout"
        },
        {
          "output_type": "stream",
          "text": [
            "100%|██████████| 157/157 [00:01<00:00, 107.53it/s]\n",
            "  1%|          | 8/938 [00:00<00:13, 70.51it/s]"
          ],
          "name": "stderr"
        },
        {
          "output_type": "stream",
          "text": [
            "\n",
            "\n",
            "epoch: 35 | train_loss: 9412.7249 | test_loss: 9520.8743\n",
            "\n",
            "Train Loop:\n",
            "\n"
          ],
          "name": "stdout"
        },
        {
          "output_type": "stream",
          "text": [
            "100%|██████████| 938/938 [00:12<00:00, 74.79it/s]\n",
            "  6%|▋         | 10/157 [00:00<00:01, 95.24it/s]"
          ],
          "name": "stderr"
        },
        {
          "output_type": "stream",
          "text": [
            "\n",
            "\n",
            "Test Loop:\n",
            "\n"
          ],
          "name": "stdout"
        },
        {
          "output_type": "stream",
          "text": [
            "100%|██████████| 157/157 [00:01<00:00, 104.61it/s]\n",
            "  1%|          | 7/938 [00:00<00:14, 62.70it/s]"
          ],
          "name": "stderr"
        },
        {
          "output_type": "stream",
          "text": [
            "\n",
            "\n",
            "epoch: 36 | train_loss: 9407.3194 | test_loss: 9510.3111\n",
            "\n",
            "Train Loop:\n",
            "\n"
          ],
          "name": "stdout"
        },
        {
          "output_type": "stream",
          "text": [
            "100%|██████████| 938/938 [00:12<00:00, 75.72it/s]\n",
            "  8%|▊         | 12/157 [00:00<00:01, 117.28it/s]"
          ],
          "name": "stderr"
        },
        {
          "output_type": "stream",
          "text": [
            "\n",
            "\n",
            "Test Loop:\n",
            "\n"
          ],
          "name": "stdout"
        },
        {
          "output_type": "stream",
          "text": [
            "100%|██████████| 157/157 [00:01<00:00, 114.95it/s]\n",
            "  1%|          | 9/938 [00:00<00:10, 84.61it/s]"
          ],
          "name": "stderr"
        },
        {
          "output_type": "stream",
          "text": [
            "\n",
            "\n",
            "epoch: 37 | train_loss: 9398.8468 | test_loss: 9514.1134\n",
            "\n",
            "Train Loop:\n",
            "\n"
          ],
          "name": "stdout"
        },
        {
          "output_type": "stream",
          "text": [
            "100%|██████████| 938/938 [00:12<00:00, 73.10it/s]\n",
            "  8%|▊         | 12/157 [00:00<00:01, 116.48it/s]"
          ],
          "name": "stderr"
        },
        {
          "output_type": "stream",
          "text": [
            "\n",
            "\n",
            "Test Loop:\n",
            "\n"
          ],
          "name": "stdout"
        },
        {
          "output_type": "stream",
          "text": [
            "100%|██████████| 157/157 [00:01<00:00, 102.86it/s]\n",
            "  1%|          | 8/938 [00:00<00:12, 76.22it/s]"
          ],
          "name": "stderr"
        },
        {
          "output_type": "stream",
          "text": [
            "\n",
            "\n",
            "epoch: 38 | train_loss: 9390.9693 | test_loss: 9512.1499\n",
            "\n",
            "Train Loop:\n",
            "\n"
          ],
          "name": "stdout"
        },
        {
          "output_type": "stream",
          "text": [
            "100%|██████████| 938/938 [00:11<00:00, 79.51it/s]\n",
            "  6%|▌         | 9/157 [00:00<00:01, 86.88it/s]"
          ],
          "name": "stderr"
        },
        {
          "output_type": "stream",
          "text": [
            "\n",
            "\n",
            "Test Loop:\n",
            "\n"
          ],
          "name": "stdout"
        },
        {
          "output_type": "stream",
          "text": [
            "100%|██████████| 157/157 [00:01<00:00, 110.49it/s]\n",
            "  1%|          | 9/938 [00:00<00:11, 81.97it/s]"
          ],
          "name": "stderr"
        },
        {
          "output_type": "stream",
          "text": [
            "\n",
            "\n",
            "epoch: 39 | train_loss: 9382.9303 | test_loss: 9496.8383\n",
            "\n",
            "Train Loop:\n",
            "\n"
          ],
          "name": "stdout"
        },
        {
          "output_type": "stream",
          "text": [
            "100%|██████████| 938/938 [00:12<00:00, 77.37it/s]\n",
            "  8%|▊         | 12/157 [00:00<00:01, 112.00it/s]"
          ],
          "name": "stderr"
        },
        {
          "output_type": "stream",
          "text": [
            "\n",
            "\n",
            "Test Loop:\n",
            "\n"
          ],
          "name": "stdout"
        },
        {
          "output_type": "stream",
          "text": [
            "100%|██████████| 157/157 [00:01<00:00, 107.48it/s]\n",
            "  1%|          | 9/938 [00:00<00:11, 82.08it/s]"
          ],
          "name": "stderr"
        },
        {
          "output_type": "stream",
          "text": [
            "\n",
            "\n",
            "\n",
            "Image Saved!\n",
            "\n",
            "epoch: 40 | train_loss: 9375.2841 | test_loss: 9505.2133\n",
            "\n",
            "Train Loop:\n",
            "\n"
          ],
          "name": "stdout"
        },
        {
          "output_type": "stream",
          "text": [
            "100%|██████████| 938/938 [00:12<00:00, 74.85it/s]\n",
            "  8%|▊         | 12/157 [00:00<00:01, 118.73it/s]"
          ],
          "name": "stderr"
        },
        {
          "output_type": "stream",
          "text": [
            "\n",
            "\n",
            "Test Loop:\n",
            "\n"
          ],
          "name": "stdout"
        },
        {
          "output_type": "stream",
          "text": [
            "100%|██████████| 157/157 [00:01<00:00, 118.54it/s]\n",
            "  1%|          | 9/938 [00:00<00:11, 84.07it/s]"
          ],
          "name": "stderr"
        },
        {
          "output_type": "stream",
          "text": [
            "\n",
            "\n",
            "epoch: 41 | train_loss: 9368.7254 | test_loss: 9483.2234\n",
            "\n",
            "Train Loop:\n",
            "\n"
          ],
          "name": "stdout"
        },
        {
          "output_type": "stream",
          "text": [
            "100%|██████████| 938/938 [00:12<00:00, 77.65it/s]\n",
            "  7%|▋         | 11/157 [00:00<00:01, 103.09it/s]"
          ],
          "name": "stderr"
        },
        {
          "output_type": "stream",
          "text": [
            "\n",
            "\n",
            "Test Loop:\n",
            "\n"
          ],
          "name": "stdout"
        },
        {
          "output_type": "stream",
          "text": [
            "100%|██████████| 157/157 [00:01<00:00, 94.09it/s]\n",
            "  1%|          | 8/938 [00:00<00:12, 71.73it/s]"
          ],
          "name": "stderr"
        },
        {
          "output_type": "stream",
          "text": [
            "\n",
            "\n",
            "epoch: 42 | train_loss: 9358.5783 | test_loss: 9509.7674\n",
            "\n",
            "Train Loop:\n",
            "\n"
          ],
          "name": "stdout"
        },
        {
          "output_type": "stream",
          "text": [
            "100%|██████████| 938/938 [00:11<00:00, 78.46it/s]\n",
            "  8%|▊         | 13/157 [00:00<00:01, 125.15it/s]"
          ],
          "name": "stderr"
        },
        {
          "output_type": "stream",
          "text": [
            "\n",
            "\n",
            "Test Loop:\n",
            "\n"
          ],
          "name": "stdout"
        },
        {
          "output_type": "stream",
          "text": [
            "100%|██████████| 157/157 [00:01<00:00, 116.79it/s]\n",
            "  1%|          | 8/938 [00:00<00:11, 79.53it/s]"
          ],
          "name": "stderr"
        },
        {
          "output_type": "stream",
          "text": [
            "\n",
            "\n",
            "epoch: 43 | train_loss: 9353.7853 | test_loss: 9493.9573\n",
            "\n",
            "Train Loop:\n",
            "\n"
          ],
          "name": "stdout"
        },
        {
          "output_type": "stream",
          "text": [
            "100%|██████████| 938/938 [00:12<00:00, 76.58it/s]\n",
            "  8%|▊         | 12/157 [00:00<00:01, 115.49it/s]"
          ],
          "name": "stderr"
        },
        {
          "output_type": "stream",
          "text": [
            "\n",
            "\n",
            "Test Loop:\n",
            "\n"
          ],
          "name": "stdout"
        },
        {
          "output_type": "stream",
          "text": [
            "100%|██████████| 157/157 [00:01<00:00, 114.80it/s]\n",
            "  1%|          | 7/938 [00:00<00:13, 68.63it/s]"
          ],
          "name": "stderr"
        },
        {
          "output_type": "stream",
          "text": [
            "\n",
            "\n",
            "epoch: 44 | train_loss: 9347.0049 | test_loss: 9491.0522\n",
            "\n",
            "Train Loop:\n",
            "\n"
          ],
          "name": "stdout"
        },
        {
          "output_type": "stream",
          "text": [
            "100%|██████████| 938/938 [00:12<00:00, 77.99it/s]\n",
            "  8%|▊         | 12/157 [00:00<00:01, 115.50it/s]"
          ],
          "name": "stderr"
        },
        {
          "output_type": "stream",
          "text": [
            "\n",
            "\n",
            "Test Loop:\n",
            "\n"
          ],
          "name": "stdout"
        },
        {
          "output_type": "stream",
          "text": [
            "100%|██████████| 157/157 [00:01<00:00, 105.65it/s]\n",
            "  1%|          | 8/938 [00:00<00:11, 79.47it/s]"
          ],
          "name": "stderr"
        },
        {
          "output_type": "stream",
          "text": [
            "\n",
            "\n",
            "epoch: 45 | train_loss: 9340.7322 | test_loss: 9487.1228\n",
            "\n",
            "Train Loop:\n",
            "\n"
          ],
          "name": "stdout"
        },
        {
          "output_type": "stream",
          "text": [
            "100%|██████████| 938/938 [00:12<00:00, 75.74it/s]\n",
            "  8%|▊         | 13/157 [00:00<00:01, 121.55it/s]"
          ],
          "name": "stderr"
        },
        {
          "output_type": "stream",
          "text": [
            "\n",
            "\n",
            "Test Loop:\n",
            "\n"
          ],
          "name": "stdout"
        },
        {
          "output_type": "stream",
          "text": [
            "100%|██████████| 157/157 [00:01<00:00, 108.24it/s]\n",
            "  1%|          | 7/938 [00:00<00:14, 64.38it/s]"
          ],
          "name": "stderr"
        },
        {
          "output_type": "stream",
          "text": [
            "\n",
            "\n",
            "epoch: 46 | train_loss: 9334.5865 | test_loss: 9498.9306\n",
            "\n",
            "Train Loop:\n",
            "\n"
          ],
          "name": "stdout"
        },
        {
          "output_type": "stream",
          "text": [
            "100%|██████████| 938/938 [00:11<00:00, 78.58it/s]\n",
            "  6%|▋         | 10/157 [00:00<00:01, 98.93it/s]"
          ],
          "name": "stderr"
        },
        {
          "output_type": "stream",
          "text": [
            "\n",
            "\n",
            "Test Loop:\n",
            "\n"
          ],
          "name": "stdout"
        },
        {
          "output_type": "stream",
          "text": [
            "100%|██████████| 157/157 [00:01<00:00, 112.22it/s]\n",
            "  1%|          | 9/938 [00:00<00:11, 81.84it/s]"
          ],
          "name": "stderr"
        },
        {
          "output_type": "stream",
          "text": [
            "\n",
            "\n",
            "epoch: 47 | train_loss: 9326.8034 | test_loss: 9514.3308\n",
            "\n",
            "Train Loop:\n",
            "\n"
          ],
          "name": "stdout"
        },
        {
          "output_type": "stream",
          "text": [
            "100%|██████████| 938/938 [00:11<00:00, 78.41it/s]\n",
            "  8%|▊         | 12/157 [00:00<00:01, 111.89it/s]"
          ],
          "name": "stderr"
        },
        {
          "output_type": "stream",
          "text": [
            "\n",
            "\n",
            "Test Loop:\n",
            "\n"
          ],
          "name": "stdout"
        },
        {
          "output_type": "stream",
          "text": [
            "100%|██████████| 157/157 [00:01<00:00, 113.33it/s]\n",
            "  1%|          | 8/938 [00:00<00:12, 74.61it/s]"
          ],
          "name": "stderr"
        },
        {
          "output_type": "stream",
          "text": [
            "\n",
            "\n",
            "epoch: 48 | train_loss: 9324.9251 | test_loss: 9472.7793\n",
            "\n",
            "Train Loop:\n",
            "\n"
          ],
          "name": "stdout"
        },
        {
          "output_type": "stream",
          "text": [
            "100%|██████████| 938/938 [00:12<00:00, 76.23it/s]\n",
            "  8%|▊         | 12/157 [00:00<00:01, 112.60it/s]"
          ],
          "name": "stderr"
        },
        {
          "output_type": "stream",
          "text": [
            "\n",
            "\n",
            "Test Loop:\n",
            "\n"
          ],
          "name": "stdout"
        },
        {
          "output_type": "stream",
          "text": [
            "100%|██████████| 157/157 [00:01<00:00, 111.60it/s]\n",
            "  1%|          | 9/938 [00:00<00:11, 82.47it/s]"
          ],
          "name": "stderr"
        },
        {
          "output_type": "stream",
          "text": [
            "\n",
            "\n",
            "epoch: 49 | train_loss: 9319.2170 | test_loss: 9494.5717\n",
            "\n",
            "Train Loop:\n",
            "\n"
          ],
          "name": "stdout"
        },
        {
          "output_type": "stream",
          "text": [
            "100%|██████████| 938/938 [00:12<00:00, 74.06it/s]\n",
            "  7%|▋         | 11/157 [00:00<00:01, 101.85it/s]"
          ],
          "name": "stderr"
        },
        {
          "output_type": "stream",
          "text": [
            "\n",
            "\n",
            "Test Loop:\n",
            "\n"
          ],
          "name": "stdout"
        },
        {
          "output_type": "stream",
          "text": [
            "100%|██████████| 157/157 [00:01<00:00, 108.52it/s]"
          ],
          "name": "stderr"
        },
        {
          "output_type": "stream",
          "text": [
            "\n",
            "\n",
            "\n",
            "Image Saved!\n",
            "\n",
            "epoch: 50 | train_loss: 9311.5458 | test_loss: 9476.9731\n",
            "\n"
          ],
          "name": "stdout"
        },
        {
          "output_type": "stream",
          "text": [
            "\n"
          ],
          "name": "stderr"
        }
      ]
    },
    {
      "cell_type": "code",
      "metadata": {
        "id": "mTJ3xJQbfOwU"
      },
      "source": [
        ""
      ],
      "execution_count": null,
      "outputs": []
    },
    {
      "cell_type": "code",
      "metadata": {
        "id": "pp72_Iv_QjNg"
      },
      "source": [
        ""
      ],
      "execution_count": null,
      "outputs": []
    }
  ]
}