{
 "cells": [
  {
   "cell_type": "code",
   "execution_count": 1,
   "metadata": {
    "id": "on0KO2mZBemg"
   },
   "outputs": [],
   "source": [
    "import tqdm\n",
    "import torch\n",
    "import numpy as np\n",
    "from torch import nn\n",
    "import matplotlib.pyplot as plt\n",
    "import torch.nn.functional as F\n",
    "from torch.utils.data import DataLoader\n",
    "from torchvision import transforms, datasets"
   ]
  },
  {
   "cell_type": "code",
   "execution_count": 2,
   "metadata": {
    "id": "d8Kh60iWYDMe"
   },
   "outputs": [],
   "source": [
    "class Encoder(nn.Module):\n",
    "    def __init__(self, embedding_size):\n",
    "        super().__init__()\n",
    "        self.fc = nn.Sequential(\n",
    "            nn.Linear(28 * 28, 512),\n",
    "            nn.ReLU(True),\n",
    "            nn.Linear(512, 256),\n",
    "            nn.ReLU(True), \n",
    "            nn.Linear(256, 128), \n",
    "            nn.ReLU(True), \n",
    "            nn.Linear(128, embedding_size)\n",
    "        )\n",
    "    \n",
    "    def forward(self, x):\n",
    "        return self.fc(x)"
   ]
  },
  {
   "cell_type": "code",
   "execution_count": 3,
   "metadata": {
    "id": "L7-wb1J8YDJs"
   },
   "outputs": [],
   "source": [
    "class Decoder(nn.Module):\n",
    "    def __init__(self, embedding_size):\n",
    "        super().__init__()\n",
    "        self.fc = nn.Sequential(\n",
    "            nn.Linear(embedding_size, 128),\n",
    "            nn.ReLU(True),\n",
    "            nn.Linear(128, 256),\n",
    "            nn.ReLU(True),\n",
    "            nn.Linear(256, 512),\n",
    "            nn.ReLU(True), \n",
    "            nn.Linear(512, 28 * 28), \n",
    "            nn.Sigmoid()\n",
    "        )\n",
    "\n",
    "    def forward(self, x):\n",
    "        return self.fc(x)"
   ]
  },
  {
   "cell_type": "code",
   "execution_count": 4,
   "metadata": {
    "id": "0EANPRlrJt9n"
   },
   "outputs": [],
   "source": [
    "class AutoEncoder(nn.Module):\n",
    "    def __init__(self, embedding_size):\n",
    "        super().__init__()\n",
    "        self.enc = Encoder(embedding_size)\n",
    "        self.dec = Decoder(embedding_size)\n",
    "\n",
    "    def forward(self, x):\n",
    "        return self.dec(self.enc(x))"
   ]
  },
  {
   "cell_type": "code",
   "execution_count": 5,
   "metadata": {
    "colab": {
     "base_uri": "https://localhost:8080/"
    },
    "id": "x4z89MsRLn0B",
    "outputId": "eb19828c-737d-4cc0-8df9-cd225428a5bd"
   },
   "outputs": [
    {
     "name": "stdout",
     "output_type": "stream",
     "text": [
      "cuda\n"
     ]
    }
   ],
   "source": [
    "device = torch.device('cuda' if torch.cuda.is_available() else 'cpu')\n",
    "n_epochs = 10\n",
    "batch_size = 128\n",
    "embedding_size = 64\n",
    "lr = 1e-3\n",
    "weight_decay = 1e-6\n",
    "transform = transforms.ToTensor()\n",
    "print(device)"
   ]
  },
  {
   "cell_type": "code",
   "execution_count": 6,
   "metadata": {
    "colab": {
     "base_uri": "https://localhost:8080/"
    },
    "id": "FfnPaFMXLnw7",
    "outputId": "5fc428c2-e31b-4ef1-cc5b-85958dacd89b"
   },
   "outputs": [
    {
     "name": "stdout",
     "output_type": "stream",
     "text": [
      "60000 10000 torch.Size([128, 1, 28, 28]) torch.Size([128])\n"
     ]
    }
   ],
   "source": [
    "train_data = datasets.MNIST('data/', train=True, download=True, transform=transform)\n",
    "val_data = datasets.MNIST('data/', train=False, download=True, transform=transform)\n",
    "train_loader = DataLoader(train_data, batch_size=batch_size, num_workers=2, pin_memory=True, shuffle=True, drop_last=True)\n",
    "val_loader = DataLoader(val_data, batch_size=batch_size, num_workers=2, pin_memory=True, shuffle=True, drop_last=True)\n",
    "x, y = next(iter(train_loader))\n",
    "print(len(train_data), len(val_data), x.shape, y.shape)"
   ]
  },
  {
   "cell_type": "code",
   "execution_count": 7,
   "metadata": {
    "colab": {
     "base_uri": "https://localhost:8080/",
     "height": 283
    },
    "id": "XAq8mxwJLnt6",
    "outputId": "b3ef0346-1421-4d35-f788-3d3b968f718c"
   },
   "outputs": [
    {
     "data": {
      "text/plain": [
       "<matplotlib.image.AxesImage at 0x7f6bf4aaaad0>"
      ]
     },
     "execution_count": 7,
     "metadata": {
      "tags": []
     },
     "output_type": "execute_result"
    },
    {
     "data": {
      "image/png": "[encoded data removed]",
      "text/plain": [
       "<Figure size 432x288 with 1 Axes>"
      ]
     },
     "metadata": {
      "needs_background": "light",
      "tags": []
     },
     "output_type": "display_data"
    }
   ],
   "source": [
    "img, _ = train_data[42]\n",
    "plt.imshow(img[0], cmap='gray')"
   ]
  },
  {
   "cell_type": "code",
   "execution_count": 8,
   "metadata": {
    "colab": {
     "base_uri": "https://localhost:8080/"
    },
    "id": "BKnCgz8FQrvI",
    "outputId": "a2a1b893-6ee8-41b9-89d7-6e187139c434"
   },
   "outputs": [
    {
     "name": "stdout",
     "output_type": "stream",
     "text": [
      "torch.Size([10, 784])\n"
     ]
    }
   ],
   "source": [
    "net = AutoEncoder(embedding_size).to(device)\n",
    "inp = torch.randn(10, 784).to(device)\n",
    "out = net(inp)\n",
    "print(out.shape)\n",
    "del inp, out\n",
    "optimizer = torch.optim.Adam(net.parameters(), lr=lr, weight_decay=weight_decay)\n",
    "loss_fn = nn.MSELoss()"
   ]
  },
  {
   "cell_type": "code",
   "execution_count": 9,
   "metadata": {
    "id": "puKMXDWdPSZc"
   },
   "outputs": [],
   "source": [
    "def loop(net, loader, epoch, is_train):\n",
    "    net.train(is_train)\n",
    "    losses = []\n",
    "    pbar = tqdm.tqdm(loader, total=len(loader))\n",
    "    for x, _ in pbar:\n",
    "        with torch.set_grad_enabled(is_train):\n",
    "            x = x.view(x.shape[0], -1).to(device)\n",
    "            preds = net(x)\n",
    "            loss = loss_fn(preds, x)\n",
    "            losses.append(loss.item())\n",
    "        if is_train:\n",
    "            optimizer.zero_grad()\n",
    "            loss.backward()\n",
    "            optimizer.step()\n",
    "            \n",
    "        pbar.set_description(f'epoch={epoch}, train={int(is_train)}')\n",
    "        pbar.set_postfix(avg_loss=f'{np.mean(losses):.4f}')"
   ]
  },
  {
   "cell_type": "code",
   "execution_count": 10,
   "metadata": {
    "colab": {
     "base_uri": "https://localhost:8080/"
    },
    "id": "RcdYUtkVQqLW",
    "outputId": "df8e0611-5778-40b4-8ad4-33280ce90091"
   },
   "outputs": [
    {
     "name": "stderr",
     "output_type": "stream",
     "text": [
      "epoch=0, train=1: 100%|██████████| 468/468 [00:13<00:00, 34.31it/s, avg_loss=0.0571]\n",
      "epoch=0, train=0: 100%|██████████| 78/78 [00:01<00:00, 39.68it/s, avg_loss=0.0382]\n",
      "epoch=1, train=1: 100%|██████████| 468/468 [00:13<00:00, 34.77it/s, avg_loss=0.0315]\n",
      "epoch=1, train=0: 100%|██████████| 78/78 [00:01<00:00, 40.15it/s, avg_loss=0.0280]\n",
      "epoch=2, train=1: 100%|██████████| 468/468 [00:13<00:00, 34.74it/s, avg_loss=0.0254]\n",
      "epoch=2, train=0: 100%|██████████| 78/78 [00:01<00:00, 39.81it/s, avg_loss=0.0236]\n",
      "epoch=3, train=1: 100%|██████████| 468/468 [00:13<00:00, 34.31it/s, avg_loss=0.0222]\n",
      "epoch=3, train=0: 100%|██████████| 78/78 [00:01<00:00, 39.25it/s, avg_loss=0.0206]\n",
      "epoch=4, train=1: 100%|██████████| 468/468 [00:13<00:00, 34.71it/s, avg_loss=0.0199]\n",
      "epoch=4, train=0: 100%|██████████| 78/78 [00:02<00:00, 38.89it/s, avg_loss=0.0193]\n",
      "epoch=5, train=1: 100%|██████████| 468/468 [00:13<00:00, 34.06it/s, avg_loss=0.0182]\n",
      "epoch=5, train=0: 100%|██████████| 78/78 [00:02<00:00, 38.70it/s, avg_loss=0.0175]\n",
      "epoch=6, train=1: 100%|██████████| 468/468 [00:13<00:00, 34.26it/s, avg_loss=0.0167]\n",
      "epoch=6, train=0: 100%|██████████| 78/78 [00:02<00:00, 38.48it/s, avg_loss=0.0161]\n",
      "epoch=7, train=1: 100%|██████████| 468/468 [00:13<00:00, 34.13it/s, avg_loss=0.0155]\n",
      "epoch=7, train=0: 100%|██████████| 78/78 [00:01<00:00, 39.01it/s, avg_loss=0.0148]\n",
      "epoch=8, train=1: 100%|██████████| 468/468 [00:13<00:00, 34.21it/s, avg_loss=0.0145]\n",
      "epoch=8, train=0: 100%|██████████| 78/78 [00:02<00:00, 38.68it/s, avg_loss=0.0141]\n",
      "epoch=9, train=1: 100%|██████████| 468/468 [00:13<00:00, 34.19it/s, avg_loss=0.0138]\n",
      "epoch=9, train=0: 100%|██████████| 78/78 [00:02<00:00, 38.71it/s, avg_loss=0.0135]\n"
     ]
    }
   ],
   "source": [
    "for epoch in range(n_epochs):\n",
    "    loop(net, train_loader, epoch, True)\n",
    "    loop(net, val_loader, epoch, False)"
   ]
  },
  {
   "cell_type": "code",
   "execution_count": 11,
   "metadata": {
    "id": "MdzCiiF6wDck"
   },
   "outputs": [],
   "source": [
    "@torch.no_grad()\n",
    "def plot_examples(loader):\n",
    "    net.eval()\n",
    "    x, _ = next(iter(loader))\n",
    "    x = x.view(x.shape[0], -1).to(device)\n",
    "    x_hat = net(x)\n",
    "    x = x.view(x.shape[0], 28, 28)\n",
    "    x_hat = x_hat.view(x.shape[0], 28, 28)\n",
    "    rows = torch.cat([x, x_hat], axis=1)\n",
    "    imgs = torch.cat([rows[i] for i in range(42, 52)], axis=1).cpu().detach()\n",
    "    plt.figure(figsize=(20, 5))\n",
    "    plt.imshow(imgs, cmap='gray')\n",
    "    plt.axis('off')"
   ]
  },
  {
   "cell_type": "code",
   "execution_count": 12,
   "metadata": {
    "colab": {
     "base_uri": "https://localhost:8080/",
     "height": 254
    },
    "id": "yaqHi3jHwGGz",
    "outputId": "efe95784-23fd-44a1-c790-ec1705ff839b"
   },
   "outputs": [
    {
     "data": {
      "image/png": "[encoded data removed]",
      "text/plain": [
       "<Figure size 1440x360 with 1 Axes>"
      ]
     },
     "metadata": {
      "needs_background": "light",
      "tags": []
     },
     "output_type": "display_data"
    }
   ],
   "source": [
    "plot_examples(train_loader)"
   ]
  },
  {
   "cell_type": "code",
   "execution_count": 13,
   "metadata": {
    "colab": {
     "base_uri": "https://localhost:8080/",
     "height": 254
    },
    "id": "JI-VMhGywGEO",
    "outputId": "eb877925-4130-4591-8b99-5a245badb22f"
   },
   "outputs": [
    {
     "data": {
      "image/png": "[encoded data removed]",
      "text/plain": [
       "<Figure size 1440x360 with 1 Axes>"
      ]
     },
     "metadata": {
      "needs_background": "light",
      "tags": []
     },
     "output_type": "display_data"
    }
   ],
   "source": [
    "plot_examples(val_loader)"
   ]
  }
 ],
 "metadata": {
  "accelerator": "GPU",
  "colab": {
   "collapsed_sections": [],
   "name": "autoencoder.ipynb",
   "provenance": []
  },
  "kernelspec": {
   "display_name": "Python 3",
   "language": "python",
   "name": "python3"
  },
  "language_info": {
   "codemirror_mode": {
    "name": "ipython",
    "version": 3
   },
   "file_extension": ".py",
   "mimetype": "text/x-python",
   "name": "python",
   "nbconvert_exporter": "python",
   "pygments_lexer": "ipython3",
   "version": "3.7.7"
  }
 },
 "nbformat": 4,
 "nbformat_minor": 1
}
