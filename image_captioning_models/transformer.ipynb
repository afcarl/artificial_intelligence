{
 "cells": [
  {
   "cell_type": "code",
   "execution_count": 3,
   "metadata": {
    "colab": {
     "base_uri": "https://localhost:8080/"
    },
    "id": "dELsWUxIDgEw",
    "outputId": "a8a6e5c3-048e-4367-cdc8-b45b3d8782a0",
    "scrolled": true
   },
   "outputs": [
    {
     "name": "stdout",
     "output_type": "stream",
     "text": [
      "Requirement already satisfied: timm in /usr/local/lib/python3.7/dist-packages (0.4.5)\n",
      "Requirement already satisfied: torchvision in /usr/local/lib/python3.7/dist-packages (from timm) (0.9.0+cu101)\n",
      "Requirement already satisfied: torch>=1.4 in /usr/local/lib/python3.7/dist-packages (from timm) (1.8.0+cu101)\n",
      "Requirement already satisfied: numpy in /usr/local/lib/python3.7/dist-packages (from torchvision->timm) (1.19.5)\n",
      "Requirement already satisfied: pillow>=4.1.1 in /usr/local/lib/python3.7/dist-packages (from torchvision->timm) (7.0.0)\n",
      "Requirement already satisfied: typing-extensions in /usr/local/lib/python3.7/dist-packages (from torch>=1.4->timm) (3.7.4.3)\n"
     ]
    }
   ],
   "source": [
    "!pip install timm"
   ]
  },
  {
   "cell_type": "code",
   "execution_count": 4,
   "metadata": {
    "id": "8oye-fdnWq_e"
   },
   "outputs": [],
   "source": [
    "import os\n",
    "import spacy\n",
    "import timm\n",
    "import torch\n",
    "import numpy as np\n",
    "import pandas as pd\n",
    "from tqdm import tqdm\n",
    "import torch.nn as nn\n",
    "from PIL import Image\n",
    "import matplotlib.pyplot as plt\n",
    "import torchvision.transforms as transforms\n",
    "from torch.nn.utils.rnn import pad_sequence  \n",
    "from torch.utils.data import DataLoader, Dataset"
   ]
  },
  {
   "cell_type": "code",
   "execution_count": 5,
   "metadata": {
    "colab": {
     "base_uri": "https://localhost:8080/"
    },
    "id": "rSKI5nbMzEST",
    "outputId": "754ba71b-fd54-49aa-ff3e-0722b3c09e92"
   },
   "outputs": [
    {
     "name": "stdout",
     "output_type": "stream",
     "text": [
      "Tue Mar 23 09:54:20 2021       \n",
      "+-----------------------------------------------------------------------------+\n",
      "| NVIDIA-SMI 460.56       Driver Version: 460.32.03    CUDA Version: 11.2     |\n",
      "|-------------------------------+----------------------+----------------------+\n",
      "| GPU  Name        Persistence-M| Bus-Id        Disp.A | Volatile Uncorr. ECC |\n",
      "| Fan  Temp  Perf  Pwr:Usage/Cap|         Memory-Usage | GPU-Util  Compute M. |\n",
      "|                               |                      |               MIG M. |\n",
      "|===============================+======================+======================|\n",
      "|   0  Tesla T4            Off  | 00000000:00:04.0 Off |                    0 |\n",
      "| N/A   68C    P8    11W /  70W |      0MiB / 15109MiB |      0%      Default |\n",
      "|                               |                      |                  N/A |\n",
      "+-------------------------------+----------------------+----------------------+\n",
      "                                                                               \n",
      "+-----------------------------------------------------------------------------+\n",
      "| Processes:                                                                  |\n",
      "|  GPU   GI   CI        PID   Type   Process name                  GPU Memory |\n",
      "|        ID   ID                                                   Usage      |\n",
      "|=============================================================================|\n",
      "|  No running processes found                                                 |\n",
      "+-----------------------------------------------------------------------------+\n"
     ]
    }
   ],
   "source": [
    "!nvidia-smi"
   ]
  },
  {
   "cell_type": "code",
   "execution_count": 6,
   "metadata": {
    "id": "TTboL-6QWq79"
   },
   "outputs": [],
   "source": [
    "class Vocabulary():\n",
    "    def __init__(self, freq_threshold, spacy_en):\n",
    "        self.itos = {0: \"<pad>\", 1: \"<sos>\", 2: \"<eos>\", 3: \"<unk>\"}\n",
    "        self.stoi = {\"<pad>\": 0, \"<sos>\": 1, \"<eos>\": 2, \"<unk>\": 3}\n",
    "        self.freq_threshold = freq_threshold\n",
    "        self.spacy_en = spacy_en\n",
    "\n",
    "    def __len__(self):\n",
    "        return len(self.itos)\n",
    "\n",
    "    def tokenizer_en(self, text):\n",
    "        return [tok.text.lower() for tok in self.spacy_en.tokenizer(text)]\n",
    "\n",
    "    def build_vocab(self, sentences):\n",
    "        frequencies = {}\n",
    "        i = 4\n",
    "        for sentence in sentences:\n",
    "            for word in self.tokenizer_en(sentence):\n",
    "                if word not in frequencies:\n",
    "                    frequencies[word] = 1\n",
    "                else:\n",
    "                    frequencies[word] += 1\n",
    "                if frequencies[word] == self.freq_threshold:\n",
    "                    self.stoi[word] = i\n",
    "                    self.itos[i] = word\n",
    "                    i += 1\n",
    "\n",
    "    def numericalize(self, text):\n",
    "        tokens = self.tokenizer_en(text)\n",
    "        return [self.stoi[t] if t in self.stoi else self.stoi[\"<unk>\"] for t in tokens]"
   ]
  },
  {
   "cell_type": "code",
   "execution_count": 7,
   "metadata": {
    "id": "urxIEQtTWq5R"
   },
   "outputs": [],
   "source": [
    "class CustomDataset(Dataset):\n",
    "    def __init__(self, root_dir, captions_file, transform, spacy_en, freq_threshold):\n",
    "        self.root_dir = root_dir\n",
    "        self.df = pd.read_csv(captions_file)\n",
    "        self.transform = transform\n",
    "        self.imgs = self.df[\"image\"]\n",
    "        self.captions = self.df[\"caption\"]\n",
    "        self.vocab = Vocabulary(freq_threshold, spacy_en)\n",
    "        self.vocab.build_vocab(self.captions.tolist())\n",
    "\n",
    "    def __len__(self):\n",
    "        return len(self.df)\n",
    "\n",
    "    def __getitem__(self, index):\n",
    "        caption = self.captions[index]\n",
    "        img_id = self.imgs[index]\n",
    "        img = Image.open(os.path.join(self.root_dir, img_id)).convert(\"RGB\")\n",
    "        img = self.transform(img)\n",
    "        num_caption = [self.vocab.stoi[\"<sos>\"]]\n",
    "        num_caption += self.vocab.numericalize(caption)\n",
    "        num_caption.append(self.vocab.stoi[\"<eos>\"])\n",
    "        num_caption = torch.tensor(num_caption)\n",
    "        return img, num_caption"
   ]
  },
  {
   "cell_type": "code",
   "execution_count": 8,
   "metadata": {
    "id": "sYUSZmG6Wq10"
   },
   "outputs": [],
   "source": [
    "class CollateFn():\n",
    "    def __init__(self, pad_idx):\n",
    "        self.pad_idx = pad_idx\n",
    "\n",
    "    def __call__(self, batch):\n",
    "        imgs = [b[0].unsqueeze(0) for b in batch]\n",
    "        imgs = torch.cat(imgs, dim=0)\n",
    "        captions = [b[1] for b in batch]\n",
    "        captions = pad_sequence(captions, batch_first=True, padding_value=self.pad_idx)\n",
    "        return imgs, captions"
   ]
  },
  {
   "cell_type": "code",
   "execution_count": 9,
   "metadata": {
    "id": "X8dkTUCVDWcH"
   },
   "outputs": [],
   "source": [
    "class Encoder(nn.Module):\n",
    "    def __init__(self, pretrained_encoder_model, hidden_size):\n",
    "        super().__init__()\n",
    "        self.vit = timm.create_model(pretrained_encoder_model, pretrained=True)\n",
    "        for param in self.vit.parameters():\n",
    "            param.requires_grad = False\n",
    "        self.vit.head = nn.Linear(self.vit.head.in_features, hidden_size)\n",
    "        self.relu = nn.ReLU()\n",
    "        self.dropout = nn.Dropout(p=0.3)\n",
    "    \n",
    "    def forward(self, x):\n",
    "        features = self.vit(x)\n",
    "        return self.relu(self.dropout(features))"
   ]
  },
  {
   "cell_type": "code",
   "execution_count": 10,
   "metadata": {
    "id": "0SvMcua9Gfd6"
   },
   "outputs": [],
   "source": [
    "class SelfAttention(nn.Module):\n",
    "    def __init__(self, n_heads, hidden_size, p=0.1):\n",
    "        super().__init__()\n",
    "        assert hidden_size % n_heads == 0, \"hidden_size must be divisble by n_heads!!\"\n",
    "        self.n_heads = n_heads\n",
    "        self.hidden_size = hidden_size // n_heads\n",
    "        self.fc_layers = nn.ModuleList([nn.Linear(hidden_size, hidden_size) for _ in range(3)])\n",
    "        self.out_layer = nn.Linear(hidden_size, hidden_size)\n",
    "        self.dropout1 = nn.Dropout(p=p)\n",
    "        self.dropout2 = nn.Dropout(p=p)\n",
    "        \n",
    "    def forward(self, x, mask=None):\n",
    "        # x: b, t, d\n",
    "        # mask: b, h, t, t\n",
    "        b = x.shape[0]\n",
    "        queries, keys, values = x, x, x\n",
    "        # d = h*d'\n",
    "        # b, t, d -> b, h, t, d'\n",
    "        queries, keys, values = [fc(x).view(b, -1, self.n_heads, self.hidden_size).transpose(1, 2).contiguous() for fc, x in zip(self.fc_layers, (queries, keys, values))]\n",
    "        # queries & keys: b, h, t, d'\n",
    "        # att: b, h, t, t\n",
    "        att = (queries @ keys.transpose(-2, -1).contiguous()) / (keys.shape[-1] ** 0.5)\n",
    "        if mask != None:\n",
    "            att = att.masked_fill(mask==0, float(\"-inf\"))\n",
    "        att = att.softmax(dim=-1)\n",
    "        att = self.dropout1(att)\n",
    "        # values: b, h, t, d'\n",
    "        # x: b, h, t, d'\n",
    "        x = att @ values\n",
    "        # b, h, t, d' -> b, t, d\n",
    "        x = x.transpose(1, 2).contiguous().view(b, -1, self.n_heads * self.hidden_size)\n",
    "        return self.dropout2(self.out_layer(x))"
   ]
  },
  {
   "cell_type": "code",
   "execution_count": 11,
   "metadata": {
    "id": "CRkRpioCGlb1"
   },
   "outputs": [],
   "source": [
    "class Block(nn.Module):\n",
    "    def __init__(self, n_heads, hidden_size, p=0.1):\n",
    "        super().__init__()\n",
    "        self.ln1 = nn.LayerNorm(hidden_size)\n",
    "        self.ln2 = nn.LayerNorm(hidden_size)\n",
    "        self.attn = SelfAttention(n_heads, hidden_size, p=p)\n",
    "        self.mlp = nn.Sequential(\n",
    "            nn.Linear(hidden_size, 4 * hidden_size),\n",
    "            nn.GELU(),\n",
    "            nn.Linear(4 * hidden_size, hidden_size),\n",
    "            nn.Dropout(p=p),\n",
    "        )\n",
    "\n",
    "    def forward(self, x, mask):\n",
    "        x = x + self.attn(self.ln1(x), mask=mask)\n",
    "        x = x + self.mlp(self.ln2(x))\n",
    "        return x"
   ]
  },
  {
   "cell_type": "code",
   "execution_count": 12,
   "metadata": {
    "id": "O0p0aGL7GlYR"
   },
   "outputs": [],
   "source": [
    "class Decoder(nn.Module):\n",
    "    def __init__(self, vocab_size, hidden_size, max_len, n_layers, n_heads, p=0.1):\n",
    "        super().__init__()\n",
    "        self.max_len = max_len\n",
    "        self.hidden_size = hidden_size\n",
    "        self.tok_emb = nn.Embedding(vocab_size, hidden_size, padding_idx=0)\n",
    "        self.pos_emb = torch.zeros(max_len, hidden_size).float()\n",
    "        self.pos_emb.requires_grad = False\n",
    "        pos = torch.arange(0, max_len).float().unsqueeze(1)\n",
    "        div_term = 1 / (10000 ** (torch.arange(0, hidden_size, 2).float() / hidden_size))\n",
    "        self.pos_emb[:, 0:int(hidden_size/2)] = torch.sin(pos * div_term)\n",
    "        self.pos_emb[:, int(hidden_size/2):] = torch.cos(pos * div_term)\n",
    "        self.pos_emb = self.pos_emb.unsqueeze(0)\n",
    "        self.embed_dropout = nn.Dropout(p=p)\n",
    "        \n",
    "        self.register_buffer(\"mask\", torch.tril(torch.ones(max_len, max_len)).view(1, 1, max_len, max_len))\n",
    "        self.blocks = nn.ModuleList([Block(n_heads, hidden_size, p) for _ in range(n_layers)])\n",
    "        self.fc_out = nn.Linear(hidden_size, vocab_size)\n",
    "\n",
    "    def forward(self, features, captions=None):\n",
    "        if captions == None:\n",
    "            assert self.max_len >= 1, \"token size exceeded max_len!! increase max_len\"\n",
    "        else:\n",
    "            assert captions.shape[1] + 1 <= self.max_len, \"token size exceeded max_len!! increase max_len\" # \"+ 1\" represents the features' token\n",
    "        \n",
    "        if captions == None:\n",
    "            if len(features.shape) == 2:\n",
    "                x = features.unsqueeze(1)\n",
    "            else:\n",
    "                x = features\n",
    "        else:\n",
    "            if len(features.shape) == 2:\n",
    "                features = features.unsqueeze(1)\n",
    "            embed_caps = self.tok_emb(captions)\n",
    "            x = torch.cat((features, embed_caps), dim=1)\n",
    "        \n",
    "        x += self.pos_emb[:, :x.shape[1], :].to(x.device)\n",
    "        x = self.embed_dropout(x)\n",
    "        token_size = x.shape[1]\n",
    "        mask = self.mask[:, :, :token_size, :token_size].to(x.device)\n",
    "        for block in self.blocks:\n",
    "            x = block(x, mask)\n",
    "        return self.fc_out(x)"
   ]
  },
  {
   "cell_type": "code",
   "execution_count": 13,
   "metadata": {
    "id": "p2ox1GQ5GNOB"
   },
   "outputs": [],
   "source": [
    "class Net(nn.Module):\n",
    "    def __init__(self, pretrained_encoder_model, vocab_size, hidden_size, max_len, n_layers, n_heads, p=0.1):\n",
    "        super().__init__()\n",
    "        self.encoder = Encoder(pretrained_encoder_model, hidden_size)\n",
    "        self.decoder = Decoder(vocab_size, hidden_size, max_len, n_layers, n_heads, p=0.1)\n",
    "    \n",
    "    def forward(self, images, captions):\n",
    "        features = self.encoder(images)\n",
    "        out = self.decoder(features, captions)\n",
    "        return out\n",
    "\n",
    "    def caption_image(self, image, vocab, max_len=50, device=\"cpu\"):\n",
    "        caption = []\n",
    "        with torch.no_grad():\n",
    "            features = self.encoder(image).unsqueeze(1) # 1, d -> 1, 1, d\n",
    "            captions = None\n",
    "            for _ in range(max_len):\n",
    "                out = self.decoder(features=features, captions=captions).squeeze(0) # 1, t, d -> t, d\n",
    "                prediction = out.argmax(-1)[-1] # t, d -> t -> t[-1]\n",
    "                caption.append(prediction.item())\n",
    "                captions = torch.tensor([caption]).to(device)\n",
    "                if vocab.itos[prediction.item()] == \"<eos>\":\n",
    "                    break\n",
    "        return [vocab.itos[i] for i in caption]"
   ]
  },
  {
   "cell_type": "code",
   "execution_count": 14,
   "metadata": {
    "id": "hXK0B0K2t0gf"
   },
   "outputs": [],
   "source": [
    "def get_mean_and_std(loader):\n",
    "    channels_sum, channels_squared_sum, num_batches = 0, 0, 0\n",
    "    for data, _ in loader:\n",
    "        channels_sum += torch.mean(data, dim = [0, 2, 3]) # 1 -> channel dimension\n",
    "        channels_squared_sum += torch.mean(data ** 2, dim = [0, 2, 3])\n",
    "        num_batches += 1\n",
    "    mean = channels_sum / num_batches\n",
    "    std = (channels_squared_sum / num_batches - mean ** 2) ** 0.5 \n",
    "    return mean, std"
   ]
  },
  {
   "cell_type": "code",
   "execution_count": 15,
   "metadata": {
    "id": "cMhujZHltuIB"
   },
   "outputs": [],
   "source": [
    "# dummy_data = CustomDataset(\"flickr8k/images/\", \"flickr8k/captions.txt\", inf_transform, spacy_en, freq_threshold)\n",
    "# pad_idx = dummy_data.vocab.stoi[\"<pad>\"]\n",
    "# dummy_loader = DataLoader(dummy_data, batch_size=128, num_workers=2, shuffle=True,\n",
    "#                     pin_memory=True, collate_fn=CollateFn(pad_idx=pad_idx))\n",
    "# mean, std = get_mean_and_std(dummy_loader)\n",
    "# print(mean, std)"
   ]
  },
  {
   "cell_type": "code",
   "execution_count": 16,
   "metadata": {
    "id": "YJyUlGcdFyK2"
   },
   "outputs": [],
   "source": [
    "image_size = 224\n",
    "scale = 1.4\n",
    "scaled_size = int(scale * image_size)\n",
    "mean = [0.4582, 0.4463, 0.4041]\n",
    "std = [0.2694, 0.2622, 0.2771]\n",
    "spacy_en = spacy.load(\"en\")\n",
    "freq_threshold = 3\n",
    "train_transform = transforms.Compose(\n",
    "    [\n",
    "     transforms.Resize((scaled_size, scaled_size)), \n",
    "     transforms.RandomCrop((image_size, image_size)), \n",
    "     transforms.RandomApply(\n",
    "         [\n",
    "          transforms.RandomRotation(50.0)\n",
    "         ], p=0.4\n",
    "     ),\n",
    "     transforms.RandomApply(\n",
    "         [\n",
    "          transforms.GaussianBlur(3)\n",
    "         ], p=0.3\n",
    "     ),\n",
    "     transforms.ToTensor(), \n",
    "     transforms.Normalize(mean, std)\n",
    "    ]\n",
    ")\n",
    "\n",
    "inf_transform = transforms.Compose(\n",
    "    [\n",
    "     transforms.Resize((image_size, image_size)),\n",
    "     transforms.ToTensor()\n",
    "    ]\n",
    ")"
   ]
  },
  {
   "cell_type": "code",
   "execution_count": 17,
   "metadata": {
    "colab": {
     "base_uri": "https://localhost:8080/",
     "height": 323
    },
    "id": "RY8bqNPd4NRl",
    "outputId": "92ece65d-05ee-4a86-9cf7-d5526f2e3cc2"
   },
   "outputs": [
    {
     "name": "stderr",
     "output_type": "stream",
     "text": [
      "Clipping input data to the valid range for imshow with RGB data ([0..1] for floats or [0..255] for integers).\n"
     ]
    },
    {
     "name": "stdout",
     "output_type": "stream",
     "text": [
      "40455 torch.Size([3, 224, 224]) torch.Size([10]) tensor([ 1,  4, 49, 47, 91,  3, 15, 48,  5,  2])\n"
     ]
    },
    {
     "data": {
      "text/plain": [
       "<matplotlib.image.AxesImage at 0x7f53e1340d10>"
      ]
     },
     "execution_count": 17,
     "metadata": {
      "tags": []
     },
     "output_type": "execute_result"
    },
    {
     "data": {
      "image/png": "[encoded data removed]",
      "text/plain": [
       "<Figure size 432x288 with 1 Axes>"
      ]
     },
     "metadata": {
      "needs_background": "light",
      "tags": []
     },
     "output_type": "display_data"
    }
   ],
   "source": [
    "data = CustomDataset(\"flickr8k/images/\", \"flickr8k/captions.txt\", train_transform, spacy_en, freq_threshold)\n",
    "img, cap = data[42]\n",
    "print(len(data), img.shape, cap.shape, cap)\n",
    "plt.imshow(img.permute(1, 2, 0))"
   ]
  },
  {
   "cell_type": "code",
   "execution_count": 18,
   "metadata": {
    "colab": {
     "base_uri": "https://localhost:8080/"
    },
    "id": "-uvrdvbWlchk",
    "outputId": "b976e400-c0e6-49ea-ef6f-df1fdceb9789"
   },
   "outputs": [
    {
     "name": "stdout",
     "output_type": "stream",
     "text": [
      "cuda 4093\n"
     ]
    }
   ],
   "source": [
    "device = torch.device(\"cuda\" if torch.cuda.is_available() else \"cpu\")\n",
    "pretrained_encoder_model = \"vit_small_patch16_224\"\n",
    "epochs = 10\n",
    "batch_size = 128\n",
    "vocab_size = len(data.vocab)\n",
    "hidden_size = 1024\n",
    "max_len = 512\n",
    "n_layers = 20\n",
    "n_heads = 16\n",
    "lr = 2.5e-4\n",
    "print(device, vocab_size)"
   ]
  },
  {
   "cell_type": "code",
   "execution_count": 19,
   "metadata": {
    "id": "dSIVm4XIPvEJ"
   },
   "outputs": [],
   "source": [
    "pad_idx = data.vocab.stoi[\"<pad>\"]\n",
    "loader = DataLoader(data, batch_size=batch_size, num_workers=2, shuffle=True, \n",
    "                    pin_memory=True, collate_fn=CollateFn(pad_idx=pad_idx))"
   ]
  },
  {
   "cell_type": "code",
   "execution_count": 20,
   "metadata": {
    "colab": {
     "base_uri": "https://localhost:8080/"
    },
    "id": "1wNroOzo4ihC",
    "outputId": "d300f834-23b5-47d6-eb44-ceec5b66dedf"
   },
   "outputs": [
    {
     "data": {
      "text/plain": [
       "(torch.Size([128, 3, 224, 224]), torch.Size([128, 26]))"
      ]
     },
     "execution_count": 20,
     "metadata": {
      "tags": []
     },
     "output_type": "execute_result"
    }
   ],
   "source": [
    "x, y = next(iter(loader))\n",
    "x.shape, y.shape"
   ]
  },
  {
   "cell_type": "code",
   "execution_count": 21,
   "metadata": {
    "id": "Lsos8156lcfE"
   },
   "outputs": [],
   "source": [
    "net = Net(pretrained_encoder_model, vocab_size, hidden_size, max_len, n_layers, n_heads).to(device)\n",
    "loss_fn = nn.CrossEntropyLoss(ignore_index=data.vocab.stoi[\"<pad>\"])\n",
    "optimizer = torch.optim.Adam(net.parameters(), lr)\n",
    "scaler = torch.cuda.amp.GradScaler()"
   ]
  },
  {
   "cell_type": "code",
   "execution_count": 22,
   "metadata": {
    "id": "ytff0H8YYehW"
   },
   "outputs": [],
   "source": [
    "def save_model(net, optimizer, filename):\n",
    "    checkpoint = {\"net_dict\": net.state_dict(), \"optimizer_dict\": optimizer.state_dict()}\n",
    "    torch.save(checkpoint, filename)\n",
    "    print(\"model saved!!\\n\")\n",
    "\n",
    "def load_model(net, optimizer, filename, device=\"cpu\"):\n",
    "    checkpoint = torch.load(filename, map_location=device)\n",
    "    net.load_state_dict(checkpoint[\"net_dict\"])\n",
    "    optimizer.load_state_dict(checkpoint[\"optimizer_dict\"])\n",
    "    print(\"model loaded!!\\n\")"
   ]
  },
  {
   "cell_type": "code",
   "execution_count": 23,
   "metadata": {
    "id": "DQMEaKEko4cb"
   },
   "outputs": [],
   "source": [
    "def CaptionImage(net, image, data, max_len, transform, device=\"cpu\"):\n",
    "    net.eval()\n",
    "    img = transform(Image.open(image).convert(\"RGB\")).unsqueeze(0)\n",
    "    words = net.caption_image(img.to(device), data.vocab, max_len, device)\n",
    "    caption = \"\"\n",
    "    for w in words:\n",
    "        caption += w + \" \"\n",
    "    print(caption)"
   ]
  },
  {
   "cell_type": "code",
   "execution_count": 24,
   "metadata": {
    "colab": {
     "base_uri": "https://localhost:8080/"
    },
    "id": "_P-YnIiip3aI",
    "outputId": "d2589378-e63d-4b70-a9e0-4ca6b6e19d44"
   },
   "outputs": [
    {
     "name": "stdout",
     "output_type": "stream",
     "text": [
      "brindle barks pale same gray tropical overweight licked dome breaks happily double same doors double chalkboard recording cheeks speaker bicyclists boxers gathers grasses double chalkboard recording range cargo tide recording clinging <eos> \n"
     ]
    }
   ],
   "source": [
    "CaptionImage(net, \"test_images/dog.jpg\", data, 50, inf_transform, device)"
   ]
  },
  {
   "cell_type": "code",
   "execution_count": 25,
   "metadata": {
    "id": "TNf4k0Gh3Pgl"
   },
   "outputs": [],
   "source": [
    "def loop(net, loader):\n",
    "    net.train()\n",
    "    losses = 0\n",
    "    for imgs, captions in tqdm(loader, total=len(loader)):\n",
    "        imgs = imgs.to(device)\n",
    "        captions = captions.to(device)\n",
    "        with torch.cuda.amp.autocast():\n",
    "            out = net(imgs, captions[:, :-1])\n",
    "            loss = loss_fn(out.view(-1, out.shape[2]), captions.view(-1))\n",
    "        losses += loss.item()\n",
    "        optimizer.zero_grad()\n",
    "        scaler.scale(loss).backward()\n",
    "        scaler.step(optimizer)\n",
    "        scaler.update()\n",
    "    return losses/len(loader)"
   ]
  },
  {
   "cell_type": "code",
   "execution_count": 26,
   "metadata": {
    "colab": {
     "base_uri": "https://localhost:8080/",
     "height": 1000
    },
    "id": "yQun1YHynDfq",
    "outputId": "77cb50c3-e19b-419c-8b32-e4748d02e7b5"
   },
   "outputs": [
    {
     "name": "stderr",
     "output_type": "stream",
     "text": [
      "100%|██████████| 317/317 [13:32<00:00,  2.56s/it]\n"
     ]
    },
    {
     "name": "stdout",
     "output_type": "stream",
     "text": [
      "epoch: 0 | loss: 3.8925\n",
      "<sos> a brown and white dog is running through a snowy forest . <eos> \n",
      "<sos> a person taking a bicycle off a rock wall . <eos> \n",
      "<sos> a person taking a jump off a rock wall . <eos> \n",
      "<sos> a person wearing a black outfit and white helmet is standing in a black outfit and red and black outfit . <eos> \n",
      "<sos> a person taking a bicycle down a steep hill . <eos> \n",
      "\n"
     ]
    },
    {
     "name": "stderr",
     "output_type": "stream",
     "text": [
      "\r",
      "  0%|          | 0/317 [00:00<?, ?it/s]"
     ]
    },
    {
     "name": "stdout",
     "output_type": "stream",
     "text": [
      "model saved!!\n",
      "\n"
     ]
    },
    {
     "name": "stderr",
     "output_type": "stream",
     "text": [
      "100%|██████████| 317/317 [09:24<00:00,  1.78s/it]\n"
     ]
    },
    {
     "name": "stdout",
     "output_type": "stream",
     "text": [
      "epoch: 1 | loss: 2.6225\n",
      "<sos> a dog is jumping in the air to catch a stick . <eos> \n",
      "<sos> a boy in a blue jacket is riding a toy . <eos> \n",
      "<sos> a man is kayaking on the ground by a body of water . <eos> \n",
      "<sos> a man in a brown jacket is sitting on the ground . <eos> \n",
      "<sos> a man is riding a bicycle on the side of a road . <eos> \n",
      "\n"
     ]
    },
    {
     "name": "stderr",
     "output_type": "stream",
     "text": [
      "\r",
      "  0%|          | 0/317 [00:00<?, ?it/s]"
     ]
    },
    {
     "name": "stdout",
     "output_type": "stream",
     "text": [
      "model saved!!\n",
      "\n"
     ]
    },
    {
     "name": "stderr",
     "output_type": "stream",
     "text": [
      "100%|██████████| 317/317 [09:29<00:00,  1.80s/it]\n"
     ]
    },
    {
     "name": "stdout",
     "output_type": "stream",
     "text": [
      "epoch: 2 | loss: 2.3276\n",
      "<sos> a dog walks on a beach with a person in the foreground . <eos> \n",
      "<sos> a young boy wearing a red shirt is holding a toy . <eos> \n",
      "<sos> a person in a red and blue outfit is sliding down a slide . <eos> \n",
      "<sos> a man wearing a hat and sunglasses is standing in front of a building . <eos> \n",
      "<sos> a person in a red jacket and hat stands next to a building . <eos> \n",
      "\n"
     ]
    },
    {
     "name": "stderr",
     "output_type": "stream",
     "text": [
      "\r",
      "  0%|          | 0/317 [00:00<?, ?it/s]"
     ]
    },
    {
     "name": "stdout",
     "output_type": "stream",
     "text": [
      "model saved!!\n",
      "\n"
     ]
    },
    {
     "name": "stderr",
     "output_type": "stream",
     "text": [
      "100%|██████████| 317/317 [09:23<00:00,  1.78s/it]\n"
     ]
    },
    {
     "name": "stdout",
     "output_type": "stream",
     "text": [
      "epoch: 3 | loss: 2.1195\n",
      "<sos> a dog running on the beach . <eos> \n",
      "<sos> a little boy is wading through the pool . <eos> \n",
      "<sos> a man is riding a boat on calm water . <eos> \n",
      "<sos> a man in a tuxedo and tie is holding a book . <eos> \n",
      "<sos> a group of people stand together on a railing . <eos> \n",
      "\n"
     ]
    },
    {
     "name": "stderr",
     "output_type": "stream",
     "text": [
      "\r",
      "  0%|          | 0/317 [00:00<?, ?it/s]"
     ]
    },
    {
     "name": "stdout",
     "output_type": "stream",
     "text": [
      "model saved!!\n",
      "\n"
     ]
    },
    {
     "name": "stderr",
     "output_type": "stream",
     "text": [
      "  2%|▏         | 6/317 [00:11<10:14,  1.98s/it]ERROR:root:Internal Python error in the inspect module.\n",
      "Below is the traceback from this internal error.\n",
      "\n"
     ]
    },
    {
     "name": "stdout",
     "output_type": "stream",
     "text": [
      "Traceback (most recent call last):\n",
      "  File \"/usr/local/lib/python3.7/dist-packages/IPython/core/interactiveshell.py\", line 2882, in run_code\n",
      "    exec(code_obj, self.user_global_ns, self.user_ns)\n",
      "  File \"<ipython-input-26-8de8ab7f72f1>\", line 4, in <module>\n",
      "    loss = loop(net, loader)\n",
      "  File \"<ipython-input-25-56d9ae8b4229>\", line 4, in loop\n",
      "    for imgs, captions in tqdm(loader, total=len(loader)):\n",
      "  File \"/usr/local/lib/python3.7/dist-packages/tqdm/std.py\", line 1104, in __iter__\n",
      "    for obj in iterable:\n",
      "  File \"/usr/local/lib/python3.7/dist-packages/torch/utils/data/dataloader.py\", line 517, in __next__\n",
      "    data = self._next_data()\n",
      "  File \"/usr/local/lib/python3.7/dist-packages/torch/utils/data/dataloader.py\", line 1182, in _next_data\n",
      "    idx, data = self._get_data()\n",
      "  File \"/usr/local/lib/python3.7/dist-packages/torch/utils/data/dataloader.py\", line 1138, in _get_data\n",
      "    success, data = self._try_get_data()\n",
      "  File \"/usr/local/lib/python3.7/dist-packages/torch/utils/data/dataloader.py\", line 986, in _try_get_data\n",
      "    data = self._data_queue.get(timeout=timeout)\n",
      "  File \"/usr/lib/python3.7/queue.py\", line 179, in get\n",
      "    self.not_empty.wait(remaining)\n",
      "  File \"/usr/lib/python3.7/threading.py\", line 300, in wait\n",
      "    gotit = waiter.acquire(True, timeout)\n",
      "KeyboardInterrupt\n",
      "\n",
      "During handling of the above exception, another exception occurred:\n",
      "\n",
      "Traceback (most recent call last):\n",
      "  File \"/usr/local/lib/python3.7/dist-packages/IPython/core/interactiveshell.py\", line 1823, in showtraceback\n",
      "    stb = value._render_traceback_()\n",
      "AttributeError: 'KeyboardInterrupt' object has no attribute '_render_traceback_'\n",
      "\n",
      "During handling of the above exception, another exception occurred:\n",
      "\n",
      "Traceback (most recent call last):\n",
      "  File \"/usr/local/lib/python3.7/dist-packages/IPython/core/ultratb.py\", line 1132, in get_records\n",
      "    return _fixed_getinnerframes(etb, number_of_lines_of_context, tb_offset)\n",
      "  File \"/usr/local/lib/python3.7/dist-packages/IPython/core/ultratb.py\", line 313, in wrapped\n",
      "    return f(*args, **kwargs)\n",
      "  File \"/usr/local/lib/python3.7/dist-packages/IPython/core/ultratb.py\", line 358, in _fixed_getinnerframes\n",
      "    records = fix_frame_records_filenames(inspect.getinnerframes(etb, context))\n",
      "  File \"/usr/lib/python3.7/inspect.py\", line 1502, in getinnerframes\n",
      "    frameinfo = (tb.tb_frame,) + getframeinfo(tb, context)\n",
      "  File \"/usr/lib/python3.7/inspect.py\", line 1460, in getframeinfo\n",
      "    filename = getsourcefile(frame) or getfile(frame)\n",
      "  File \"/usr/lib/python3.7/inspect.py\", line 696, in getsourcefile\n",
      "    if getattr(getmodule(object, filename), '__loader__', None) is not None:\n",
      "  File \"/usr/lib/python3.7/inspect.py\", line 739, in getmodule\n",
      "    f = getabsfile(module)\n",
      "  File \"/usr/lib/python3.7/inspect.py\", line 708, in getabsfile\n",
      "    _filename = getsourcefile(object) or getfile(object)\n",
      "  File \"/usr/lib/python3.7/inspect.py\", line 693, in getsourcefile\n",
      "    if os.path.exists(filename):\n",
      "  File \"/usr/lib/python3.7/genericpath.py\", line 19, in exists\n",
      "    os.stat(path)\n",
      "KeyboardInterrupt\n"
     ]
    },
    {
     "ename": "KeyboardInterrupt",
     "evalue": "ignored",
     "output_type": "error",
     "traceback": [
      "\u001b[0;31m---------------------------------------------------------------------------\u001b[0m"
     ]
    }
   ],
   "source": [
    "images = [\"dog.jpg\", \"child.jpg\", \"boat.jpg\", \"elon_musk.jpg\", \"street.jpg\"]\n",
    "best_loss = float(\"inf\")\n",
    "for epoch in range(epochs):\n",
    "    loss = loop(net, loader)\n",
    "    print(f\"epoch: {epoch} | loss: {loss:.4f}\")\n",
    "    for image in images:\n",
    "        CaptionImage(net, f\"test_images/{image}\", data, 50, inf_transform, device)\n",
    "    print(\"\")\n",
    "    if loss < best_loss:\n",
    "        best_loss = loss\n",
    "        save_model(net, optimizer, \"best_model.pth.tar\")"
   ]
  },
  {
   "cell_type": "code",
   "execution_count": 28,
   "metadata": {
    "colab": {
     "base_uri": "https://localhost:8080/"
    },
    "id": "l6-Vinz7g_58",
    "outputId": "66955430-378a-4d32-cf09-889842ff1c8a"
   },
   "outputs": [
    {
     "name": "stdout",
     "output_type": "stream",
     "text": [
      "model loaded!!\n",
      "\n"
     ]
    }
   ],
   "source": [
    "# model collapses if it goes below a loss of 2\n",
    "load_model(net, optimizer, \"best_model.pth.tar\")"
   ]
  },
  {
   "cell_type": "code",
   "execution_count": 29,
   "metadata": {
    "colab": {
     "base_uri": "https://localhost:8080/"
    },
    "id": "-Wlq4VG7y__X",
    "outputId": "ff57e26f-81ff-4fdb-b658-4b11e71253e8"
   },
   "outputs": [
    {
     "name": "stdout",
     "output_type": "stream",
     "text": [
      "<sos> a dog running on the beach . <eos> \n",
      "<sos> a little boy is wading through the pool . <eos> \n",
      "<sos> a man is riding a boat on calm water . <eos> \n",
      "<sos> a man in a tuxedo and tie is holding a book . <eos> \n",
      "<sos> a group of people stand together on a railing . <eos> \n"
     ]
    }
   ],
   "source": [
    "for image in images:\n",
    "    CaptionImage(net, f\"test_images/{image}\", data, 50, inf_transform, device)"
   ]
  }
 ],
 "metadata": {
  "accelerator": "GPU",
  "colab": {
   "collapsed_sections": [],
   "name": "transformer_captioning.ipynb",
   "provenance": []
  },
  "kernelspec": {
   "display_name": "Python 3",
   "language": "python",
   "name": "python3"
  },
  "language_info": {
   "codemirror_mode": {
    "name": "ipython",
    "version": 3
   },
   "file_extension": ".py",
   "mimetype": "text/x-python",
   "name": "python",
   "nbconvert_exporter": "python",
   "pygments_lexer": "ipython3",
   "version": "3.7.7"
  }
 },
 "nbformat": 4,
 "nbformat_minor": 1
}
