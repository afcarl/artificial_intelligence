{
  "nbformat": 4,
  "nbformat_minor": 0,
  "metadata": {
    "colab": {
      "name": "byol.ipynb",
      "provenance": [],
      "collapsed_sections": []
    },
    "kernelspec": {
      "name": "python3",
      "display_name": "Python 3"
    },
    "language_info": {
      "name": "python"
    },
    "accelerator": "GPU"
  },
  "cells": [
    {
      "cell_type": "code",
      "metadata": {
        "id": "z3mH-Moc-nGc"
      },
      "source": [
        "import copy\n",
        "import torch\n",
        "import numpy as np\n",
        "from torch import nn\n",
        "from tqdm import tqdm\n",
        "from torchvision import models, datasets\n",
        "import torch.nn.functional as F\n",
        "import matplotlib.pyplot as plt\n",
        "import torchvision.transforms as T\n",
        "from torch.utils.data import DataLoader"
      ],
      "execution_count": 1,
      "outputs": []
    },
    {
      "cell_type": "code",
      "metadata": {
        "id": "nueeD7XsSnXB"
      },
      "source": [
        "# exponential moving average\n",
        "class EMA():\n",
        "    def __init__(self, beta):\n",
        "        self.beta = beta\n",
        "        \n",
        "    def __call__(self, ma, value):\n",
        "        return self.beta * ma + (1 - self.beta) * value"
      ],
      "execution_count": 2,
      "outputs": []
    },
    {
      "cell_type": "code",
      "metadata": {
        "id": "yawvwMWtzho1"
      },
      "source": [
        "class RandomApply(nn.Module):\n",
        "    def __init__(self, fn, p):\n",
        "        super().__init__()\n",
        "        self.fn = fn\n",
        "        self.p = p\n",
        "\n",
        "    def forward(self, x):\n",
        "        if torch.rand(1) > self.p:\n",
        "            return x\n",
        "        else:\n",
        "            return self.fn(x)"
      ],
      "execution_count": 3,
      "outputs": []
    },
    {
      "cell_type": "code",
      "metadata": {
        "id": "I2Jf98IoP37j"
      },
      "source": [
        "class Hook():\n",
        "    def __init__(self):\n",
        "        self.output = None\n",
        "        \n",
        "    def set_hook(self, module):\n",
        "        self.hook = module.register_forward_hook(self.hook_fn)\n",
        "\n",
        "    def hook_fn(self, module, input, output):\n",
        "        self.output = output\n",
        "        \n",
        "    def val(self):\n",
        "        return self.output"
      ],
      "execution_count": 4,
      "outputs": []
    },
    {
      "cell_type": "code",
      "metadata": {
        "id": "5YVuudJBMxnj"
      },
      "source": [
        "class MLP(nn.Module):\n",
        "    def __init__(self, input_dim, proj_dim, hidden_dim=4096):\n",
        "        super().__init__()\n",
        "        self.net = nn.Sequential(\n",
        "            nn.Linear(input_dim, hidden_dim),\n",
        "            nn.BatchNorm1d(hidden_dim),\n",
        "            nn.ReLU(inplace=True),\n",
        "            nn.Linear(hidden_dim, proj_dim)\n",
        "        )\n",
        "\n",
        "    def forward(self, x):\n",
        "        return self.net(x)"
      ],
      "execution_count": 5,
      "outputs": []
    },
    {
      "cell_type": "code",
      "metadata": {
        "id": "2EyTDJzgMxk-"
      },
      "source": [
        "class NetWrapper(nn.Module):\n",
        "    def __init__(self, net, proj_dim, proj_hidden_dim, embedding_layer=-2):\n",
        "        super().__init__()\n",
        "        self.projector = None\n",
        "        self.net = net\n",
        "        self.hook = Hook()\n",
        "        self.proj_dim = proj_dim\n",
        "        self.proj_hidden_dim = proj_hidden_dim\n",
        "        self.hook.set_hook(self._get_layer(embedding_layer))\n",
        "\n",
        "    def _get_layer(self, embedding_layer): # embedding_layer: int\n",
        "        try:\n",
        "            children = [*self.net.children()]\n",
        "            return children[embedding_layer]\n",
        "        except:\n",
        "            print(f'layer-{embedding_layer} not found!!')\n",
        "\n",
        "    def _get_projector(self, dim):\n",
        "        return MLP(dim, self.proj_dim, self.proj_hidden_dim)\n",
        "            \n",
        "    def embed(self, x):\n",
        "        _ = self.net(x)\n",
        "        embedding = self.hook.val()\n",
        "        embedding = embedding.reshape(embedding.shape[0], -1)\n",
        "        return embedding\n",
        "        \n",
        "    def forward(self, x):\n",
        "        embedding = self.embed(x)\n",
        "        if self.projector is None:\n",
        "            projector = self._get_projector(embedding.shape[1])\n",
        "            self.projector = projector.to(embedding.device)\n",
        "        projection = self.projector(embedding)\n",
        "        return projection"
      ],
      "execution_count": 6,
      "outputs": []
    },
    {
      "cell_type": "code",
      "metadata": {
        "id": "mRhILLNL-q9V"
      },
      "source": [
        "def loss_fn(x, y):\n",
        "    x = F.normalize(x, dim=-1, p=2)\n",
        "    y = F.normalize(y, dim=-1, p=2)\n",
        "    return 2 - 2 * (x * y).sum(-1)"
      ],
      "execution_count": 7,
      "outputs": []
    },
    {
      "cell_type": "code",
      "metadata": {
        "id": "irb5lc_hMxh9"
      },
      "source": [
        "class BYOL(nn.Module):\n",
        "    def __init__(self, net, img_size, loss_fn, embedding_layer=-2, proj_dim=256, proj_hidden_dim=4096, ema_decay=0.99):\n",
        "        super().__init__()\n",
        "        # SimCLR augmentation\n",
        "        self.augmentation = nn.Sequential(\n",
        "            RandomApply(\n",
        "                T.ColorJitter(0.8, 0.8, 0.8, 0.2),\n",
        "                p = 0.3\n",
        "            ),\n",
        "            T.RandomGrayscale(p=0.2),\n",
        "            T.RandomHorizontalFlip(),\n",
        "            RandomApply(\n",
        "                T.GaussianBlur((3, 3), (1.0, 2.0)),\n",
        "                p = 0.2\n",
        "            ),\n",
        "            T.RandomResizedCrop((img_size, img_size)),\n",
        "            T.Normalize(\n",
        "                mean=torch.tensor([0.485, 0.456, 0.406]),\n",
        "                std=torch.tensor([0.229, 0.224, 0.225])),\n",
        "        )\n",
        "        self.loss_fn = loss_fn\n",
        "        self.online_encoder = NetWrapper(net, proj_dim, proj_hidden_dim, embedding_layer)\n",
        "        self.online_predictor = MLP(proj_dim, proj_dim, proj_hidden_dim)\n",
        "        self.target_encoder = copy.deepcopy(self.online_encoder)\n",
        "        self.target_ema = EMA(ema_decay)\n",
        "    \n",
        "    def update_target_encoder(self):\n",
        "        for online_params, target_params in zip(self.online_encoder.parameters(), self.target_encoder.parameters()):\n",
        "            target_params.data = self.target_ema(ma=target_params.data, value=online_params.data)\n",
        "    \n",
        "    def learn(self, x):\n",
        "        view1 = self.augmentation(x) \n",
        "        view2 = self.augmentation(x)\n",
        "\n",
        "        online_proj1 = self.online_encoder(view1)\n",
        "        online_proj2 = self.online_encoder(view2)\n",
        "        online_pred1 = self.online_predictor(online_proj1)\n",
        "        online_pred2 = self.online_predictor(online_proj2)\n",
        "        \n",
        "        with torch.no_grad():\n",
        "            target_proj1 = self.target_encoder(view1)\n",
        "            target_proj2 = self.target_encoder(view2)\n",
        "            target_proj1 = target_proj1.detach()\n",
        "            target_proj2 = target_proj2.detach()\n",
        "        \n",
        "        loss1 = self.loss_fn(online_pred1, target_proj2)\n",
        "        loss2 = self.loss_fn(online_pred2, target_proj1)\n",
        "        loss = loss1 + loss2    \n",
        "        return loss.mean()\n",
        "    \n",
        "    def forward(self, x):\n",
        "        return self.online_encoder.embed(x)"
      ],
      "execution_count": 8,
      "outputs": []
    },
    {
      "cell_type": "code",
      "metadata": {
        "colab": {
          "base_uri": "https://localhost:8080/"
        },
        "id": "SZIvfBpHGkeI",
        "outputId": "4a85dde4-a01f-40d4-9d8f-0599237b122d"
      },
      "source": [
        "device = torch.device(\"cuda\" if torch.cuda.is_available() else \"cpu\")\n",
        "n_epochs = 5\n",
        "update_every = 1\n",
        "img_size = 256\n",
        "batch_size = 64\n",
        "lr = 3e-4\n",
        "transform = T.Compose(\n",
        "    [\n",
        "     T.Resize((2*img_size, 2*img_size)),\n",
        "     T.ToTensor()\n",
        "    ]\n",
        ")\n",
        "print(device)"
      ],
      "execution_count": 9,
      "outputs": [
        {
          "output_type": "stream",
          "text": [
            "cuda\n"
          ],
          "name": "stdout"
        }
      ]
    },
    {
      "cell_type": "code",
      "metadata": {
        "colab": {
          "base_uri": "https://localhost:8080/"
        },
        "id": "roqTkAVhGI45",
        "outputId": "fb198df6-5637-4ac2-977c-88f645f095c2"
      },
      "source": [
        "data = datasets.CIFAR10(\"data/\", train=False, download=True, transform=transform) # using test data\n",
        "loader = DataLoader(data, batch_size=batch_size, shuffle=True, num_workers=2, pin_memory=True)\n",
        "x, y = next(iter(loader))\n",
        "print(len(data), x.shape, y.shape)"
      ],
      "execution_count": 11,
      "outputs": [
        {
          "output_type": "stream",
          "text": [
            "Files already downloaded and verified\n",
            "10000 torch.Size([64, 3, 512, 512]) torch.Size([64])\n"
          ],
          "name": "stdout"
        }
      ]
    },
    {
      "cell_type": "code",
      "metadata": {
        "colab": {
          "base_uri": "https://localhost:8080/"
        },
        "id": "bRnPWNzE9uPc",
        "outputId": "4eacda0a-7661-4b87-9ad2-dcc7debe1cac"
      },
      "source": [
        "net = models.resnet18()\n",
        "byol = BYOL(net=net, img_size=img_size, loss_fn=loss_fn).to(device)\n",
        "optimizer = torch.optim.Adam(byol.parameters(), lr=lr)\n",
        "inp = torch.randn(3, 3, 256, 256).to(device)\n",
        "loss = byol.learn(inp)\n",
        "embedding = byol(inp)\n",
        "print(loss.item(), embedding.shape)\n",
        "del inp, loss, embedding"
      ],
      "execution_count": 12,
      "outputs": [
        {
          "output_type": "stream",
          "text": [
            "3.9696271419525146 torch.Size([3, 512])\n"
          ],
          "name": "stdout"
        }
      ]
    },
    {
      "cell_type": "code",
      "metadata": {
        "id": "4gljIC23FchT"
      },
      "source": [
        "def loop(byol, loader, epoch, update_every):\n",
        "    byol.train()\n",
        "    losses = []\n",
        "    pbar = tqdm(loader, total=len(loader))\n",
        "    for x, _ in pbar:\n",
        "        x = x.to(device)\n",
        "        loss = byol.learn(x)\n",
        "        losses.append(loss.item())\n",
        "        optimizer.zero_grad()\n",
        "        loss.backward()\n",
        "        optimizer.step()\n",
        "        if epoch % update_every == 0:\n",
        "            byol.update_target_encoder()\n",
        "        pbar.set_description(f'epoch={epoch}, avg_loss={np.mean(losses):.4f}')"
      ],
      "execution_count": 13,
      "outputs": []
    },
    {
      "cell_type": "code",
      "metadata": {
        "colab": {
          "base_uri": "https://localhost:8080/"
        },
        "id": "jUO7bE2vFcUz",
        "outputId": "613378b9-9d25-42b3-bfd2-935020f70f4c"
      },
      "source": [
        "for epoch in range(n_epochs):\n",
        "    loop(byol, loader, epoch, update_every)"
      ],
      "execution_count": 14,
      "outputs": [
        {
          "output_type": "stream",
          "text": [
            "epoch=0, avg_loss=1.2207: 100%|██████████| 157/157 [02:12<00:00,  1.19it/s]\n",
            "epoch=1, avg_loss=1.0153: 100%|██████████| 157/157 [02:14<00:00,  1.17it/s]\n",
            "epoch=2, avg_loss=1.0141: 100%|██████████| 157/157 [02:15<00:00,  1.16it/s]\n",
            "epoch=3, avg_loss=0.8536: 100%|██████████| 157/157 [02:13<00:00,  1.18it/s]\n",
            "epoch=4, avg_loss=0.8490: 100%|██████████| 157/157 [02:14<00:00,  1.17it/s]\n"
          ],
          "name": "stderr"
        }
      ]
    },
    {
      "cell_type": "code",
      "metadata": {
        "id": "lrD7TPoCLXlD",
        "colab": {
          "base_uri": "https://localhost:8080/",
          "height": 287
        },
        "outputId": "6ee6c4c6-8d95-40cf-dc2a-73dd99ed9d83"
      },
      "source": [
        "img, _ = data[42]\n",
        "plt.imshow(img.permute(1, 2, 0).cpu())\n",
        "plt.show()\n",
        "\n",
        "img = img.unsqueeze(0).to(device)\n",
        "byol.eval()\n",
        "with torch.no_grad():\n",
        "    emb = byol(img)\n",
        "    loss = byol.learn(img)\n",
        "print(emb.shape, loss.item())"
      ],
      "execution_count": 16,
      "outputs": [
        {
          "output_type": "display_data",
          "data": {
            "image/png": "[encoded data removed]",
            "text/plain": [
              "<Figure size 432x288 with 1 Axes>"
            ]
          },
          "metadata": {
            "tags": [],
            "needs_background": "light"
          }
        },
        {
          "output_type": "stream",
          "text": [
            "torch.Size([1, 512]) 0.3817148208618164\n"
          ],
          "name": "stdout"
        }
      ]
    }
  ]
}