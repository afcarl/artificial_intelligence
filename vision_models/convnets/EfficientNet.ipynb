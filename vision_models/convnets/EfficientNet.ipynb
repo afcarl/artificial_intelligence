{
  "nbformat": 4,
  "nbformat_minor": 0,
  "metadata": {
    "colab": {
      "name": "EfficientNet.ipynb",
      "provenance": [],
      "collapsed_sections": []
    },
    "kernelspec": {
      "name": "python3",
      "display_name": "Python 3"
    }
  },
  "cells": [
    {
      "cell_type": "code",
      "metadata": {
        "id": "oq4uPgsDMNg-"
      },
      "source": [
        "import math\r\n",
        "import torch\r\n",
        "import torch.nn as nn"
      ],
      "execution_count": 1,
      "outputs": []
    },
    {
      "cell_type": "code",
      "metadata": {
        "id": "PXIwh5nYVMeL"
      },
      "source": [
        "class ConvBlock(nn.Module):\r\n",
        "    def __init__(self, in_channels, out_channels, kernel_size, stride, padding, groups=1):\r\n",
        "        super().__init__()\r\n",
        "        self.conv = nn.Conv2d(in_channels, out_channels, kernel_size=kernel_size, stride=stride, \r\n",
        "                              padding=padding, groups=groups, bias=False)\r\n",
        "        self.bn = nn.BatchNorm2d(out_channels)\r\n",
        "        self.silu = nn.SiLU()\r\n",
        "\r\n",
        "    def forward(self, x):\r\n",
        "        return self.silu(self.bn(self.conv(x)))"
      ],
      "execution_count": 2,
      "outputs": []
    },
    {
      "cell_type": "code",
      "metadata": {
        "id": "qfZ0RUGjWW8K"
      },
      "source": [
        "class SqueezeExciatation(nn.Module):\r\n",
        "    def __init__(self, in_channels, reduced_dim):\r\n",
        "        super().__init__()\r\n",
        "        # kinda like the attention mechanism, computes \"attention score\" of each channel\r\n",
        "        self.se = nn.Sequential(\r\n",
        "            nn.AdaptiveAvgPool2d(1),\r\n",
        "            nn.Conv2d(in_channels, reduced_dim, 1),\r\n",
        "            nn.SiLU(),\r\n",
        "            nn.Conv2d(reduced_dim, in_channels, 1),\r\n",
        "            nn.Sigmoid()\r\n",
        "        )\r\n",
        "\r\n",
        "    def forward(self, x):\r\n",
        "        return x * self.se(x)"
      ],
      "execution_count": 3,
      "outputs": []
    },
    {
      "cell_type": "code",
      "metadata": {
        "id": "R7hEpvGwXRg_"
      },
      "source": [
        "class InvertedResidualBlock(nn.Module):\r\n",
        "    def __init__(self, in_channels, out_channels, kernel_size, stride, padding, \r\n",
        "                 expand_ratio, reduction=4, survival_prob=0.8):\r\n",
        "        super().__init__()\r\n",
        "        self.survival_prob = survival_prob\r\n",
        "        hidden_dim = in_channels * expand_ratio\r\n",
        "        self.expand = in_channels != hidden_dim\r\n",
        "        reduced_dim = int(in_channels / reduction)\r\n",
        "        self.add_skip = in_channels == out_channels and stride == 1\r\n",
        "\r\n",
        "        if self.expand:\r\n",
        "            self.expand_conv = ConvBlock(in_channels, hidden_dim, kernel_size=3, stride=1, padding=1)\r\n",
        "\r\n",
        "        self.conv = nn.Sequential(\r\n",
        "            ConvBlock(hidden_dim, hidden_dim, kernel_size=kernel_size, stride=stride, padding=padding, groups=hidden_dim),\r\n",
        "            SqueezeExciatation(hidden_dim, reduced_dim),\r\n",
        "            nn.Conv2d(hidden_dim, out_channels, kernel_size=1, bias=False),\r\n",
        "            nn.BatchNorm2d(out_channels)\r\n",
        "        )\r\n",
        "\r\n",
        "    # dropping randomly picked images in the minibatch\r\n",
        "    def stochastic_depth(self, x):\r\n",
        "        if not self.training:\r\n",
        "            return x\r\n",
        "        else:\r\n",
        "            onehot_tensor = torch.rand(x.shape[0], 1, 1, 1, device=x.device) < self.survival_prob\r\n",
        "            return (x / self.survival_prob) * onehot_tensor\r\n",
        "\r\n",
        "    def forward(self, inp):\r\n",
        "        x = self.expand_conv(inp) if self.expand else inp\r\n",
        "        if self.add_skip:\r\n",
        "            return self.stochastic_depth(self.conv(x)) + inp\r\n",
        "        else:\r\n",
        "            return self.conv(x)"
      ],
      "execution_count": 4,
      "outputs": []
    },
    {
      "cell_type": "code",
      "metadata": {
        "id": "3aegUnXXn-Sw"
      },
      "source": [
        "class EfficientNet(nn.Module):\r\n",
        "    def __init__(self, version, num_classes):\r\n",
        "        super().__init__()\r\n",
        "        self.version_values = {\r\n",
        "            # phi_value, resolution, drop_prob\r\n",
        "            \"b0\": (0, 224, 0.2),\r\n",
        "            \"b1\": (0.5, 240, 0.2),\r\n",
        "            \"b2\": (1, 260, 0.3),\r\n",
        "            \"b3\": (2, 300, 0.3),\r\n",
        "            \"b4\": (3, 380, 0.4),\r\n",
        "            \"b5\": (4, 456, 0.4),\r\n",
        "            \"b6\": (5, 528, 0.5),\r\n",
        "            \"b7\": (6, 600, 0.5),\r\n",
        "        }\r\n",
        "\r\n",
        "        self.base_model = [\r\n",
        "            # expand_ratio, channels, repeats, stride, kernel_size\r\n",
        "            [1, 16, 1, 1, 3],\r\n",
        "            [6, 24, 2, 2, 3],\r\n",
        "            [6, 40, 2, 2, 5],\r\n",
        "            [6, 80, 3, 2, 3],\r\n",
        "            [6, 112, 3, 1, 5],\r\n",
        "            [6, 192, 4, 2, 5],\r\n",
        "            [6, 320, 1, 1, 3],\r\n",
        "        ]\r\n",
        "\r\n",
        "        width_factor, depth_factor, drop_prob = self.get_factors(version)\r\n",
        "        last_channels = math.ceil(1280 * width_factor)\r\n",
        "\r\n",
        "        self.mb_convs = self.get_mb_convs(width_factor, depth_factor, last_channels)\r\n",
        "        self.pool = nn.AdaptiveAvgPool2d(1)\r\n",
        "        self.final = nn.Sequential(\r\n",
        "            nn.Dropout(drop_prob),\r\n",
        "            nn.Linear(last_channels, num_classes)\r\n",
        "        )\r\n",
        "\r\n",
        "    def get_factors(self, version, alpha=1.2, beta=1.1):\r\n",
        "        phi, res, drop_prob = self.version_values[version]\r\n",
        "        depth_factor = alpha ** phi\r\n",
        "        width_factor = beta ** phi\r\n",
        "\r\n",
        "        return width_factor, depth_factor, drop_prob\r\n",
        "\r\n",
        "    def get_mb_convs(self, width_factor, depth_factor, last_channels):\r\n",
        "        channels = int(32 * width_factor)\r\n",
        "        mb_conv_layers = [ConvBlock(3, channels, kernel_size=3, stride=2, padding=1)]\r\n",
        "        in_channels = channels\r\n",
        "\r\n",
        "        for expand_ratio, channels, repeats, stride, kernel_size in self.base_model:\r\n",
        "            out_channels = 4 * math.ceil(int(channels * width_factor) / 4)\r\n",
        "            layer_repeats = math.ceil(repeats * depth_factor)\r\n",
        "\r\n",
        "            for layer in range(layer_repeats):\r\n",
        "                mb_conv_layers.append(\r\n",
        "                    InvertedResidualBlock(in_channels, out_channels, kernel_size=kernel_size, stride=stride if layer==0 else 1, \r\n",
        "                                          padding=kernel_size//2, expand_ratio=expand_ratio)\r\n",
        "                )\r\n",
        "                in_channels = out_channels\r\n",
        "\r\n",
        "        mb_conv_layers.append(ConvBlock(in_channels, last_channels, kernel_size=1, stride=1, padding=0))\r\n",
        "        return nn.Sequential(*mb_conv_layers)\r\n",
        "\r\n",
        "    def forward(self, x):\r\n",
        "        x = self.pool(self.mb_convs(x))\r\n",
        "        x = x.view(x.shape[0], -1)\r\n",
        "        return self.final(x)"
      ],
      "execution_count": 5,
      "outputs": []
    },
    {
      "cell_type": "code",
      "metadata": {
        "colab": {
          "base_uri": "https://localhost:8080/"
        },
        "id": "ug2wOUjE2M5A",
        "outputId": "171bf5d9-3c03-443f-d8bd-8ad0257a1311"
      },
      "source": [
        "inp = torch.randn(1, 3, 224, 224)\r\n",
        "net = EfficientNet(\"b0\", 10)\r\n",
        "out = net(inp)\r\n",
        "print(out.shape)"
      ],
      "execution_count": 6,
      "outputs": [
        {
          "output_type": "stream",
          "text": [
            "torch.Size([1, 10])\n"
          ],
          "name": "stdout"
        }
      ]
    },
    {
      "cell_type": "code",
      "metadata": {
        "id": "Fmm506aWJ_G1"
      },
      "source": [
        ""
      ],
      "execution_count": null,
      "outputs": []
    },
    {
      "cell_type": "code",
      "metadata": {
        "id": "T9E3lcoSJ_EE"
      },
      "source": [
        ""
      ],
      "execution_count": null,
      "outputs": []
    }
  ]
}