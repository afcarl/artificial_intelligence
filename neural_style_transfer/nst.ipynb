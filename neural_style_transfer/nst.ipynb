{
  "nbformat": 4,
  "nbformat_minor": 0,
  "metadata": {
    "colab": {
      "name": "nst.ipynb",
      "provenance": [],
      "collapsed_sections": []
    },
    "kernelspec": {
      "name": "python3",
      "display_name": "Python 3"
    },
    "accelerator": "GPU"
  },
  "cells": [
    {
      "cell_type": "code",
      "metadata": {
        "id": "og_lEm8H57Jv"
      },
      "source": [
        "import tqdm\r\n",
        "import torch\r\n",
        "import numpy as np\r\n",
        "from PIL import Image\r\n",
        "import torch.nn as nn\r\n",
        "import torch.optim as optim\r\n",
        "import torchvision.models as models\r\n",
        "from torchvision.utils import save_image\r\n",
        "import torchvision.transforms as transforms"
      ],
      "execution_count": 1,
      "outputs": []
    },
    {
      "cell_type": "code",
      "metadata": {
        "colab": {
          "base_uri": "https://localhost:8080/",
          "height": 35
        },
        "id": "cW4V2o01_-22",
        "outputId": "3251b5bc-58f9-4ba4-8d82-99c20cecd7b8"
      },
      "source": [
        "torch.cuda.get_device_name()"
      ],
      "execution_count": 2,
      "outputs": [
        {
          "output_type": "execute_result",
          "data": {
            "application/vnd.google.colaboratory.intrinsic+json": {
              "type": "string"
            },
            "text/plain": [
              "'Tesla T4'"
            ]
          },
          "metadata": {
            "tags": []
          },
          "execution_count": 2
        }
      ]
    },
    {
      "cell_type": "code",
      "metadata": {
        "id": "y0ITX83K59jw"
      },
      "source": [
        "class Net(nn.Module):\r\n",
        "    def __init__(self):\r\n",
        "        super().__init__()\r\n",
        "        self.layers = [0, 5, 10, 19, 28]\r\n",
        "        self.vgg = models.vgg19(pretrained=True).features[:29]\r\n",
        "\r\n",
        "        for param in self.vgg.parameters():\r\n",
        "            param.requires_grad = False\r\n",
        "    \r\n",
        "    def forward(self, x):\r\n",
        "        features = []\r\n",
        "        for i, layer in enumerate(self.vgg):\r\n",
        "            x = layer(x)\r\n",
        "            if i in self.layers:\r\n",
        "                features.append(x)\r\n",
        "\r\n",
        "        return features"
      ],
      "execution_count": 3,
      "outputs": []
    },
    {
      "cell_type": "code",
      "metadata": {
        "id": "sUQTH-yQ59gO"
      },
      "source": [
        "def load_image(img, transform, device):\r\n",
        "    img = Image.open(img)\r\n",
        "    img = transform(img).unsqueeze(0).to(device)\r\n",
        "    return img"
      ],
      "execution_count": 4,
      "outputs": []
    },
    {
      "cell_type": "code",
      "metadata": {
        "colab": {
          "base_uri": "https://localhost:8080/"
        },
        "id": "6-KvqkfI59d5",
        "outputId": "ff3901d7-402a-4ed8-a5c7-dd53f62d5e3a"
      },
      "source": [
        "device = torch.device(\"cuda\" if torch.cuda.is_available() else \"cpu\")\r\n",
        "img_size = 356\r\n",
        "device"
      ],
      "execution_count": 5,
      "outputs": [
        {
          "output_type": "execute_result",
          "data": {
            "text/plain": [
              "device(type='cuda')"
            ]
          },
          "metadata": {
            "tags": []
          },
          "execution_count": 5
        }
      ]
    },
    {
      "cell_type": "code",
      "metadata": {
        "id": "fQ1Ei2VcAGds"
      },
      "source": [
        "transform = transforms.Compose([transforms.Resize((img_size, img_size)),\r\n",
        "                                transforms.ToTensor()])"
      ],
      "execution_count": 6,
      "outputs": []
    },
    {
      "cell_type": "code",
      "metadata": {
        "id": "8SBa1LU97jxd"
      },
      "source": [
        "original_img = load_image(\"elon_musk.jpg\", transform, device)\r\n",
        "style_img = load_image(\"picasso.jpg\", transform, device)\r\n",
        "generated_img = original_img.clone().requires_grad_(True)"
      ],
      "execution_count": 7,
      "outputs": []
    },
    {
      "cell_type": "code",
      "metadata": {
        "colab": {
          "base_uri": "https://localhost:8080/"
        },
        "id": "0XmllvO88rux",
        "outputId": "5f547457-bae2-4c43-bbe6-45405e6d2d7f"
      },
      "source": [
        "net = Net().to(device)\r\n",
        "net.eval()\r\n",
        "net"
      ],
      "execution_count": 8,
      "outputs": [
        {
          "output_type": "execute_result",
          "data": {
            "text/plain": [
              "Net(\n",
              "  (vgg): Sequential(\n",
              "    (0): Conv2d(3, 64, kernel_size=(3, 3), stride=(1, 1), padding=(1, 1))\n",
              "    (1): ReLU(inplace=True)\n",
              "    (2): Conv2d(64, 64, kernel_size=(3, 3), stride=(1, 1), padding=(1, 1))\n",
              "    (3): ReLU(inplace=True)\n",
              "    (4): MaxPool2d(kernel_size=2, stride=2, padding=0, dilation=1, ceil_mode=False)\n",
              "    (5): Conv2d(64, 128, kernel_size=(3, 3), stride=(1, 1), padding=(1, 1))\n",
              "    (6): ReLU(inplace=True)\n",
              "    (7): Conv2d(128, 128, kernel_size=(3, 3), stride=(1, 1), padding=(1, 1))\n",
              "    (8): ReLU(inplace=True)\n",
              "    (9): MaxPool2d(kernel_size=2, stride=2, padding=0, dilation=1, ceil_mode=False)\n",
              "    (10): Conv2d(128, 256, kernel_size=(3, 3), stride=(1, 1), padding=(1, 1))\n",
              "    (11): ReLU(inplace=True)\n",
              "    (12): Conv2d(256, 256, kernel_size=(3, 3), stride=(1, 1), padding=(1, 1))\n",
              "    (13): ReLU(inplace=True)\n",
              "    (14): Conv2d(256, 256, kernel_size=(3, 3), stride=(1, 1), padding=(1, 1))\n",
              "    (15): ReLU(inplace=True)\n",
              "    (16): Conv2d(256, 256, kernel_size=(3, 3), stride=(1, 1), padding=(1, 1))\n",
              "    (17): ReLU(inplace=True)\n",
              "    (18): MaxPool2d(kernel_size=2, stride=2, padding=0, dilation=1, ceil_mode=False)\n",
              "    (19): Conv2d(256, 512, kernel_size=(3, 3), stride=(1, 1), padding=(1, 1))\n",
              "    (20): ReLU(inplace=True)\n",
              "    (21): Conv2d(512, 512, kernel_size=(3, 3), stride=(1, 1), padding=(1, 1))\n",
              "    (22): ReLU(inplace=True)\n",
              "    (23): Conv2d(512, 512, kernel_size=(3, 3), stride=(1, 1), padding=(1, 1))\n",
              "    (24): ReLU(inplace=True)\n",
              "    (25): Conv2d(512, 512, kernel_size=(3, 3), stride=(1, 1), padding=(1, 1))\n",
              "    (26): ReLU(inplace=True)\n",
              "    (27): MaxPool2d(kernel_size=2, stride=2, padding=0, dilation=1, ceil_mode=False)\n",
              "    (28): Conv2d(512, 512, kernel_size=(3, 3), stride=(1, 1), padding=(1, 1))\n",
              "  )\n",
              ")"
            ]
          },
          "metadata": {
            "tags": []
          },
          "execution_count": 8
        }
      ]
    },
    {
      "cell_type": "code",
      "metadata": {
        "id": "U6-00lM38Qe6"
      },
      "source": [
        "steps = 10000\r\n",
        "lr = 1e-3\r\n",
        "alpha = 1\r\n",
        "beta = 1e-2\r\n",
        "opt = optim.Adam([generated_img], lr)"
      ],
      "execution_count": 9,
      "outputs": []
    },
    {
      "cell_type": "code",
      "metadata": {
        "colab": {
          "base_uri": "https://localhost:8080/"
        },
        "id": "NmVID70W8zPy",
        "outputId": "89332f4d-bfd3-4ad7-f8c8-d8afd1108caa"
      },
      "source": [
        "loop = tqdm.tqdm(range(steps), total=steps, leave=False)\r\n",
        "for step in loop:\r\n",
        "    og_features = net(original_img)\r\n",
        "    gen_features = net(generated_img)\r\n",
        "    sty_features = net(style_img)\r\n",
        "\r\n",
        "    content_loss = 0\r\n",
        "    style_loss = 0\r\n",
        "\r\n",
        "    for o, g, s in zip(og_features, gen_features, sty_features):\r\n",
        "        b, c, h, w = g.shape\r\n",
        "        content_loss += torch.mean((g - o) ** 2)\r\n",
        "\r\n",
        "        G = g.view(c, h * w).mm(g.view(c, h * w).t())\r\n",
        "        S = s.view(c, h * w).mm(s.view(c, h * w).t())\r\n",
        "\r\n",
        "        style_loss += torch.mean((G - S) ** 2)\r\n",
        "    \r\n",
        "    loss = alpha * content_loss + beta * style_loss\r\n",
        "    opt.zero_grad()\r\n",
        "    loss.backward()\r\n",
        "    opt.step()\r\n",
        "\r\n",
        "    if step % 1000 == 0:\r\n",
        "        print(f\" Loss: {np.round(loss.item(), 4)}\")\r\n",
        "        save_image(generated_img, f\"output_{step}.png\")\r\n",
        "        print(\"Image Saved!!\")\r\n",
        "        print(\"\")"
      ],
      "execution_count": 10,
      "outputs": [
        {
          "output_type": "stream",
          "text": [
            "  0%|          | 5/10000 [00:00<24:25,  6.82it/s]"
          ],
          "name": "stderr"
        },
        {
          "output_type": "stream",
          "text": [
            " Loss: 1196540.0\n",
            "Image Saved!!\n",
            "\n"
          ],
          "name": "stdout"
        },
        {
          "output_type": "stream",
          "text": [
            " 10%|█         | 1005/10000 [01:27<14:55, 10.05it/s]"
          ],
          "name": "stderr"
        },
        {
          "output_type": "stream",
          "text": [
            " Loss: 12331.498\n",
            "Image Saved!!\n",
            "\n"
          ],
          "name": "stdout"
        },
        {
          "output_type": "stream",
          "text": [
            " 20%|██        | 2005/10000 [02:58<13:34,  9.81it/s]"
          ],
          "name": "stderr"
        },
        {
          "output_type": "stream",
          "text": [
            " Loss: 4787.9014\n",
            "Image Saved!!\n",
            "\n"
          ],
          "name": "stdout"
        },
        {
          "output_type": "stream",
          "text": [
            " 30%|███       | 3005/10000 [04:30<12:03,  9.67it/s]"
          ],
          "name": "stderr"
        },
        {
          "output_type": "stream",
          "text": [
            " Loss: 3210.8015\n",
            "Image Saved!!\n",
            "\n"
          ],
          "name": "stdout"
        },
        {
          "output_type": "stream",
          "text": [
            " 40%|████      | 4005/10000 [06:03<10:23,  9.62it/s]"
          ],
          "name": "stderr"
        },
        {
          "output_type": "stream",
          "text": [
            " Loss: 2344.7749\n",
            "Image Saved!!\n",
            "\n"
          ],
          "name": "stdout"
        },
        {
          "output_type": "stream",
          "text": [
            " 50%|█████     | 5005/10000 [07:37<08:39,  9.62it/s]"
          ],
          "name": "stderr"
        },
        {
          "output_type": "stream",
          "text": [
            " Loss: 1789.3899\n",
            "Image Saved!!\n",
            "\n"
          ],
          "name": "stdout"
        },
        {
          "output_type": "stream",
          "text": [
            " 60%|██████    | 6005/10000 [09:11<06:59,  9.52it/s]"
          ],
          "name": "stderr"
        },
        {
          "output_type": "stream",
          "text": [
            " Loss: 1429.5714\n",
            "Image Saved!!\n",
            "\n"
          ],
          "name": "stdout"
        },
        {
          "output_type": "stream",
          "text": [
            " 70%|███████   | 7005/10000 [10:45<05:11,  9.62it/s]"
          ],
          "name": "stderr"
        },
        {
          "output_type": "stream",
          "text": [
            " Loss: 1207.6511\n",
            "Image Saved!!\n",
            "\n"
          ],
          "name": "stdout"
        },
        {
          "output_type": "stream",
          "text": [
            " 80%|████████  | 8005/10000 [12:20<03:26,  9.64it/s]"
          ],
          "name": "stderr"
        },
        {
          "output_type": "stream",
          "text": [
            " Loss: 1073.0446\n",
            "Image Saved!!\n",
            "\n"
          ],
          "name": "stdout"
        },
        {
          "output_type": "stream",
          "text": [
            " 90%|█████████ | 9005/10000 [13:54<01:44,  9.55it/s]"
          ],
          "name": "stderr"
        },
        {
          "output_type": "stream",
          "text": [
            " Loss: 991.6924\n",
            "Image Saved!!\n",
            "\n"
          ],
          "name": "stdout"
        },
        {
          "output_type": "stream",
          "text": [
            ""
          ],
          "name": "stderr"
        }
      ]
    },
    {
      "cell_type": "code",
      "metadata": {
        "id": "MafBGimLSF3J"
      },
      "source": [
        "save_image(generated_img, f\"output_{step+1}.png\")"
      ],
      "execution_count": 11,
      "outputs": []
    },
    {
      "cell_type": "code",
      "metadata": {
        "id": "u5msn7jmjiI6"
      },
      "source": [],
      "execution_count": null,
      "outputs": []
    },
    {
      "cell_type": "code",
      "metadata": {
        "id": "s4vj0Z6k59Zl"
      },
      "source": [],
      "execution_count": null,
      "outputs": []
    }
  ]
}