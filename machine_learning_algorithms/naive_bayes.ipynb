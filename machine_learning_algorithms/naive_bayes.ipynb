{
  "nbformat": 4,
  "nbformat_minor": 0,
  "metadata": {
    "colab": {
      "name": "naive_bayes.ipynb",
      "provenance": [],
      "collapsed_sections": []
    },
    "kernelspec": {
      "name": "python3",
      "display_name": "Python 3"
    }
  },
  "cells": [
    {
      "cell_type": "code",
      "metadata": {
        "id": "uARS_-b0Dv4L"
      },
      "source": [
        "import numpy as np\r\n",
        "from sklearn import datasets\r\n",
        "from sklearn.model_selection import train_test_split"
      ],
      "execution_count": 1,
      "outputs": []
    },
    {
      "cell_type": "code",
      "metadata": {
        "id": "AGrDj-RYDv0q"
      },
      "source": [
        "class NaiveBayes():\r\n",
        "    def fit(self, X, y):\r\n",
        "        n_samples, n_features = X.shape\r\n",
        "        self.classes = np.unique(y)\r\n",
        "        n_classes = len(self.classes)\r\n",
        "\r\n",
        "        self.means = np.zeros((n_classes, n_features), dtype=np.float64)\r\n",
        "        self.vars = np.zeros((n_classes, n_features), dtype=np.float64)\r\n",
        "        self.priors = np.zeros((n_classes), dtype=np.float64)\r\n",
        "\r\n",
        "        for i, c in enumerate(self.classes):\r\n",
        "            X_c = X[y == c]\r\n",
        "            self.means[i, :] = X_c.mean(axis=0)\r\n",
        "            self.vars[i, :] = X_c.var(axis=0)\r\n",
        "            self.priors[i] = X_c.shape[0] / n_samples\r\n",
        "\r\n",
        "    def predict(self, X):\r\n",
        "        return np.array([self._predict(x) for x in X])\r\n",
        "        \r\n",
        "    def _predict(self, x):\r\n",
        "        posteriors = []\r\n",
        "\r\n",
        "        for i, c in enumerate(self.classes):\r\n",
        "            prior = np.log(self.priors[i])\r\n",
        "            class_conditional = np.sum(np.log(self.prob_density_fn(i, x)))\r\n",
        "            posterior = class_conditional + prior\r\n",
        "            posteriors.append(posterior)\r\n",
        "\r\n",
        "        return self.classes[np.argmax(posteriors)]\r\n",
        "    \r\n",
        "    def prob_density_fn(self, class_idx, x):\r\n",
        "        mean = self.means[class_idx]\r\n",
        "        var = self.vars[class_idx]\r\n",
        "        prior = self.priors[class_idx]\r\n",
        "\r\n",
        "        num = np.exp(- (x - mean) ** 2 / (2 * var))\r\n",
        "        den = np.sqrt(2 * np.pi * var)\r\n",
        "\r\n",
        "        return num / den"
      ],
      "execution_count": 2,
      "outputs": []
    },
    {
      "cell_type": "code",
      "metadata": {
        "id": "bdvUCWMEDvyW"
      },
      "source": [
        "def accuracy(y_true, y_pred):\r\n",
        "    return np.sum(y_true == y_pred) / len(y_true)"
      ],
      "execution_count": 3,
      "outputs": []
    },
    {
      "cell_type": "code",
      "metadata": {
        "id": "ek7EDI8wJVHr"
      },
      "source": [
        "iris = datasets.load_iris()\r\n",
        "X, y = iris.data, iris.target\r\n",
        "X_train, X_test, y_train, y_test = train_test_split(X, y, test_size=0.2, random_state=123)"
      ],
      "execution_count": 4,
      "outputs": []
    },
    {
      "cell_type": "code",
      "metadata": {
        "colab": {
          "base_uri": "https://localhost:8080/"
        },
        "id": "iiVnf7TvJVEG",
        "outputId": "afb8f882-9c8f-4061-850d-dea33c3132bd"
      },
      "source": [
        "X.shape, y.shape"
      ],
      "execution_count": 5,
      "outputs": [
        {
          "output_type": "execute_result",
          "data": {
            "text/plain": [
              "((150, 4), (150,))"
            ]
          },
          "metadata": {
            "tags": []
          },
          "execution_count": 5
        }
      ]
    },
    {
      "cell_type": "code",
      "metadata": {
        "colab": {
          "base_uri": "https://localhost:8080/"
        },
        "id": "BgrLNXWCJbqt",
        "outputId": "81fb58bd-7f66-4619-d8c9-83f5b2503daa"
      },
      "source": [
        "X[42], y[42]"
      ],
      "execution_count": 6,
      "outputs": [
        {
          "output_type": "execute_result",
          "data": {
            "text/plain": [
              "(array([4.4, 3.2, 1.3, 0.2]), 0)"
            ]
          },
          "metadata": {
            "tags": []
          },
          "execution_count": 6
        }
      ]
    },
    {
      "cell_type": "code",
      "metadata": {
        "colab": {
          "base_uri": "https://localhost:8080/"
        },
        "id": "ykaZVhxp3HVH",
        "outputId": "064d565e-1f80-4c08-fe6f-0dd7284c8de1"
      },
      "source": [
        "np.unique(y)"
      ],
      "execution_count": 7,
      "outputs": [
        {
          "output_type": "execute_result",
          "data": {
            "text/plain": [
              "array([0, 1, 2])"
            ]
          },
          "metadata": {
            "tags": []
          },
          "execution_count": 7
        }
      ]
    },
    {
      "cell_type": "code",
      "metadata": {
        "id": "4cI4s9kAJbkx"
      },
      "source": [
        "model = NaiveBayes()\r\n",
        "model.fit(X_train, y_train)"
      ],
      "execution_count": 8,
      "outputs": []
    },
    {
      "cell_type": "code",
      "metadata": {
        "colab": {
          "base_uri": "https://localhost:8080/"
        },
        "id": "EiTI5lX1JVCF",
        "outputId": "fb407b38-23a3-4678-c89f-16eab20bde84"
      },
      "source": [
        "y_pred = model.predict(X_test)\r\n",
        "accuracy(y_test, y_pred)"
      ],
      "execution_count": 9,
      "outputs": [
        {
          "output_type": "execute_result",
          "data": {
            "text/plain": [
              "0.9666666666666667"
            ]
          },
          "metadata": {
            "tags": []
          },
          "execution_count": 9
        }
      ]
    },
    {
      "cell_type": "code",
      "metadata": {
        "id": "UbjKwldpDvt-"
      },
      "source": [
        ""
      ],
      "execution_count": null,
      "outputs": []
    },
    {
      "cell_type": "code",
      "metadata": {
        "id": "5v4FFkDLDoKc"
      },
      "source": [
        ""
      ],
      "execution_count": null,
      "outputs": []
    }
  ]
}