{
  "nbformat": 4,
  "nbformat_minor": 0,
  "metadata": {
    "colab": {
      "name": "linear_discriminant_analysis.ipynb",
      "provenance": [],
      "collapsed_sections": []
    },
    "kernelspec": {
      "name": "python3",
      "display_name": "Python 3"
    }
  },
  "cells": [
    {
      "cell_type": "code",
      "metadata": {
        "id": "OFR6lH8017f9"
      },
      "source": [
        "import numpy as np\r\n",
        "from sklearn import datasets\r\n",
        "import matplotlib.pyplot as plt"
      ],
      "execution_count": 1,
      "outputs": []
    },
    {
      "cell_type": "code",
      "metadata": {
        "id": "6orGDsBl17ch"
      },
      "source": [
        "class LDA():\r\n",
        "    def __init__(self, n_discriminants):\r\n",
        "        self.n_discriminants= n_discriminants\r\n",
        "        self.discriminants = None\r\n",
        "\r\n",
        "    def fit(self, X, y):\r\n",
        "        n_features = X.shape[1]\r\n",
        "        class_labels = np.unique(y)\r\n",
        "\r\n",
        "        mean_overall = np.mean(X, axis=0)\r\n",
        "        S_W = np.zeros((n_features, n_features))\r\n",
        "        S_B = np.zeros((n_features, n_features))\r\n",
        "\r\n",
        "        for c in class_labels:\r\n",
        "            X_c = X[y == c]\r\n",
        "            mean_c = np.mean(X_c, axis=0)\r\n",
        "            S_W += (X_c - mean_c).T.dot(X_c - mean_c)\r\n",
        "\r\n",
        "            n_c = X_c.shape[0]\r\n",
        "            mean_diff = (mean_c - mean_overall).reshape(n_features, 1)\r\n",
        "            S_B += n_c * (mean_diff).dot(mean_diff.T)\r\n",
        "\r\n",
        "        A = np.linalg.inv(S_W).dot(S_B)\r\n",
        "        eigen_values, eigen_vectors = np.linalg.eig(A)\r\n",
        "        eigen_vectors = eigen_vectors.T\r\n",
        "\r\n",
        "        idxs = np.argsort(eigen_values)[::-1]\r\n",
        "        eigen_vectors = eigen_vectors[idxs]\r\n",
        "        self.discriminants = eigen_vectors[0: self.n_discriminants]\r\n",
        "\r\n",
        "    def transform(self, X):\r\n",
        "        return np.dot(X, self.discriminants.T)"
      ],
      "execution_count": 2,
      "outputs": []
    },
    {
      "cell_type": "code",
      "metadata": {
        "id": "2KQg5CrJqN_r"
      },
      "source": [
        "iris = datasets.load_iris()\r\n",
        "X, y = iris.data, iris.target"
      ],
      "execution_count": 3,
      "outputs": []
    },
    {
      "cell_type": "code",
      "metadata": {
        "colab": {
          "base_uri": "https://localhost:8080/"
        },
        "id": "43GMq9K6sqJ6",
        "outputId": "9ad74e71-15b9-408d-cb5d-687f9519f8e8"
      },
      "source": [
        "X.shape, y.shape"
      ],
      "execution_count": 4,
      "outputs": [
        {
          "output_type": "execute_result",
          "data": {
            "text/plain": [
              "((150, 4), (150,))"
            ]
          },
          "metadata": {
            "tags": []
          },
          "execution_count": 4
        }
      ]
    },
    {
      "cell_type": "code",
      "metadata": {
        "id": "TEh7dQlgsqGi"
      },
      "source": [
        "lda = LDA(n_discriminants=2)\r\n",
        "lda.fit(X, y)"
      ],
      "execution_count": 5,
      "outputs": []
    },
    {
      "cell_type": "code",
      "metadata": {
        "colab": {
          "base_uri": "https://localhost:8080/"
        },
        "id": "rKK7y3eTohCU",
        "outputId": "1b694d45-f747-4fa1-b6b6-4a8b27689c74"
      },
      "source": [
        "X_proj = lda.transform(X)\r\n",
        "X.shape, X_proj.shape"
      ],
      "execution_count": 6,
      "outputs": [
        {
          "output_type": "execute_result",
          "data": {
            "text/plain": [
              "((150, 4), (150, 2))"
            ]
          },
          "metadata": {
            "tags": []
          },
          "execution_count": 6
        }
      ]
    },
    {
      "cell_type": "code",
      "metadata": {
        "colab": {
          "base_uri": "https://localhost:8080/",
          "height": 283
        },
        "id": "N90s1FB8s-6G",
        "outputId": "ee443a21-2a52-41c6-bd7f-d3dd2e3acac0"
      },
      "source": [
        "plt.scatter(X_proj[:, 0], X_proj[:, 1], c=y, edgecolor='none', alpha=0.8, cmap=plt.cm.get_cmap('viridis', 3))\r\n",
        "plt.xlabel(\"LD - 1\")\r\n",
        "plt.ylabel(\"LD - 2\")\r\n",
        "plt.colorbar()\r\n",
        "plt.show()"
      ],
      "execution_count": 7,
      "outputs": [
        {
          "output_type": "display_data",
          "data": {
            "image/png": "[encoded data removed]",
            "text/plain": [
              "<Figure size 432x288 with 2 Axes>"
            ]
          },
          "metadata": {
            "tags": [],
            "needs_background": "light"
          }
        }
      ]
    },
    {
      "cell_type": "code",
      "metadata": {
        "id": "QRFJoA_C1ztE"
      },
      "source": [
        ""
      ],
      "execution_count": null,
      "outputs": []
    },
    {
      "cell_type": "code",
      "metadata": {
        "id": "E-4HAdZj2ewe"
      },
      "source": [
        ""
      ],
      "execution_count": null,
      "outputs": []
    }
  ]
}