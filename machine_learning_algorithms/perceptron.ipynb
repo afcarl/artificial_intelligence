{
  "nbformat": 4,
  "nbformat_minor": 0,
  "metadata": {
    "colab": {
      "name": "perceptron.ipynb",
      "provenance": [],
      "collapsed_sections": []
    },
    "kernelspec": {
      "name": "python3",
      "display_name": "Python 3"
    }
  },
  "cells": [
    {
      "cell_type": "code",
      "metadata": {
        "id": "jsnx9D-WN1QG"
      },
      "source": [
        "import numpy as np\r\n",
        "from sklearn import datasets\r\n",
        "from sklearn.model_selection import train_test_split"
      ],
      "execution_count": 1,
      "outputs": []
    },
    {
      "cell_type": "code",
      "metadata": {
        "id": "zmouy-OJPoRq"
      },
      "source": [
        "def unit_gate(x):\r\n",
        "    return np.where(x >= 0, 1, 0)"
      ],
      "execution_count": 2,
      "outputs": []
    },
    {
      "cell_type": "code",
      "metadata": {
        "id": "K8WMHqhbP9Xl"
      },
      "source": [
        "class Perceptron():\r\n",
        "    def __init__(self, lr=1e-3, n_iters=1000):\r\n",
        "        self.lr = lr\r\n",
        "        self.n_iters = 1000\r\n",
        "        self.w = None\r\n",
        "        self.b = None\r\n",
        "    \r\n",
        "    def fit(self, X, y):\r\n",
        "        n_samples, n_features = X.shape\r\n",
        "        y = np.array([1 if i > 0 else 0 for i in y])\r\n",
        "\r\n",
        "        self.w = np.zeros(n_features)\r\n",
        "        self.b = 0\r\n",
        "        \r\n",
        "        for _ in range(self.n_iters):\r\n",
        "            for i, x_i in enumerate(X):\r\n",
        "                y_pred = unit_gate(np.dot(x_i, self.w) + self.b)\r\n",
        "                update = self.lr * (y[i] - y_pred)\r\n",
        "                \r\n",
        "                self.w += update * x_i\r\n",
        "                self.b += update\r\n",
        "\r\n",
        "    def predict(self, X):\r\n",
        "        return unit_gate(np.dot(X, self.w) + self.b)"
      ],
      "execution_count": 3,
      "outputs": []
    },
    {
      "cell_type": "code",
      "metadata": {
        "id": "h6aQGTMAP9UL"
      },
      "source": [
        "def accuracy(y_true, y_pred):\r\n",
        "    return np.sum(y_true == y_pred) / len(y_true)"
      ],
      "execution_count": 4,
      "outputs": []
    },
    {
      "cell_type": "code",
      "metadata": {
        "id": "X0P664dDP9R0"
      },
      "source": [
        "bc = datasets.load_breast_cancer()\r\n",
        "X, y = bc.data, bc.target\r\n",
        "X_train, X_test, y_train, y_test = train_test_split(X, y, test_size=0.2, random_state=123)"
      ],
      "execution_count": 5,
      "outputs": []
    },
    {
      "cell_type": "code",
      "metadata": {
        "colab": {
          "base_uri": "https://localhost:8080/"
        },
        "id": "o_sjP6NiSgNc",
        "outputId": "b91a332c-5125-4748-91dd-5b0e2c09a8bb"
      },
      "source": [
        "X.shape, y.shape"
      ],
      "execution_count": 6,
      "outputs": [
        {
          "output_type": "execute_result",
          "data": {
            "text/plain": [
              "((569, 30), (569,))"
            ]
          },
          "metadata": {
            "tags": []
          },
          "execution_count": 6
        }
      ]
    },
    {
      "cell_type": "code",
      "metadata": {
        "colab": {
          "base_uri": "https://localhost:8080/"
        },
        "id": "L6QL6DV9Sh38",
        "outputId": "920b2506-ebe3-4f28-d7d2-805867432c88"
      },
      "source": [
        "X[42], y[42]"
      ],
      "execution_count": 7,
      "outputs": [
        {
          "output_type": "execute_result",
          "data": {
            "text/plain": [
              "(array([1.907e+01, 2.481e+01, 1.283e+02, 1.104e+03, 9.081e-02, 2.190e-01,\n",
              "        2.107e-01, 9.961e-02, 2.310e-01, 6.343e-02, 9.811e-01, 1.666e+00,\n",
              "        8.830e+00, 1.049e+02, 6.548e-03, 1.006e-01, 9.723e-02, 2.638e-02,\n",
              "        5.333e-02, 7.646e-03, 2.409e+01, 3.317e+01, 1.774e+02, 1.651e+03,\n",
              "        1.247e-01, 7.444e-01, 7.242e-01, 2.493e-01, 4.670e-01, 1.038e-01]), 0)"
            ]
          },
          "metadata": {
            "tags": []
          },
          "execution_count": 7
        }
      ]
    },
    {
      "cell_type": "code",
      "metadata": {
        "id": "hzanEaxQSh0j"
      },
      "source": [
        "model = Perceptron()\r\n",
        "model.fit(X_train, y_train)"
      ],
      "execution_count": 8,
      "outputs": []
    },
    {
      "cell_type": "code",
      "metadata": {
        "colab": {
          "base_uri": "https://localhost:8080/"
        },
        "id": "2XxhPgyxTlHA",
        "outputId": "8414f977-9d89-4ad4-94c6-c503642251ed"
      },
      "source": [
        "model.w, model.b"
      ],
      "execution_count": 9,
      "outputs": [
        {
          "output_type": "execute_result",
          "data": {
            "text/plain": [
              "(array([ 1.48725130e+01, -7.03990000e-01,  4.10215800e+01,  2.61180000e+00,\n",
              "        -2.95200950e-01, -1.52794269e+00, -2.26373296e+00, -9.35048261e-01,\n",
              "        -3.38541100e-01, -7.94289800e-02,  4.52090000e-01, -1.70837500e-01,\n",
              "        -2.66230710e+00, -1.83705480e+01, -5.38263310e-02, -3.34923981e-01,\n",
              "        -4.85528670e-01, -1.10925204e-01, -1.01258765e-01, -2.47553258e-02,\n",
              "         1.52548570e+01, -2.46016600e+01,  1.75051000e+01, -8.29790000e+00,\n",
              "        -6.20697800e-01, -4.57378783e+00, -5.84391758e+00, -1.60656258e+00,\n",
              "        -1.27016690e+00, -3.85742740e-01]), 2.050999999999885)"
            ]
          },
          "metadata": {
            "tags": []
          },
          "execution_count": 9
        }
      ]
    },
    {
      "cell_type": "code",
      "metadata": {
        "colab": {
          "base_uri": "https://localhost:8080/"
        },
        "id": "0xglWZwHTn6M",
        "outputId": "bc8736a6-8b3c-4d9b-f519-2e205335e0b3"
      },
      "source": [
        "y_pred = model.predict(X_test)\r\n",
        "accuracy(y_test, y_pred)"
      ],
      "execution_count": 10,
      "outputs": [
        {
          "output_type": "execute_result",
          "data": {
            "text/plain": [
              "0.9298245614035088"
            ]
          },
          "metadata": {
            "tags": []
          },
          "execution_count": 10
        }
      ]
    },
    {
      "cell_type": "code",
      "metadata": {
        "id": "drQLZNmlTk25"
      },
      "source": [
        ""
      ],
      "execution_count": null,
      "outputs": []
    },
    {
      "cell_type": "code",
      "metadata": {
        "id": "3BBdl6mlWgS7"
      },
      "source": [
        ""
      ],
      "execution_count": null,
      "outputs": []
    }
  ]
}