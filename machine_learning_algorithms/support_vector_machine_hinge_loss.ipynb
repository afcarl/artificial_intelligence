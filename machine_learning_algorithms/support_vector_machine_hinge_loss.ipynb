{
 "cells": [
  {
   "cell_type": "code",
   "execution_count": 1,
   "metadata": {
    "id": "CMTRozaMYBpA"
   },
   "outputs": [],
   "source": [
    "import numpy as np\n",
    "from sklearn import datasets\n",
    "import matplotlib.pyplot as plt\n",
    "from sklearn.model_selection import train_test_split"
   ]
  },
  {
   "cell_type": "code",
   "execution_count": 2,
   "metadata": {
    "id": "cESQ4e4ZYBjm"
   },
   "outputs": [],
   "source": [
    "class SVM():\n",
    "    def __init__(self, lr=1e-3, lambda_param=1e-2, n_iters=1000):\n",
    "        self.lr = lr\n",
    "        self.lambda_param = lambda_param\n",
    "        self.n_iters = n_iters\n",
    "        self.w = None\n",
    "        self.b = None\n",
    "\n",
    "    def fit(self, X, y):\n",
    "        n_samples, n_features = X.shape\n",
    "        y = np.array([-1 if i <= 0 else 1 for i in y])\n",
    "\n",
    "        self.w = np.zeros(n_features)\n",
    "        self.b = 0\n",
    "\n",
    "        for _ in range(self.n_iters):\n",
    "            for i, x_i in enumerate(X):\n",
    "                if y[i] * (np.dot(x_i, self.w) - self.b) >= 1:\n",
    "                    self.w -= self.lr * (2 * self.lambda_param * self.w)\n",
    "                else:\n",
    "                    self.w -= self.lr * (2 * self.lambda_param * self.w - np.dot(x_i, y[i]))\n",
    "                    self.b -= self.lr * y[i]\n",
    "\n",
    "    def predict(self, X):\n",
    "        return np.sign(np.dot(X, self.w) - self.b)"
   ]
  },
  {
   "cell_type": "code",
   "execution_count": 3,
   "metadata": {
    "id": "A8MWFyX10Rb8"
   },
   "outputs": [],
   "source": [
    "def accuracy(y_true, y_pred):\n",
    "    return np.sum(y_true == y_pred) / len(y_true)"
   ]
  },
  {
   "cell_type": "code",
   "execution_count": 4,
   "metadata": {
    "id": "eSAWaEgt0rcU"
   },
   "outputs": [],
   "source": [
    "bc = datasets.load_breast_cancer()\n",
    "X, y = bc.data, bc.target\n",
    "y = np.where(y == 0, -1, 1)\n",
    "X_train, X_test, y_train, y_test = train_test_split(X, y, test_size=0.2, random_state=123)"
   ]
  },
  {
   "cell_type": "code",
   "execution_count": 5,
   "metadata": {
    "colab": {
     "base_uri": "https://localhost:8080/"
    },
    "id": "zBtz3bCeYL-U",
    "outputId": "fabb70c4-8049-4710-df32-1a0218f09ab1"
   },
   "outputs": [
    {
     "data": {
      "text/plain": [
       "((569, 30), (569,))"
      ]
     },
     "execution_count": 5,
     "metadata": {
      "tags": []
     },
     "output_type": "execute_result"
    }
   ],
   "source": [
    "X.shape, y.shape"
   ]
  },
  {
   "cell_type": "code",
   "execution_count": 6,
   "metadata": {
    "colab": {
     "base_uri": "https://localhost:8080/"
    },
    "id": "QnyxwVjgYL7c",
    "outputId": "aa7cf644-02fc-451e-957c-7f7a74c69d4c"
   },
   "outputs": [
    {
     "data": {
      "text/plain": [
       "(array([1.907e+01, 2.481e+01, 1.283e+02, 1.104e+03, 9.081e-02, 2.190e-01,\n",
       "        2.107e-01, 9.961e-02, 2.310e-01, 6.343e-02, 9.811e-01, 1.666e+00,\n",
       "        8.830e+00, 1.049e+02, 6.548e-03, 1.006e-01, 9.723e-02, 2.638e-02,\n",
       "        5.333e-02, 7.646e-03, 2.409e+01, 3.317e+01, 1.774e+02, 1.651e+03,\n",
       "        1.247e-01, 7.444e-01, 7.242e-01, 2.493e-01, 4.670e-01, 1.038e-01]), -1)"
      ]
     },
     "execution_count": 6,
     "metadata": {
      "tags": []
     },
     "output_type": "execute_result"
    }
   ],
   "source": [
    "X[42], y[42]"
   ]
  },
  {
   "cell_type": "code",
   "execution_count": 7,
   "metadata": {
    "colab": {
     "base_uri": "https://localhost:8080/"
    },
    "id": "HccEvtTA2Ww6",
    "outputId": "5c673e04-a56b-47f0-885d-2c998d8b5b26"
   },
   "outputs": [
    {
     "data": {
      "text/plain": [
       "array([-1,  1])"
      ]
     },
     "execution_count": 7,
     "metadata": {
      "tags": []
     },
     "output_type": "execute_result"
    }
   ],
   "source": [
    "np.unique(y)"
   ]
  },
  {
   "cell_type": "code",
   "execution_count": 8,
   "metadata": {
    "id": "luAo2Zfg1W_s"
   },
   "outputs": [],
   "source": [
    "model = SVM()\n",
    "model.fit(X_train, y_train)"
   ]
  },
  {
   "cell_type": "code",
   "execution_count": 9,
   "metadata": {
    "colab": {
     "base_uri": "https://localhost:8080/"
    },
    "id": "r4nZ-3vq3Wgl",
    "outputId": "abaa4981-6b39-4f01-ef02-67a31a5b49ae"
   },
   "outputs": [
    {
     "data": {
      "text/plain": [
       "(array([ 3.83823814e+00,  3.65957605e-01,  1.71484598e+01,  5.59970243e+00,\n",
       "        -7.63409349e-03, -1.87962320e-01, -2.92659485e-01, -1.17698412e-01,\n",
       "        -2.34414484e-03,  6.83456045e-03,  6.14403888e-04, -1.95288436e-02,\n",
       "        -6.76545927e-01, -1.12561942e+01, -5.79518230e-03, -5.46204909e-02,\n",
       "        -7.07367399e-02, -1.52036826e-02, -1.11786085e-02, -4.17249376e-03,\n",
       "         3.99655823e+00, -1.04857309e+00,  1.45531289e+01, -7.52512927e+00,\n",
       "        -3.71040849e-02, -6.01134309e-01, -7.37737372e-01, -1.92540983e-01,\n",
       "        -1.01609255e-01, -3.33491710e-02]), -4.923999999999979)"
      ]
     },
     "execution_count": 9,
     "metadata": {
      "tags": []
     },
     "output_type": "execute_result"
    }
   ],
   "source": [
    "model.w, model.b"
   ]
  },
  {
   "cell_type": "code",
   "execution_count": 10,
   "metadata": {
    "colab": {
     "base_uri": "https://localhost:8080/"
    },
    "id": "o1f_0nIe1W30",
    "outputId": "1581e092-1923-4a7f-856f-c783369de83a"
   },
   "outputs": [
    {
     "data": {
      "text/plain": [
       "0.956140350877193"
      ]
     },
     "execution_count": 10,
     "metadata": {
      "tags": []
     },
     "output_type": "execute_result"
    }
   ],
   "source": [
    "y_pred = model.predict(X_test)\n",
    "accuracy(y_test, y_pred)"
   ]
  },
  {
   "cell_type": "code",
   "execution_count": null,
   "metadata": {
    "id": "SeKCJ2wy8JTW"
   },
   "outputs": [],
   "source": []
  },
  {
   "cell_type": "code",
   "execution_count": null,
   "metadata": {
    "id": "cLBtI6wwX9a7"
   },
   "outputs": [],
   "source": []
  }
 ],
 "metadata": {
  "colab": {
   "collapsed_sections": [],
   "name": "support_vector_machine.ipynb",
   "provenance": []
  },
  "kernelspec": {
   "display_name": "Python 3",
   "language": "python",
   "name": "python3"
  },
  "language_info": {
   "codemirror_mode": {
    "name": "ipython",
    "version": 3
   },
   "file_extension": ".py",
   "mimetype": "text/x-python",
   "name": "python",
   "nbconvert_exporter": "python",
   "pygments_lexer": "ipython3",
   "version": "3.7.7"
  }
 },
 "nbformat": 4,
 "nbformat_minor": 1
}
