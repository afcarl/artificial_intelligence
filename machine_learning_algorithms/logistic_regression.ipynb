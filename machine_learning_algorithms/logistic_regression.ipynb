{
  "nbformat": 4,
  "nbformat_minor": 0,
  "metadata": {
    "colab": {
      "name": "logistic_regression.ipynb",
      "provenance": [],
      "collapsed_sections": []
    },
    "kernelspec": {
      "name": "python3",
      "display_name": "Python 3"
    }
  },
  "cells": [
    {
      "cell_type": "code",
      "metadata": {
        "id": "aJeYVbzhPW7b"
      },
      "source": [
        "import numpy as np\r\n",
        "from sklearn import datasets\r\n",
        "from sklearn.model_selection import train_test_split"
      ],
      "execution_count": 1,
      "outputs": []
    },
    {
      "cell_type": "code",
      "metadata": {
        "id": "YS1yJuDwcbLS"
      },
      "source": [
        "def sigmoid(x):\r\n",
        "    return 1 / (1 + np.exp(-x))"
      ],
      "execution_count": 2,
      "outputs": []
    },
    {
      "cell_type": "code",
      "metadata": {
        "id": "XD3qB3QVPW33"
      },
      "source": [
        "class LogisticRegression():\r\n",
        "    def __init__(self, lr=1e-3, n_iters=1000):\r\n",
        "        self.lr = lr\r\n",
        "        self.n_iters = n_iters\r\n",
        "        self.w = None\r\n",
        "        self.b = None\r\n",
        "\r\n",
        "    def fit(self, X, y):\r\n",
        "        n_samples, n_features = X.shape\r\n",
        "        self.w = np.zeros(n_features)\r\n",
        "        self.b = 0\r\n",
        "\r\n",
        "        for _ in range(self.n_iters):\r\n",
        "            y_pred = sigmoid(np.dot(X, self.w) + self.b)\r\n",
        "\r\n",
        "            dw = (1 / n_samples) * np.dot(X.T, y_pred - y)\r\n",
        "            db = (1 / n_samples) * np.sum(y_pred - y)\r\n",
        "\r\n",
        "            self.w -= self.lr * dw\r\n",
        "            self.b -= self.lr * db\r\n",
        "\r\n",
        "    def predict(self, X):\r\n",
        "        y_pred = sigmoid(np.dot(X, self.w) + self.b)\r\n",
        "        y_pred = [1 if i > 0.5 else 0 for i in y_pred]\r\n",
        "\r\n",
        "        return y_pred"
      ],
      "execution_count": 3,
      "outputs": []
    },
    {
      "cell_type": "code",
      "metadata": {
        "id": "no5M2YPBdO5h"
      },
      "source": [
        "def accuracy(y_true, y_pred):\r\n",
        "    return np.sum(y_true == y_pred) / len(y_true)"
      ],
      "execution_count": 4,
      "outputs": []
    },
    {
      "cell_type": "code",
      "metadata": {
        "id": "hvKfro-_Cbk3"
      },
      "source": [
        "bc = datasets.load_breast_cancer()\r\n",
        "X, y = bc.data, bc.target\r\n",
        "X_train, X_test, y_train, y_test = train_test_split(X, y, test_size=0.2, random_state=1234)"
      ],
      "execution_count": 5,
      "outputs": []
    },
    {
      "cell_type": "code",
      "metadata": {
        "colab": {
          "base_uri": "https://localhost:8080/"
        },
        "id": "VESyLD-mCbha",
        "outputId": "5dabd78f-6dfe-4dd9-b6c7-fdf874b05217"
      },
      "source": [
        "X.shape, y.shape"
      ],
      "execution_count": 6,
      "outputs": [
        {
          "output_type": "execute_result",
          "data": {
            "text/plain": [
              "((569, 30), (569,))"
            ]
          },
          "metadata": {
            "tags": []
          },
          "execution_count": 6
        }
      ]
    },
    {
      "cell_type": "code",
      "metadata": {
        "colab": {
          "base_uri": "https://localhost:8080/"
        },
        "id": "o0AKq91fLWoR",
        "outputId": "6c9fdb12-50f1-43e4-92af-bc0138f17bb2"
      },
      "source": [
        "X[42], y[42]"
      ],
      "execution_count": 7,
      "outputs": [
        {
          "output_type": "execute_result",
          "data": {
            "text/plain": [
              "(array([1.907e+01, 2.481e+01, 1.283e+02, 1.104e+03, 9.081e-02, 2.190e-01,\n",
              "        2.107e-01, 9.961e-02, 2.310e-01, 6.343e-02, 9.811e-01, 1.666e+00,\n",
              "        8.830e+00, 1.049e+02, 6.548e-03, 1.006e-01, 9.723e-02, 2.638e-02,\n",
              "        5.333e-02, 7.646e-03, 2.409e+01, 3.317e+01, 1.774e+02, 1.651e+03,\n",
              "        1.247e-01, 7.444e-01, 7.242e-01, 2.493e-01, 4.670e-01, 1.038e-01]), 0)"
            ]
          },
          "metadata": {
            "tags": []
          },
          "execution_count": 7
        }
      ]
    },
    {
      "cell_type": "code",
      "metadata": {
        "colab": {
          "base_uri": "https://localhost:8080/"
        },
        "id": "AQeApUzULapM",
        "outputId": "cf9589ec-4646-4419-9086-a38695b4f1d8"
      },
      "source": [
        "np.unique(y)"
      ],
      "execution_count": 8,
      "outputs": [
        {
          "output_type": "execute_result",
          "data": {
            "text/plain": [
              "array([0, 1])"
            ]
          },
          "metadata": {
            "tags": []
          },
          "execution_count": 8
        }
      ]
    },
    {
      "cell_type": "code",
      "metadata": {
        "id": "bMltn-P1eBtJ"
      },
      "source": [
        "model = LogisticRegression(lr=1e-4)\r\n",
        "model.fit(X_train, y_train)"
      ],
      "execution_count": 9,
      "outputs": []
    },
    {
      "cell_type": "code",
      "metadata": {
        "colab": {
          "base_uri": "https://localhost:8080/"
        },
        "id": "qUsXBlNNv1J0",
        "outputId": "849e50f0-5344-445c-a998-6212fd28fd02"
      },
      "source": [
        "model.w, model.b"
      ],
      "execution_count": 10,
      "outputs": [
        {
          "output_type": "execute_result",
          "data": {
            "text/plain": [
              "(array([ 3.15267538e-02,  4.38592690e-02,  1.82394637e-01,  7.27657289e-02,\n",
              "         2.81683690e-04, -1.58921860e-04, -5.94869592e-04, -2.47270611e-04,\n",
              "         5.51932783e-04,  2.26761495e-04,  1.51071202e-04,  3.05608006e-03,\n",
              "        -1.13197589e-03, -8.16912730e-02,  1.44483806e-05, -4.65383514e-05,\n",
              "        -7.39608956e-05, -1.01074526e-05,  5.54703739e-05,  1.84514942e-06,\n",
              "         3.33636766e-02,  5.58146134e-02,  1.82897269e-01, -9.88462272e-02,\n",
              "         3.48754542e-04, -6.74411296e-04, -1.27433782e-03, -2.94192307e-04,\n",
              "         7.76822709e-04,  1.96607498e-04]), 0.004111914763563402)"
            ]
          },
          "metadata": {
            "tags": []
          },
          "execution_count": 10
        }
      ]
    },
    {
      "cell_type": "code",
      "metadata": {
        "colab": {
          "base_uri": "https://localhost:8080/"
        },
        "id": "YQgScVtIdcW4",
        "outputId": "8a7e32bd-3a19-4027-83ac-cab9bba147de"
      },
      "source": [
        "y_pred = model.predict(X_test)\r\n",
        "accuracy(y_test, y_pred)"
      ],
      "execution_count": 11,
      "outputs": [
        {
          "output_type": "execute_result",
          "data": {
            "text/plain": [
              "0.9298245614035088"
            ]
          },
          "metadata": {
            "tags": []
          },
          "execution_count": 11
        }
      ]
    },
    {
      "cell_type": "code",
      "metadata": {
        "id": "pqgzz-bMfo2q"
      },
      "source": [
        ""
      ],
      "execution_count": null,
      "outputs": []
    },
    {
      "cell_type": "code",
      "metadata": {
        "id": "8LFeDvCZfn4a"
      },
      "source": [
        ""
      ],
      "execution_count": null,
      "outputs": []
    }
  ]
}