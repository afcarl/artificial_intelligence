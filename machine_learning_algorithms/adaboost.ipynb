{
  "nbformat": 4,
  "nbformat_minor": 0,
  "metadata": {
    "colab": {
      "name": "adaboost.ipynb",
      "provenance": [],
      "collapsed_sections": []
    },
    "kernelspec": {
      "name": "python3",
      "display_name": "Python 3"
    }
  },
  "cells": [
    {
      "cell_type": "code",
      "metadata": {
        "id": "jn5OI6DfDpmr"
      },
      "source": [
        "import numpy as np\r\n",
        "from sklearn import datasets\r\n",
        "from sklearn.model_selection import train_test_split"
      ],
      "execution_count": 1,
      "outputs": []
    },
    {
      "cell_type": "code",
      "metadata": {
        "id": "x2xv5MzSDr5O"
      },
      "source": [
        "class DecisionStump():\r\n",
        "    def __init__(self):\r\n",
        "        self.polarity = 1\r\n",
        "        self.feature_idx = None\r\n",
        "        self.threshold = None\r\n",
        "        self.alpha = None\r\n",
        "\r\n",
        "    def predict(self, X):\r\n",
        "        n_samples = X.shape[0]\r\n",
        "        X_col = X[:, self.feature_idx]\r\n",
        "        predictions = np.ones(n_samples)\r\n",
        "\r\n",
        "        if self.polarity == 1:\r\n",
        "            predictions[X_col < self.threshold] = -1\r\n",
        "        else:\r\n",
        "            predictions[X_col > self.threshold] = -1\r\n",
        "\r\n",
        "        return predictions"
      ],
      "execution_count": 2,
      "outputs": []
    },
    {
      "cell_type": "code",
      "metadata": {
        "id": "bHEdhywtGL6o"
      },
      "source": [
        "class AdaBoost():\r\n",
        "    def __init__(self, n_clfs):\r\n",
        "        self.n_clfs = n_clfs\r\n",
        "\r\n",
        "    def fit(self, X, y):\r\n",
        "        n_samples, n_features = X.shape\r\n",
        "        w = np.full(n_samples, (1 / n_samples))\r\n",
        "        self.clfs = []\r\n",
        "\r\n",
        "        for _ in range(self.n_clfs):\r\n",
        "            clf = DecisionStump()\r\n",
        "            min_error = float(\"inf\")\r\n",
        "\r\n",
        "            for feature_idx in range(n_features):\r\n",
        "                X_col = X[:, feature_idx]\r\n",
        "                thresholds = np.unique(X_col)\r\n",
        "\r\n",
        "                for threshold in thresholds:\r\n",
        "                    p = 1\r\n",
        "                    predictions = np.ones(n_samples)\r\n",
        "                    predictions[X_col < threshold] = -1\r\n",
        "\r\n",
        "                    misclassified = w[y != predictions]\r\n",
        "                    error = sum(misclassified)\r\n",
        "\r\n",
        "                    if error > 0.5:\r\n",
        "                        error = 1 - error\r\n",
        "                        p = -1\r\n",
        "\r\n",
        "                    if error < min_error:\r\n",
        "                        clf.polarity = p\r\n",
        "                        clf.feature_idx = feature_idx\r\n",
        "                        clf.threshold = threshold\r\n",
        "                        min_error = error\r\n",
        "\r\n",
        "            clf.alpha = 0.5 * np.log((1.0 - min_error + 1e-10) / (min_error + 1e-10))\r\n",
        "            predictions = clf.predict(X)\r\n",
        "            w *= np.exp(-clf.alpha * y * predictions)\r\n",
        "            w /= np.sum(w)\r\n",
        "            self.clfs.append(clf)\r\n",
        "    \r\n",
        "    def predict(self, X):\r\n",
        "        return np.sign(np.sum([clf.alpha * clf.predict(X) for clf in self.clfs], axis=0))"
      ],
      "execution_count": 3,
      "outputs": []
    },
    {
      "cell_type": "code",
      "metadata": {
        "id": "jLmfT0TWGL0n"
      },
      "source": [
        "def accuracy(y_true, y_pred):\r\n",
        "    return np.sum(y_true == y_pred) / len(y_true)"
      ],
      "execution_count": 4,
      "outputs": []
    },
    {
      "cell_type": "code",
      "metadata": {
        "id": "Ncdl0FFyKdJj"
      },
      "source": [
        "bc = datasets.load_breast_cancer()\r\n",
        "X, y = bc.data, bc.target\r\n",
        "y[y == 0] = -1\r\n",
        "X_train, X_test, y_train, y_test = train_test_split(X, y, test_size=0.2, random_state=5)"
      ],
      "execution_count": 5,
      "outputs": []
    },
    {
      "cell_type": "code",
      "metadata": {
        "colab": {
          "base_uri": "https://localhost:8080/"
        },
        "id": "x-OwzVueKdGB",
        "outputId": "afc6bd56-00b4-4eec-bfa3-54a83ecb8ea7"
      },
      "source": [
        "X.shape, y.shape"
      ],
      "execution_count": 6,
      "outputs": [
        {
          "output_type": "execute_result",
          "data": {
            "text/plain": [
              "((569, 30), (569,))"
            ]
          },
          "metadata": {
            "tags": []
          },
          "execution_count": 6
        }
      ]
    },
    {
      "cell_type": "code",
      "metadata": {
        "id": "Fxz39I5lGLxz"
      },
      "source": [
        "model = AdaBoost(n_clfs=5)\r\n",
        "model.fit(X_train, y_train)"
      ],
      "execution_count": 7,
      "outputs": []
    },
    {
      "cell_type": "code",
      "metadata": {
        "colab": {
          "base_uri": "https://localhost:8080/"
        },
        "id": "kE5VscaDKqep",
        "outputId": "448ee5e1-5347-4697-c00d-c019e3e69cd3"
      },
      "source": [
        "y_pred = model.predict(X_test)\r\n",
        "accuracy(y_test, y_pred)"
      ],
      "execution_count": 8,
      "outputs": [
        {
          "output_type": "execute_result",
          "data": {
            "text/plain": [
              "0.9736842105263158"
            ]
          },
          "metadata": {
            "tags": []
          },
          "execution_count": 8
        }
      ]
    },
    {
      "cell_type": "code",
      "metadata": {
        "id": "yoZcCdVlKqbL"
      },
      "source": [
        ""
      ],
      "execution_count": 20,
      "outputs": []
    },
    {
      "cell_type": "code",
      "metadata": {
        "id": "H12uu9H_GLvP"
      },
      "source": [
        ""
      ],
      "execution_count": null,
      "outputs": []
    }
  ]
}