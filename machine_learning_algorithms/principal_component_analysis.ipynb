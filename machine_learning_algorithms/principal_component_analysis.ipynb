{
  "nbformat": 4,
  "nbformat_minor": 0,
  "metadata": {
    "colab": {
      "name": "principal_component_analysis.ipynb",
      "provenance": [],
      "collapsed_sections": []
    },
    "kernelspec": {
      "name": "python3",
      "display_name": "Python 3"
    }
  },
  "cells": [
    {
      "cell_type": "code",
      "metadata": {
        "id": "KyDDxRSZR0Wj"
      },
      "source": [
        "import numpy as np\r\n",
        "from sklearn import datasets\r\n",
        "import matplotlib.pyplot as plt"
      ],
      "execution_count": 1,
      "outputs": []
    },
    {
      "cell_type": "code",
      "metadata": {
        "id": "ohZSBvBYqFDV"
      },
      "source": [
        "class PCA():\r\n",
        "    def __init__(self, n_components):\r\n",
        "        self.n_components = n_components\r\n",
        "        self.components = None\r\n",
        "        self.mean = None\r\n",
        "\r\n",
        "    def fit(self, X):\r\n",
        "        self.mean = X.mean(axis=0)\r\n",
        "        X = X - self.mean\r\n",
        "\r\n",
        "        cov = np.cov(X.T)\r\n",
        "        eigen_values, eigen_vectors = np.linalg.eig(cov)\r\n",
        "        eigen_vectors = eigen_vectors.T\r\n",
        "\r\n",
        "        idxs = np.argsort(eigen_values)[::-1]\r\n",
        "        eigen_vectors = eigen_vectors[idxs]\r\n",
        "        self.components = eigen_vectors[0: self.n_components]\r\n",
        "\r\n",
        "    def transform(self, X):\r\n",
        "        return np.dot(X - self.mean, self.components.T)"
      ],
      "execution_count": 2,
      "outputs": []
    },
    {
      "cell_type": "code",
      "metadata": {
        "id": "2KQg5CrJqN_r"
      },
      "source": [
        "iris = datasets.load_iris()\r\n",
        "X, y = iris.data, iris.target"
      ],
      "execution_count": 3,
      "outputs": []
    },
    {
      "cell_type": "code",
      "metadata": {
        "colab": {
          "base_uri": "https://localhost:8080/"
        },
        "id": "43GMq9K6sqJ6",
        "outputId": "949fc738-e7b7-4b3c-b9e9-a3c011ce2367"
      },
      "source": [
        "X.shape, y.shape"
      ],
      "execution_count": 4,
      "outputs": [
        {
          "output_type": "execute_result",
          "data": {
            "text/plain": [
              "((150, 4), (150,))"
            ]
          },
          "metadata": {
            "tags": []
          },
          "execution_count": 4
        }
      ]
    },
    {
      "cell_type": "code",
      "metadata": {
        "id": "TEh7dQlgsqGi"
      },
      "source": [
        "pca = PCA(n_components=2)\r\n",
        "pca.fit(X)"
      ],
      "execution_count": 5,
      "outputs": []
    },
    {
      "cell_type": "code",
      "metadata": {
        "colab": {
          "base_uri": "https://localhost:8080/"
        },
        "id": "rKK7y3eTohCU",
        "outputId": "56c27423-9b65-492a-8c5b-c4a683d46be9"
      },
      "source": [
        "X_proj = pca.transform(X)\r\n",
        "X.shape, X_proj.shape"
      ],
      "execution_count": 6,
      "outputs": [
        {
          "output_type": "execute_result",
          "data": {
            "text/plain": [
              "((150, 4), (150, 2))"
            ]
          },
          "metadata": {
            "tags": []
          },
          "execution_count": 6
        }
      ]
    },
    {
      "cell_type": "code",
      "metadata": {
        "colab": {
          "base_uri": "https://localhost:8080/",
          "height": 283
        },
        "id": "N90s1FB8s-6G",
        "outputId": "8fac7768-4dee-468a-b1ee-6297098f9d37"
      },
      "source": [
        "plt.scatter(X_proj[:, 0], X_proj[:, 1], c=y, edgecolor='none', alpha=0.8, cmap=plt.cm.get_cmap('viridis', 3))\r\n",
        "plt.xlabel(\"PC - 1\")\r\n",
        "plt.ylabel(\"PC - 2\")\r\n",
        "plt.colorbar()\r\n",
        "plt.show()"
      ],
      "execution_count": 7,
      "outputs": [
        {
          "output_type": "display_data",
          "data": {
            "image/png": "[encoded data removed]",
            "text/plain": [
              "<Figure size 432x288 with 2 Axes>"
            ]
          },
          "metadata": {
            "tags": [],
            "needs_background": "light"
          }
        }
      ]
    },
    {
      "cell_type": "code",
      "metadata": {
        "id": "O-_TVj3HR0Pq"
      },
      "source": [
        ""
      ],
      "execution_count": null,
      "outputs": []
    },
    {
      "cell_type": "code",
      "metadata": {
        "id": "IzlJIwaORwvs"
      },
      "source": [
        ""
      ],
      "execution_count": null,
      "outputs": []
    }
  ]
}