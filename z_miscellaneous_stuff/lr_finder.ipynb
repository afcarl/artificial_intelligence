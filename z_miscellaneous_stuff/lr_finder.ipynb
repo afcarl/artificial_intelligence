{
  "nbformat": 4,
  "nbformat_minor": 0,
  "metadata": {
    "colab": {
      "name": "lr_finder.ipynb",
      "provenance": [],
      "collapsed_sections": []
    },
    "kernelspec": {
      "name": "python3",
      "display_name": "Python 3"
    },
    "language_info": {
      "name": "python"
    },
    "accelerator": "GPU"
  },
  "cells": [
    {
      "cell_type": "code",
      "metadata": {
        "id": "GL4W2u5Y6eCE"
      },
      "source": [
        "import torch\n",
        "import tqdm\n",
        "from torch import nn\n",
        "import matplotlib.pyplot as plt\n",
        "from torch.utils.data import DataLoader\n",
        "from torch.optim.lr_scheduler import _LRScheduler\n",
        "from torchvision import models, datasets, transforms"
      ],
      "execution_count": null,
      "outputs": []
    },
    {
      "cell_type": "code",
      "metadata": {
        "colab": {
          "base_uri": "https://localhost:8080/"
        },
        "id": "rbmVJsCh0lrK",
        "outputId": "bf764e0e-0256-4207-be07-25a7a63e47da"
      },
      "source": [
        "device = torch.device(\"cuda\" if torch.cuda.is_available() else \"cpu\")\n",
        "net = models.resnet18().to(device)\n",
        "T = transforms.Compose(\n",
        "    [\n",
        "     transforms.Resize((224, 224)),\n",
        "     transforms.ToTensor()\n",
        "    ]\n",
        ")\n",
        "data = datasets.CIFAR10(\"root/\", download=True, train=True, transform=T)\n",
        "loader = DataLoader(data, batch_size=64)\n",
        "optimizer = torch.optim.Adam(net.parameters(), lr=3e-4)\n",
        "loss_fn = nn.CrossEntropyLoss()\n",
        "x, y = next(iter(loader))\n",
        "print(len(data), len(loader), x.shape, y.shape, device)"
      ],
      "execution_count": null,
      "outputs": [
        {
          "output_type": "stream",
          "text": [
            "Files already downloaded and verified\n",
            "50000 782 torch.Size([64, 3, 224, 224]) torch.Size([64]) cuda\n"
          ],
          "name": "stdout"
        }
      ]
    },
    {
      "cell_type": "code",
      "metadata": {
        "id": "2Dr30JpD0gYn"
      },
      "source": [
        "class ExponentialLR(_LRScheduler):\n",
        "    def __init__(self, optimizer, end_lr, n_iter, last_epoch=-1):\n",
        "        self.end_lr = end_lr\n",
        "        self.n_iter = n_iter\n",
        "        super(ExponentialLR, self).__init__(optimizer, last_epoch)\n",
        "\n",
        "    def get_lr(self):\n",
        "        curr_iter = self.last_epoch\n",
        "        r = curr_iter / self.n_iter\n",
        "        return [base_lr * (self.end_lr / base_lr) ** r for base_lr in self.base_lrs]"
      ],
      "execution_count": null,
      "outputs": []
    },
    {
      "cell_type": "code",
      "metadata": {
        "id": "yX4WlL354SvF"
      },
      "source": [
        "class LRFinder():\n",
        "    def __init__(self, net, optimizer, loss_fn, device):\n",
        "        self.optimizer = optimizer\n",
        "        self.net = net\n",
        "        self.loss_fn = loss_fn\n",
        "        self.device = device\n",
        "        torch.save(net.state_dict(), 'init_params.pth.tar')\n",
        "\n",
        "    def iterate(self, loader, end_lr=10, n_iters=100, smooth_f=0.05, diverge_th=5):\n",
        "        self.lrs = []\n",
        "        self.losses = []\n",
        "        stopped_search = False\n",
        "        best_loss = float(\"inf\")\n",
        "        lr_scheduler = ExponentialLR(self.optimizer, end_lr, n_iters)  \n",
        "\n",
        "        for i in tqdm.trange(n_iters):\n",
        "            loss = self.get_loss(loader)\n",
        "            lr = lr_scheduler.get_last_lr()[0]\n",
        "            self.lrs.append(lr)\n",
        "            lr_scheduler.step()\n",
        "            if i > 0:\n",
        "                loss = smooth_f * loss + (1 - smooth_f) * self.losses[-1]\n",
        "            if loss < best_loss:\n",
        "                best_loss = loss\n",
        "\n",
        "            self.losses.append(loss)\n",
        "            if loss > diverge_th * best_loss:\n",
        "                print(\"\")\n",
        "                print(\"stopping the search, loss has diverged!!\")\n",
        "                stopped_search = True\n",
        "                break\n",
        "\n",
        "        if stopped_search == False: \n",
        "            print(\"\")\n",
        "            print(\"finished the lr search!!\")\n",
        "\n",
        "    def get_loss(self, loader):\n",
        "        self.net.train()\n",
        "        self.optimizer.zero_grad()\n",
        "        x, y = next(iter(loader))\n",
        "        x = x.to(self.device)\n",
        "        y = y.to(self.device)\n",
        "        y_pred = self.net(x)\n",
        "        loss = self.loss_fn(y_pred, y)\n",
        "        loss.backward()\n",
        "        self.optimizer.step()\n",
        "        return loss.item()\n",
        "\n",
        "    def plot(self, skip_start=5, skip_end=5):\n",
        "        if skip_end == 0:\n",
        "            lrs = self.lrs[skip_start:]\n",
        "            losses = self.losses[skip_start:]\n",
        "        else:\n",
        "            lrs = self.lrs[skip_start:-skip_end]\n",
        "            losses = self.losses[skip_start:-skip_end]\n",
        "        \n",
        "        fig = plt.figure(figsize=(16, 8))\n",
        "        ax = fig.add_subplot(1, 1, 1)\n",
        "        ax.plot(lrs, losses)\n",
        "        ax.set_xscale(\"log\")\n",
        "        ax.set_xlabel(\"lr\")\n",
        "        ax.set_ylabel(\"loss\")\n",
        "        ax.grid(True, \"both\", \"x\")\n",
        "        plt.show()"
      ],
      "execution_count": null,
      "outputs": []
    },
    {
      "cell_type": "code",
      "metadata": {
        "id": "kbA3Ctdq4Srn",
        "colab": {
          "base_uri": "https://localhost:8080/"
        },
        "outputId": "e8f744fc-6523-4de7-ad07-507fa829a79f"
      },
      "source": [
        "lr_finder = LRFinder(net, optimizer, loss_fn, device)\n",
        "lr_finder.iterate(loader, end_lr=10, n_iters=100)"
      ],
      "execution_count": null,
      "outputs": [
        {
          "output_type": "stream",
          "text": [
            " 87%|████████▋ | 87/100 [00:23<00:03,  3.79it/s]"
          ],
          "name": "stderr"
        },
        {
          "output_type": "stream",
          "text": [
            "\n",
            "stopping the search, loss has diverged!!\n"
          ],
          "name": "stdout"
        }
      ]
    },
    {
      "cell_type": "code",
      "metadata": {
        "colab": {
          "base_uri": "https://localhost:8080/",
          "height": 501
        },
        "id": "eclXNe9E_Pw7",
        "outputId": "377635fa-7a62-47dd-d9c9-c3b2bfcc1533"
      },
      "source": [
        "lr_finder.plot()"
      ],
      "execution_count": null,
      "outputs": [
        {
          "output_type": "display_data",
          "data": {
            "image/png": "[encoded data removed]",
            "text/plain": [
              "<Figure size 1152x576 with 1 Axes>"
            ]
          },
          "metadata": {
            "tags": [],
            "needs_background": "light"
          }
        }
      ]
    },
    {
      "cell_type": "code",
      "metadata": {
        "id": "1bMwv6bzld1O"
      },
      "source": [
        "# find the lr where the loss began to flatten and reduce it by a factor of 10\n",
        "# in this plot, loss began to flatten at 6e-2, so reduction by a factor of 10 gives 6e-3\n",
        "found_lr = 6e-2\n",
        "net.load_state_dict(torch.load(\"init_params.pth.tar\")) # reload the initial parameters\n",
        "optimizer = torch.optim.Adam(net.parameters(), lr=found_lr/10) # reload the optimizer with the lr = (best found lr / 10)\n",
        "\n",
        "# another approach(descriminative fine-tuning):\n",
        "# first layer has lr = (found_lr / 10) and the last layer has lr = found_lr, and the lrs of the intermediate layers are gradually increased\n",
        "# params = [\n",
        "#           {\"params\": net.first_layer.parmaeters(), \"lr\": found_lr/10},\n",
        "#           {\"params\": net.second_layer.parameters(), \"lr\": found_lr/10},\n",
        "#           {\"params\": net.3rd.parameters(), \"lr\": found_lr/8},\n",
        "#           {\"params\": net.4th.parameters(), \"lr\": found_lr/6},\n",
        "#           {\"params\": net.5th.parameters(), \"lr\": found_lr/4},\n",
        "#           {\"params\": net.6th.parameters(), \"lr\": found_lr/2}.\n",
        "#           {\"params\": net.final_layer.parameters()} # final_layer has lr = found_lr\n",
        "# ]\n",
        "# optimizer = torch.optim.Adam(params, lr=found_lr)"
      ],
      "execution_count": null,
      "outputs": []
    }
  ]
}