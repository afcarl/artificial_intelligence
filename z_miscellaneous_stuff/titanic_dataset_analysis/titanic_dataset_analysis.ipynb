{
  "nbformat": 4,
  "nbformat_minor": 0,
  "metadata": {
    "colab": {
      "name": "titanic_dataset_analysis.ipynb",
      "provenance": [],
      "collapsed_sections": []
    },
    "kernelspec": {
      "name": "python3",
      "display_name": "Python 3"
    }
  },
  "cells": [
    {
      "cell_type": "code",
      "metadata": {
        "id": "gl8WEnlOyWGF"
      },
      "source": [
        "import numpy as np\n",
        "import matplotlib.pyplot as plt\n",
        "import pandas as pd\n",
        "from sklearn.cluster import MeanShift\n",
        "from sklearn import preprocessing"
      ],
      "execution_count": null,
      "outputs": []
    },
    {
      "cell_type": "code",
      "metadata": {
        "id": "tjcNgB03ywz0",
        "colab": {
          "base_uri": "https://localhost:8080/",
          "height": 196
        },
        "outputId": "f3d900ee-19ea-4abc-db7e-9719e7f46782"
      },
      "source": [
        "df = pd.read_excel(\"titanic.xls\")\n",
        "originial_df = df.copy()\n",
        "\n",
        "df.drop(['body', 'name'], axis=1, inplace=True)\n",
        "df.fillna(0, inplace=True)\n",
        "df.head()"
      ],
      "execution_count": null,
      "outputs": [
        {
          "output_type": "execute_result",
          "data": {
            "text/html": [
              "<div>\n",
              "<style scoped>\n",
              "    .dataframe tbody tr th:only-of-type {\n",
              "        vertical-align: middle;\n",
              "    }\n",
              "\n",
              "    .dataframe tbody tr th {\n",
              "        vertical-align: top;\n",
              "    }\n",
              "\n",
              "    .dataframe thead th {\n",
              "        text-align: right;\n",
              "    }\n",
              "</style>\n",
              "<table border=\"1\" class=\"dataframe\">\n",
              "  <thead>\n",
              "    <tr style=\"text-align: right;\">\n",
              "      <th></th>\n",
              "      <th>pclass</th>\n",
              "      <th>survived</th>\n",
              "      <th>sex</th>\n",
              "      <th>age</th>\n",
              "      <th>sibsp</th>\n",
              "      <th>parch</th>\n",
              "      <th>ticket</th>\n",
              "      <th>fare</th>\n",
              "      <th>cabin</th>\n",
              "      <th>embarked</th>\n",
              "      <th>boat</th>\n",
              "      <th>home.dest</th>\n",
              "    </tr>\n",
              "  </thead>\n",
              "  <tbody>\n",
              "    <tr>\n",
              "      <th>0</th>\n",
              "      <td>1</td>\n",
              "      <td>1</td>\n",
              "      <td>female</td>\n",
              "      <td>29.0000</td>\n",
              "      <td>0</td>\n",
              "      <td>0</td>\n",
              "      <td>24160</td>\n",
              "      <td>211.3375</td>\n",
              "      <td>B5</td>\n",
              "      <td>S</td>\n",
              "      <td>2</td>\n",
              "      <td>St Louis, MO</td>\n",
              "    </tr>\n",
              "    <tr>\n",
              "      <th>1</th>\n",
              "      <td>1</td>\n",
              "      <td>1</td>\n",
              "      <td>male</td>\n",
              "      <td>0.9167</td>\n",
              "      <td>1</td>\n",
              "      <td>2</td>\n",
              "      <td>113781</td>\n",
              "      <td>151.5500</td>\n",
              "      <td>C22 C26</td>\n",
              "      <td>S</td>\n",
              "      <td>11</td>\n",
              "      <td>Montreal, PQ / Chesterville, ON</td>\n",
              "    </tr>\n",
              "    <tr>\n",
              "      <th>2</th>\n",
              "      <td>1</td>\n",
              "      <td>0</td>\n",
              "      <td>female</td>\n",
              "      <td>2.0000</td>\n",
              "      <td>1</td>\n",
              "      <td>2</td>\n",
              "      <td>113781</td>\n",
              "      <td>151.5500</td>\n",
              "      <td>C22 C26</td>\n",
              "      <td>S</td>\n",
              "      <td>0</td>\n",
              "      <td>Montreal, PQ / Chesterville, ON</td>\n",
              "    </tr>\n",
              "    <tr>\n",
              "      <th>3</th>\n",
              "      <td>1</td>\n",
              "      <td>0</td>\n",
              "      <td>male</td>\n",
              "      <td>30.0000</td>\n",
              "      <td>1</td>\n",
              "      <td>2</td>\n",
              "      <td>113781</td>\n",
              "      <td>151.5500</td>\n",
              "      <td>C22 C26</td>\n",
              "      <td>S</td>\n",
              "      <td>0</td>\n",
              "      <td>Montreal, PQ / Chesterville, ON</td>\n",
              "    </tr>\n",
              "    <tr>\n",
              "      <th>4</th>\n",
              "      <td>1</td>\n",
              "      <td>0</td>\n",
              "      <td>female</td>\n",
              "      <td>25.0000</td>\n",
              "      <td>1</td>\n",
              "      <td>2</td>\n",
              "      <td>113781</td>\n",
              "      <td>151.5500</td>\n",
              "      <td>C22 C26</td>\n",
              "      <td>S</td>\n",
              "      <td>0</td>\n",
              "      <td>Montreal, PQ / Chesterville, ON</td>\n",
              "    </tr>\n",
              "  </tbody>\n",
              "</table>\n",
              "</div>"
            ],
            "text/plain": [
              "   pclass  survived     sex  ...  embarked  boat                        home.dest\n",
              "0       1         1  female  ...         S     2                     St Louis, MO\n",
              "1       1         1    male  ...         S    11  Montreal, PQ / Chesterville, ON\n",
              "2       1         0  female  ...         S     0  Montreal, PQ / Chesterville, ON\n",
              "3       1         0    male  ...         S     0  Montreal, PQ / Chesterville, ON\n",
              "4       1         0  female  ...         S     0  Montreal, PQ / Chesterville, ON\n",
              "\n",
              "[5 rows x 12 columns]"
            ]
          },
          "metadata": {
            "tags": []
          },
          "execution_count": 2
        }
      ]
    },
    {
      "cell_type": "code",
      "metadata": {
        "id": "9NtWN7w5ybve"
      },
      "source": [
        "text_to_int = {}\n",
        "def convert_to_int(z):\n",
        "    return text_to_int[z]\n",
        "\n",
        "def convert_to_numeric(df):\n",
        "    for column in df.columns.values:\n",
        "        if df[column].dtype != np.int64 and df[column].dtype != np.float64:\n",
        "            column_elements = df[column].values.tolist()\n",
        "            unique_elements = set(column_elements)\n",
        "            i = 0\n",
        "            for e in unique_elements:\n",
        "                if e not in text_to_int:\n",
        "                    text_to_int[e] = i\n",
        "                    i += 1\n",
        "\n",
        "            df[column] = list(map(convert_to_int, df[column]))\n",
        "\n",
        "    return df"
      ],
      "execution_count": null,
      "outputs": []
    },
    {
      "cell_type": "code",
      "metadata": {
        "id": "R86F4chsybyd",
        "colab": {
          "base_uri": "https://localhost:8080/"
        },
        "outputId": "2dcb3715-483c-468c-b264-7a53aa2f8b42"
      },
      "source": [
        "df = convert_to_numeric(df)\n",
        "print(df.head())\n",
        "X = np.array(df.drop(['survived'], axis=1).astype(float))\n",
        "X = preprocessing.scale(X)\n",
        "y = np.array(df['survived'])"
      ],
      "execution_count": null,
      "outputs": [
        {
          "output_type": "stream",
          "text": [
            "   pclass  survived  sex      age  ...  cabin  embarked  boat  home.dest\n",
            "0       1         1    1  29.0000  ...     18         2     1        258\n",
            "1       1         1    0   0.9167  ...     39         2    18        118\n",
            "2       1         0    1   2.0000  ...     39         2     0        118\n",
            "3       1         0    0  30.0000  ...     39         2     0        118\n",
            "4       1         0    1  25.0000  ...     39         2     0        118\n",
            "\n",
            "[5 rows x 12 columns]\n"
          ],
          "name": "stdout"
        }
      ]
    },
    {
      "cell_type": "code",
      "metadata": {
        "id": "y8qLf6ndybsf",
        "colab": {
          "base_uri": "https://localhost:8080/"
        },
        "outputId": "736c9157-887f-452a-944a-cb61086686fa"
      },
      "source": [
        "model = MeanShift()\n",
        "model.fit(X)"
      ],
      "execution_count": null,
      "outputs": [
        {
          "output_type": "execute_result",
          "data": {
            "text/plain": [
              "MeanShift(bandwidth=None, bin_seeding=False, cluster_all=True, max_iter=300,\n",
              "          min_bin_freq=1, n_jobs=None, seeds=None)"
            ]
          },
          "metadata": {
            "tags": []
          },
          "execution_count": 5
        }
      ]
    },
    {
      "cell_type": "code",
      "metadata": {
        "id": "6z3pXmZ7yiH0",
        "colab": {
          "base_uri": "https://localhost:8080/"
        },
        "outputId": "414c063d-b0f8-4b1d-9ec2-a380e88c5388"
      },
      "source": [
        "labels = model.labels_\n",
        "cluster_centers = model.cluster_centers_\n",
        "n_clusters_ = len(np.unique(labels))\n",
        "print(\"Groups:\", n_clusters_)"
      ],
      "execution_count": null,
      "outputs": [
        {
          "output_type": "stream",
          "text": [
            "Groups: 3\n"
          ],
          "name": "stdout"
        }
      ]
    },
    {
      "cell_type": "code",
      "metadata": {
        "id": "QrDwn1-ayiE-",
        "colab": {
          "base_uri": "https://localhost:8080/"
        },
        "outputId": "09af3899-aec7-47e3-a447-679d23ffc5f6"
      },
      "source": [
        "originial_df[\"label\"] = np.nan\n",
        "survival_rates = {}\n",
        "for i in range(len(X)):\n",
        "    originial_df[\"label\"].iloc[i] = labels[i]"
      ],
      "execution_count": null,
      "outputs": [
        {
          "output_type": "stream",
          "text": [
            "/usr/local/lib/python3.6/dist-packages/pandas/core/indexing.py:670: SettingWithCopyWarning: \n",
            "A value is trying to be set on a copy of a slice from a DataFrame\n",
            "\n",
            "See the caveats in the documentation: https://pandas.pydata.org/pandas-docs/stable/user_guide/indexing.html#returning-a-view-versus-a-copy\n",
            "  iloc._setitem_with_indexer(indexer, value)\n"
          ],
          "name": "stderr"
        }
      ]
    },
    {
      "cell_type": "code",
      "metadata": {
        "id": "XaGVl11Oyll9",
        "colab": {
          "base_uri": "https://localhost:8080/"
        },
        "outputId": "a37765be-6360-4e89-ca3b-dfa73c477a62"
      },
      "source": [
        "for i in range(n_clusters_):\n",
        "    temp_df = originial_df[(originial_df[\"label\"] == float(i))]\n",
        "    survived_df = temp_df[(temp_df[\"survived\"] == 1)]\n",
        "    survival_rate = len(survived_df)/len(temp_df)\n",
        "    survival_rates[i] = survival_rate\n",
        "\n",
        "print(survival_rates)"
      ],
      "execution_count": null,
      "outputs": [
        {
          "output_type": "stream",
          "text": [
            "{0: 0.37734375, 1: 0.8421052631578947, 2: 0.1}\n"
          ],
          "name": "stdout"
        }
      ]
    },
    {
      "cell_type": "code",
      "metadata": {
        "id": "HzaaFCkdyljF",
        "colab": {
          "base_uri": "https://localhost:8080/"
        },
        "outputId": "c68ac3a2-570f-4917-f2a3-92eb7875f973"
      },
      "source": [
        "temp_df = originial_df[(originial_df[\"label\"] == 1)]\n",
        "temp_df_pclass = temp_df[\"pclass\"]\n",
        "temp_df_pclass.describe()"
      ],
      "execution_count": null,
      "outputs": [
        {
          "output_type": "execute_result",
          "data": {
            "text/plain": [
              "count    19.0\n",
              "mean      1.0\n",
              "std       0.0\n",
              "min       1.0\n",
              "25%       1.0\n",
              "50%       1.0\n",
              "75%       1.0\n",
              "max       1.0\n",
              "Name: pclass, dtype: float64"
            ]
          },
          "metadata": {
            "tags": []
          },
          "execution_count": 9
        }
      ]
    },
    {
      "cell_type": "code",
      "metadata": {
        "id": "a659wauZz-WA",
        "colab": {
          "base_uri": "https://localhost:8080/"
        },
        "outputId": "40bb2e76-6404-4cf7-aabe-56d3e81c3bf4"
      },
      "source": [
        "temp_df = originial_df[(originial_df[\"label\"] == 0)]\n",
        "temp_df_pclass = temp_df[\"pclass\"]\n",
        "temp_df_pclass.describe()"
      ],
      "execution_count": null,
      "outputs": [
        {
          "output_type": "execute_result",
          "data": {
            "text/plain": [
              "count    1280.000000\n",
              "mean        2.308594\n",
              "std         0.830001\n",
              "min         1.000000\n",
              "25%         2.000000\n",
              "50%         3.000000\n",
              "75%         3.000000\n",
              "max         3.000000\n",
              "Name: pclass, dtype: float64"
            ]
          },
          "metadata": {
            "tags": []
          },
          "execution_count": 10
        }
      ]
    },
    {
      "cell_type": "code",
      "metadata": {
        "id": "7p-Hn5cY0XxW",
        "colab": {
          "base_uri": "https://localhost:8080/"
        },
        "outputId": "34aec66e-6608-4bdf-ab0f-38ca53b7f1bc"
      },
      "source": [
        "temp_df = originial_df[(originial_df[\"label\"] == 1)]\n",
        "temp_df_fc = temp_df[(temp_df[\"pclass\"] == 1)]\n",
        "len(temp_df_fc)/len(temp_df)"
      ],
      "execution_count": null,
      "outputs": [
        {
          "output_type": "execute_result",
          "data": {
            "text/plain": [
              "1.0"
            ]
          },
          "metadata": {
            "tags": []
          },
          "execution_count": 11
        }
      ]
    },
    {
      "cell_type": "code",
      "metadata": {
        "id": "APsORYi21mAI",
        "colab": {
          "base_uri": "https://localhost:8080/"
        },
        "outputId": "0f831214-d914-478f-f764-029d86a610e8"
      },
      "source": [
        "temp_df = originial_df[(originial_df[\"label\"] == 0)]\n",
        "temp_df_fc = temp_df[(temp_df[\"pclass\"] == 1)]\n",
        "len(temp_df_fc)/len(temp_df)"
      ],
      "execution_count": null,
      "outputs": [
        {
          "output_type": "execute_result",
          "data": {
            "text/plain": [
              "0.2375"
            ]
          },
          "metadata": {
            "tags": []
          },
          "execution_count": 12
        }
      ]
    },
    {
      "cell_type": "code",
      "metadata": {
        "id": "TEORo3yl24rw",
        "colab": {
          "base_uri": "https://localhost:8080/"
        },
        "outputId": "47a5b85d-4eae-47a1-f525-d80d5bfe63cf"
      },
      "source": [
        "temp_df = originial_df[(originial_df[\"label\"] == 2)]\n",
        "temp_df_fc = temp_df[(temp_df[\"pclass\"] == 1)]\n",
        "len(temp_df_fc)/len(temp_df)"
      ],
      "execution_count": null,
      "outputs": [
        {
          "output_type": "execute_result",
          "data": {
            "text/plain": [
              "0.0"
            ]
          },
          "metadata": {
            "tags": []
          },
          "execution_count": 13
        }
      ]
    },
    {
      "cell_type": "code",
      "metadata": {
        "id": "6LxCT5zj29sd"
      },
      "source": [
        ""
      ],
      "execution_count": null,
      "outputs": []
    }
  ]
}