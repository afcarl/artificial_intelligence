{
  "nbformat": 4,
  "nbformat_minor": 0,
  "metadata": {
    "colab": {
      "name": "default.ipynb",
      "provenance": [],
      "collapsed_sections": []
    },
    "kernelspec": {
      "name": "python3",
      "display_name": "Python 3"
    },
    "accelerator": "GPU"
  },
  "cells": [
    {
      "cell_type": "markdown",
      "metadata": {
        "id": "QFbl9eQd8liO"
      },
      "source": [
        "Download link for the dataset: https://www.kaggle.com/mlg-ulb/creditcardfraud"
      ]
    },
    {
      "cell_type": "code",
      "metadata": {
        "id": "0UZoYuPbWSD7"
      },
      "source": [
        "import torch\r\n",
        "import tqdm\r\n",
        "import pandas as pd\r\n",
        "from torch import nn\r\n",
        "import matplotlib.pyplot as plt\r\n",
        "from torch.utils.data import DataLoader, Dataset, random_split, WeightedRandomSampler"
      ],
      "execution_count": 4,
      "outputs": []
    },
    {
      "cell_type": "code",
      "metadata": {
        "colab": {
          "base_uri": "https://localhost:8080/",
          "height": 35
        },
        "id": "Hcb2heeXj53R",
        "outputId": "9c61c4c3-f820-4486-de47-eb115528696f"
      },
      "source": [
        "torch.cuda.get_device_name()"
      ],
      "execution_count": 5,
      "outputs": [
        {
          "output_type": "execute_result",
          "data": {
            "application/vnd.google.colaboratory.intrinsic+json": {
              "type": "string"
            },
            "text/plain": [
              "'Tesla T4'"
            ]
          },
          "metadata": {
            "tags": []
          },
          "execution_count": 5
        }
      ]
    },
    {
      "cell_type": "code",
      "metadata": {
        "colab": {
          "base_uri": "https://localhost:8080/",
          "height": 216
        },
        "id": "hzmnIdS6WSA_",
        "outputId": "ed856963-c467-4203-cba2-b29732ccfdbb"
      },
      "source": [
        "df = pd.read_csv(\"creditcard.csv\")\r\n",
        "df.head()"
      ],
      "execution_count": 6,
      "outputs": [
        {
          "output_type": "execute_result",
          "data": {
            "text/html": [
              "<div>\n",
              "<style scoped>\n",
              "    .dataframe tbody tr th:only-of-type {\n",
              "        vertical-align: middle;\n",
              "    }\n",
              "\n",
              "    .dataframe tbody tr th {\n",
              "        vertical-align: top;\n",
              "    }\n",
              "\n",
              "    .dataframe thead th {\n",
              "        text-align: right;\n",
              "    }\n",
              "</style>\n",
              "<table border=\"1\" class=\"dataframe\">\n",
              "  <thead>\n",
              "    <tr style=\"text-align: right;\">\n",
              "      <th></th>\n",
              "      <th>Time</th>\n",
              "      <th>V1</th>\n",
              "      <th>V2</th>\n",
              "      <th>V3</th>\n",
              "      <th>V4</th>\n",
              "      <th>V5</th>\n",
              "      <th>V6</th>\n",
              "      <th>V7</th>\n",
              "      <th>V8</th>\n",
              "      <th>V9</th>\n",
              "      <th>V10</th>\n",
              "      <th>V11</th>\n",
              "      <th>V12</th>\n",
              "      <th>V13</th>\n",
              "      <th>V14</th>\n",
              "      <th>V15</th>\n",
              "      <th>V16</th>\n",
              "      <th>V17</th>\n",
              "      <th>V18</th>\n",
              "      <th>V19</th>\n",
              "      <th>V20</th>\n",
              "      <th>V21</th>\n",
              "      <th>V22</th>\n",
              "      <th>V23</th>\n",
              "      <th>V24</th>\n",
              "      <th>V25</th>\n",
              "      <th>V26</th>\n",
              "      <th>V27</th>\n",
              "      <th>V28</th>\n",
              "      <th>Amount</th>\n",
              "      <th>Class</th>\n",
              "    </tr>\n",
              "  </thead>\n",
              "  <tbody>\n",
              "    <tr>\n",
              "      <th>0</th>\n",
              "      <td>0.0</td>\n",
              "      <td>-1.359807</td>\n",
              "      <td>-0.072781</td>\n",
              "      <td>2.536347</td>\n",
              "      <td>1.378155</td>\n",
              "      <td>-0.338321</td>\n",
              "      <td>0.462388</td>\n",
              "      <td>0.239599</td>\n",
              "      <td>0.098698</td>\n",
              "      <td>0.363787</td>\n",
              "      <td>0.090794</td>\n",
              "      <td>-0.551600</td>\n",
              "      <td>-0.617801</td>\n",
              "      <td>-0.991390</td>\n",
              "      <td>-0.311169</td>\n",
              "      <td>1.468177</td>\n",
              "      <td>-0.470401</td>\n",
              "      <td>0.207971</td>\n",
              "      <td>0.025791</td>\n",
              "      <td>0.403993</td>\n",
              "      <td>0.251412</td>\n",
              "      <td>-0.018307</td>\n",
              "      <td>0.277838</td>\n",
              "      <td>-0.110474</td>\n",
              "      <td>0.066928</td>\n",
              "      <td>0.128539</td>\n",
              "      <td>-0.189115</td>\n",
              "      <td>0.133558</td>\n",
              "      <td>-0.021053</td>\n",
              "      <td>149.62</td>\n",
              "      <td>0</td>\n",
              "    </tr>\n",
              "    <tr>\n",
              "      <th>1</th>\n",
              "      <td>0.0</td>\n",
              "      <td>1.191857</td>\n",
              "      <td>0.266151</td>\n",
              "      <td>0.166480</td>\n",
              "      <td>0.448154</td>\n",
              "      <td>0.060018</td>\n",
              "      <td>-0.082361</td>\n",
              "      <td>-0.078803</td>\n",
              "      <td>0.085102</td>\n",
              "      <td>-0.255425</td>\n",
              "      <td>-0.166974</td>\n",
              "      <td>1.612727</td>\n",
              "      <td>1.065235</td>\n",
              "      <td>0.489095</td>\n",
              "      <td>-0.143772</td>\n",
              "      <td>0.635558</td>\n",
              "      <td>0.463917</td>\n",
              "      <td>-0.114805</td>\n",
              "      <td>-0.183361</td>\n",
              "      <td>-0.145783</td>\n",
              "      <td>-0.069083</td>\n",
              "      <td>-0.225775</td>\n",
              "      <td>-0.638672</td>\n",
              "      <td>0.101288</td>\n",
              "      <td>-0.339846</td>\n",
              "      <td>0.167170</td>\n",
              "      <td>0.125895</td>\n",
              "      <td>-0.008983</td>\n",
              "      <td>0.014724</td>\n",
              "      <td>2.69</td>\n",
              "      <td>0</td>\n",
              "    </tr>\n",
              "    <tr>\n",
              "      <th>2</th>\n",
              "      <td>1.0</td>\n",
              "      <td>-1.358354</td>\n",
              "      <td>-1.340163</td>\n",
              "      <td>1.773209</td>\n",
              "      <td>0.379780</td>\n",
              "      <td>-0.503198</td>\n",
              "      <td>1.800499</td>\n",
              "      <td>0.791461</td>\n",
              "      <td>0.247676</td>\n",
              "      <td>-1.514654</td>\n",
              "      <td>0.207643</td>\n",
              "      <td>0.624501</td>\n",
              "      <td>0.066084</td>\n",
              "      <td>0.717293</td>\n",
              "      <td>-0.165946</td>\n",
              "      <td>2.345865</td>\n",
              "      <td>-2.890083</td>\n",
              "      <td>1.109969</td>\n",
              "      <td>-0.121359</td>\n",
              "      <td>-2.261857</td>\n",
              "      <td>0.524980</td>\n",
              "      <td>0.247998</td>\n",
              "      <td>0.771679</td>\n",
              "      <td>0.909412</td>\n",
              "      <td>-0.689281</td>\n",
              "      <td>-0.327642</td>\n",
              "      <td>-0.139097</td>\n",
              "      <td>-0.055353</td>\n",
              "      <td>-0.059752</td>\n",
              "      <td>378.66</td>\n",
              "      <td>0</td>\n",
              "    </tr>\n",
              "    <tr>\n",
              "      <th>3</th>\n",
              "      <td>1.0</td>\n",
              "      <td>-0.966272</td>\n",
              "      <td>-0.185226</td>\n",
              "      <td>1.792993</td>\n",
              "      <td>-0.863291</td>\n",
              "      <td>-0.010309</td>\n",
              "      <td>1.247203</td>\n",
              "      <td>0.237609</td>\n",
              "      <td>0.377436</td>\n",
              "      <td>-1.387024</td>\n",
              "      <td>-0.054952</td>\n",
              "      <td>-0.226487</td>\n",
              "      <td>0.178228</td>\n",
              "      <td>0.507757</td>\n",
              "      <td>-0.287924</td>\n",
              "      <td>-0.631418</td>\n",
              "      <td>-1.059647</td>\n",
              "      <td>-0.684093</td>\n",
              "      <td>1.965775</td>\n",
              "      <td>-1.232622</td>\n",
              "      <td>-0.208038</td>\n",
              "      <td>-0.108300</td>\n",
              "      <td>0.005274</td>\n",
              "      <td>-0.190321</td>\n",
              "      <td>-1.175575</td>\n",
              "      <td>0.647376</td>\n",
              "      <td>-0.221929</td>\n",
              "      <td>0.062723</td>\n",
              "      <td>0.061458</td>\n",
              "      <td>123.50</td>\n",
              "      <td>0</td>\n",
              "    </tr>\n",
              "    <tr>\n",
              "      <th>4</th>\n",
              "      <td>2.0</td>\n",
              "      <td>-1.158233</td>\n",
              "      <td>0.877737</td>\n",
              "      <td>1.548718</td>\n",
              "      <td>0.403034</td>\n",
              "      <td>-0.407193</td>\n",
              "      <td>0.095921</td>\n",
              "      <td>0.592941</td>\n",
              "      <td>-0.270533</td>\n",
              "      <td>0.817739</td>\n",
              "      <td>0.753074</td>\n",
              "      <td>-0.822843</td>\n",
              "      <td>0.538196</td>\n",
              "      <td>1.345852</td>\n",
              "      <td>-1.119670</td>\n",
              "      <td>0.175121</td>\n",
              "      <td>-0.451449</td>\n",
              "      <td>-0.237033</td>\n",
              "      <td>-0.038195</td>\n",
              "      <td>0.803487</td>\n",
              "      <td>0.408542</td>\n",
              "      <td>-0.009431</td>\n",
              "      <td>0.798278</td>\n",
              "      <td>-0.137458</td>\n",
              "      <td>0.141267</td>\n",
              "      <td>-0.206010</td>\n",
              "      <td>0.502292</td>\n",
              "      <td>0.219422</td>\n",
              "      <td>0.215153</td>\n",
              "      <td>69.99</td>\n",
              "      <td>0</td>\n",
              "    </tr>\n",
              "  </tbody>\n",
              "</table>\n",
              "</div>"
            ],
            "text/plain": [
              "   Time        V1        V2        V3  ...       V27       V28  Amount  Class\n",
              "0   0.0 -1.359807 -0.072781  2.536347  ...  0.133558 -0.021053  149.62      0\n",
              "1   0.0  1.191857  0.266151  0.166480  ... -0.008983  0.014724    2.69      0\n",
              "2   1.0 -1.358354 -1.340163  1.773209  ... -0.055353 -0.059752  378.66      0\n",
              "3   1.0 -0.966272 -0.185226  1.792993  ...  0.062723  0.061458  123.50      0\n",
              "4   2.0 -1.158233  0.877737  1.548718  ...  0.219422  0.215153   69.99      0\n",
              "\n",
              "[5 rows x 31 columns]"
            ]
          },
          "metadata": {
            "tags": []
          },
          "execution_count": 6
        }
      ]
    },
    {
      "cell_type": "code",
      "metadata": {
        "colab": {
          "base_uri": "https://localhost:8080/"
        },
        "id": "UB52zlU4WR-U",
        "outputId": "d25e32b1-fb46-45b8-ee69-2cb4c2bad7fe"
      },
      "source": [
        "len(df)"
      ],
      "execution_count": 7,
      "outputs": [
        {
          "output_type": "execute_result",
          "data": {
            "text/plain": [
              "284807"
            ]
          },
          "metadata": {
            "tags": []
          },
          "execution_count": 7
        }
      ]
    },
    {
      "cell_type": "code",
      "metadata": {
        "colab": {
          "base_uri": "https://localhost:8080/",
          "height": 931
        },
        "id": "LCgF0wVwbyiM",
        "outputId": "492928ee-39ca-4c3c-b3de-f4e321b15c37"
      },
      "source": [
        "f = plt.figure(figsize=(19, 15))\r\n",
        "plt.matshow(df.corr(), fignum=f.number)\r\n",
        "plt.xticks(range(df.select_dtypes(['number']).shape[1]), df.select_dtypes(['number']).columns, fontsize=14, rotation=45)\r\n",
        "plt.yticks(range(df.select_dtypes(['number']).shape[1]), df.select_dtypes(['number']).columns, fontsize=14)\r\n",
        "cb = plt.colorbar()\r\n",
        "cb.ax.tick_params(labelsize=14)\r\n",
        "plt.title('Correlation Matrix', fontsize=16);"
      ],
      "execution_count": 8,
      "outputs": [
        {
          "output_type": "display_data",
          "data": {
            "image/png": "[encoded data removed]",
            "text/plain": [
              "<Figure size 1368x1080 with 2 Axes>"
            ]
          },
          "metadata": {
            "tags": [],
            "needs_background": "light"
          }
        }
      ]
    },
    {
      "cell_type": "code",
      "metadata": {
        "colab": {
          "base_uri": "https://localhost:8080/"
        },
        "id": "Q5Pd0Dcjbpq1",
        "outputId": "9efb8143-8f11-407f-a016-b3b08b88d37a"
      },
      "source": [
        "df.corr()[\"Class\"]"
      ],
      "execution_count": 9,
      "outputs": [
        {
          "output_type": "execute_result",
          "data": {
            "text/plain": [
              "Time     -0.012323\n",
              "V1       -0.101347\n",
              "V2        0.091289\n",
              "V3       -0.192961\n",
              "V4        0.133447\n",
              "V5       -0.094974\n",
              "V6       -0.043643\n",
              "V7       -0.187257\n",
              "V8        0.019875\n",
              "V9       -0.097733\n",
              "V10      -0.216883\n",
              "V11       0.154876\n",
              "V12      -0.260593\n",
              "V13      -0.004570\n",
              "V14      -0.302544\n",
              "V15      -0.004223\n",
              "V16      -0.196539\n",
              "V17      -0.326481\n",
              "V18      -0.111485\n",
              "V19       0.034783\n",
              "V20       0.020090\n",
              "V21       0.040413\n",
              "V22       0.000805\n",
              "V23      -0.002685\n",
              "V24      -0.007221\n",
              "V25       0.003308\n",
              "V26       0.004455\n",
              "V27       0.017580\n",
              "V28       0.009536\n",
              "Amount    0.005632\n",
              "Class     1.000000\n",
              "Name: Class, dtype: float64"
            ]
          },
          "metadata": {
            "tags": []
          },
          "execution_count": 9
        }
      ]
    },
    {
      "cell_type": "code",
      "metadata": {
        "colab": {
          "base_uri": "https://localhost:8080/"
        },
        "id": "vqXRg_KPXgIl",
        "outputId": "787c3b97-1488-4266-ff2d-519b4baa7a61"
      },
      "source": [
        "labels = df[\"Class\"].tolist()\r\n",
        "labels[:10]"
      ],
      "execution_count": 10,
      "outputs": [
        {
          "output_type": "execute_result",
          "data": {
            "text/plain": [
              "[0, 0, 0, 0, 0, 0, 0, 0, 0, 0]"
            ]
          },
          "metadata": {
            "tags": []
          },
          "execution_count": 10
        }
      ]
    },
    {
      "cell_type": "code",
      "metadata": {
        "colab": {
          "base_uri": "https://localhost:8080/"
        },
        "id": "XLUqlrIuXfxm",
        "outputId": "28ff394b-779f-4f02-dbc3-48938a2efa18"
      },
      "source": [
        "labels.count(0), labels.count(1), labels.count(0) / labels.count(1)"
      ],
      "execution_count": 11,
      "outputs": [
        {
          "output_type": "execute_result",
          "data": {
            "text/plain": [
              "(284315, 492, 577.8760162601626)"
            ]
          },
          "metadata": {
            "tags": []
          },
          "execution_count": 11
        }
      ]
    },
    {
      "cell_type": "code",
      "metadata": {
        "id": "__qBqqttZNZs"
      },
      "source": [
        "class LoadDataset(Dataset):\r\n",
        "    def __init__(self, csv_file):\r\n",
        "        self.df = pd.read_csv(csv_file)\r\n",
        "        self.df.drop([\"Time\"], axis=1, inplace=True)\r\n",
        "\r\n",
        "        self.pca_coms = self.df.drop([\"Class\"], axis=1).values\r\n",
        "        self.labels = self.df[\"Class\"].values\r\n",
        "\r\n",
        "    def __len__(self):\r\n",
        "        return len(self.df)\r\n",
        "\r\n",
        "    def __getitem__(self, index):\r\n",
        "        pca_com = self.pca_coms[index]\r\n",
        "        label = self.labels[index]\r\n",
        "\r\n",
        "        pca_com = torch.FloatTensor(pca_com)\r\n",
        "        label = torch.tensor(label)\r\n",
        "\r\n",
        "        return pca_com, label"
      ],
      "execution_count": 12,
      "outputs": []
    },
    {
      "cell_type": "code",
      "metadata": {
        "id": "JCI_dT8FdDpb"
      },
      "source": [
        "device = torch.device(\"cuda\" if torch.cuda.is_available() else \"cpu\")\r\n",
        "epochs = 5\r\n",
        "batch_size = 32\r\n",
        "lr = 3e-5"
      ],
      "execution_count": 13,
      "outputs": []
    },
    {
      "cell_type": "code",
      "metadata": {
        "colab": {
          "base_uri": "https://localhost:8080/"
        },
        "id": "A3g_DXYqdxEk",
        "outputId": "323e319a-caa3-416d-b834-0e21819abafd"
      },
      "source": [
        "device"
      ],
      "execution_count": 14,
      "outputs": [
        {
          "output_type": "execute_result",
          "data": {
            "text/plain": [
              "device(type='cuda')"
            ]
          },
          "metadata": {
            "tags": []
          },
          "execution_count": 14
        }
      ]
    },
    {
      "cell_type": "code",
      "metadata": {
        "id": "Qge9KJx5bC9c"
      },
      "source": [
        "dataset = LoadDataset(\"creditcard.csv\")\r\n",
        "train_size = int(0.7 * len(dataset))\r\n",
        "train_data, val_data = random_split(dataset, [train_size, len(dataset) - train_size])"
      ],
      "execution_count": 15,
      "outputs": []
    },
    {
      "cell_type": "code",
      "metadata": {
        "colab": {
          "base_uri": "https://localhost:8080/"
        },
        "id": "sQgOTnWcZNV9",
        "outputId": "7f19f1c0-7102-4f47-a238-730d3b890c7d"
      },
      "source": [
        "len(train_data), len(val_data)"
      ],
      "execution_count": 16,
      "outputs": [
        {
          "output_type": "execute_result",
          "data": {
            "text/plain": [
              "(199364, 85443)"
            ]
          },
          "metadata": {
            "tags": []
          },
          "execution_count": 16
        }
      ]
    },
    {
      "cell_type": "code",
      "metadata": {
        "colab": {
          "base_uri": "https://localhost:8080/"
        },
        "id": "svpiaXWxbNcH",
        "outputId": "f41b02f0-1d97-4a71-8238-c4fb80afe310"
      },
      "source": [
        "x, y = dataset[42]\r\n",
        "x, y"
      ],
      "execution_count": 17,
      "outputs": [
        {
          "output_type": "execute_result",
          "data": {
            "text/plain": [
              "(tensor([-0.6079,  1.0313,  1.7404,  1.2321,  0.4186,  0.1192,  0.8509, -0.1763,\n",
              "         -0.2435,  0.1485, -0.3870,  0.3983,  0.4819, -0.3654,  0.2355, -1.3478,\n",
              "          0.5046, -0.7984,  0.7597,  0.2543, -0.0873,  0.2583, -0.2648,  0.1183,\n",
              "          0.1735, -0.2170,  0.0943, -0.0330, 14.8000]), tensor(0))"
            ]
          },
          "metadata": {
            "tags": []
          },
          "execution_count": 17
        }
      ]
    },
    {
      "cell_type": "code",
      "metadata": {
        "colab": {
          "base_uri": "https://localhost:8080/"
        },
        "id": "kLjFVFbKZNTb",
        "outputId": "e0341b38-90f5-4380-8587-25cb1db770c6"
      },
      "source": [
        "x.shape, y.shape"
      ],
      "execution_count": 18,
      "outputs": [
        {
          "output_type": "execute_result",
          "data": {
            "text/plain": [
              "(torch.Size([29]), torch.Size([]))"
            ]
          },
          "metadata": {
            "tags": []
          },
          "execution_count": 18
        }
      ]
    },
    {
      "cell_type": "code",
      "metadata": {
        "id": "FGr6P0eSIMPZ"
      },
      "source": [
        "class_weights = [1, labels.count(0) / labels.count(1)]\n",
        "train_sample_weights = [0] * len(train_data)\n",
        "val_sample_weights = [0] * len(val_data)\n",
        "\n",
        "for i, (data, label) in enumerate(train_data):\n",
        "    class_weight = class_weights[label.item()]\n",
        "    train_sample_weights[i] = class_weight\n",
        "\n",
        "for i, (data, label) in enumerate(val_data):\n",
        "    class_weight = class_weights[label.item()]\n",
        "    val_sample_weights[i] = class_weight\n",
        " \n",
        "train_sampler = WeightedRandomSampler(train_sample_weights, num_samples=len(train_sample_weights), replacement=True)\n",
        "val_sampler = WeightedRandomSampler(val_sample_weights, num_samples=len(val_sample_weights), replacement=True)"
      ],
      "execution_count": 20,
      "outputs": []
    },
    {
      "cell_type": "code",
      "metadata": {
        "id": "fenjALhsWHv4"
      },
      "source": [
        "train_batches = DataLoader(train_data, batch_size=batch_size, sampler=train_sampler)\r\n",
        "val_batches = DataLoader(val_data, batch_size=batch_size, sampler=val_sampler)"
      ],
      "execution_count": 21,
      "outputs": []
    },
    {
      "cell_type": "code",
      "metadata": {
        "colab": {
          "base_uri": "https://localhost:8080/"
        },
        "id": "9Lt7jNGMb299",
        "outputId": "73920613-e54b-4890-ea48-893ee981d233"
      },
      "source": [
        "for batch in train_batches:\r\n",
        "    print(batch[0].shape)\r\n",
        "    print(batch[1].shape)\r\n",
        "    break"
      ],
      "execution_count": 22,
      "outputs": [
        {
          "output_type": "stream",
          "text": [
            "torch.Size([32, 29])\n",
            "torch.Size([32])\n"
          ],
          "name": "stdout"
        }
      ]
    },
    {
      "cell_type": "code",
      "metadata": {
        "id": "mheCYLBIcGIw"
      },
      "source": [
        "class Net(nn.Module):\r\n",
        "    def __init__(self):\r\n",
        "        super().__init__()\r\n",
        "        self.fc1 = nn.Linear(29, 64)\r\n",
        "        self.fc2 = nn.Linear(64, 128)\r\n",
        "        self.fc3 = nn.Linear(128, 2)\r\n",
        "\r\n",
        "        self.dropout = nn.Dropout(0.5)\r\n",
        "        self.relu = nn.ReLU()\r\n",
        "\r\n",
        "    def forward(self, x):\r\n",
        "        x = self.dropout(self.fc1(x))\r\n",
        "        x = self.relu(x)\r\n",
        "\r\n",
        "        x = self.dropout(self.fc2(x))\r\n",
        "        x = self.relu(x)\r\n",
        "\r\n",
        "        x = self.fc3(x)\r\n",
        "        return x"
      ],
      "execution_count": 23,
      "outputs": []
    },
    {
      "cell_type": "code",
      "metadata": {
        "id": "8iPmv0i0b71Q"
      },
      "source": [
        "net = Net().to(device)"
      ],
      "execution_count": 24,
      "outputs": []
    },
    {
      "cell_type": "code",
      "metadata": {
        "colab": {
          "base_uri": "https://localhost:8080/"
        },
        "id": "HHG3G7zMb7xv",
        "outputId": "a9eb3a51-d3b4-4fe5-e6de-0aeeec1c58e8"
      },
      "source": [
        "inp = torch.randn(1, 29).to(device)\r\n",
        "output = net(inp)\r\n",
        "output.shape"
      ],
      "execution_count": 25,
      "outputs": [
        {
          "output_type": "execute_result",
          "data": {
            "text/plain": [
              "torch.Size([1, 2])"
            ]
          },
          "metadata": {
            "tags": []
          },
          "execution_count": 25
        }
      ]
    },
    {
      "cell_type": "code",
      "metadata": {
        "colab": {
          "base_uri": "https://localhost:8080/"
        },
        "id": "DIbyKgDEflCD",
        "outputId": "c6754f9e-f4c0-487e-dd8b-f661f4b5fcf7"
      },
      "source": [
        "num_parameters = sum(p.numel() for p in net.parameters() if p.requires_grad)\r\n",
        "num_parameters"
      ],
      "execution_count": 26,
      "outputs": [
        {
          "output_type": "execute_result",
          "data": {
            "text/plain": [
              "10498"
            ]
          },
          "metadata": {
            "tags": []
          },
          "execution_count": 26
        }
      ]
    },
    {
      "cell_type": "code",
      "metadata": {
        "id": "Fa_p1XTKfk_Y"
      },
      "source": [
        "opt = torch.optim.Adam(net.parameters(), lr)\r\n",
        "loss_fn = nn.CrossEntropyLoss()"
      ],
      "execution_count": 27,
      "outputs": []
    },
    {
      "cell_type": "code",
      "metadata": {
        "id": "9CVeUNcDIQwF"
      },
      "source": [
        "def get_accuracy(preds, y):\r\n",
        "    preds = preds.argmax(dim=1, keepdim=True)\r\n",
        "    correct = preds.squeeze(1).eq(y)\r\n",
        "    acc = correct.sum() / torch.FloatTensor([y.shape[0]]).to(device)\r\n",
        "\r\n",
        "    return acc.item()"
      ],
      "execution_count": 28,
      "outputs": []
    },
    {
      "cell_type": "code",
      "metadata": {
        "id": "7vwm8Yz_f0Fp"
      },
      "source": [
        "def loop(net, batches, train):\r\n",
        "    batch_losses = []\r\n",
        "    batch_accs = []\r\n",
        "\r\n",
        "    if train:\r\n",
        "        print(\"Train Loop:\")\r\n",
        "        print(\"\")\r\n",
        "        net.train()\r\n",
        "\r\n",
        "        for X, y in tqdm.tqdm(batches, total=len(batches)):\r\n",
        "            X = X.to(device)\r\n",
        "            y = y.to(device)\r\n",
        "\r\n",
        "            preds = net(X)\r\n",
        "            loss = loss_fn(preds, y)\r\n",
        "            acc = get_accuracy(preds, y)\r\n",
        "\r\n",
        "            opt.zero_grad()\r\n",
        "            loss.backward()\r\n",
        "            opt.step()\r\n",
        "\r\n",
        "            batch_losses.append(loss.item())\r\n",
        "            batch_accs.append(acc)\r\n",
        "\r\n",
        "    else:\r\n",
        "        print(\"Validation Loop:\")\r\n",
        "        print(\"\")\r\n",
        "        net.eval()\r\n",
        "\r\n",
        "        with torch.no_grad():\r\n",
        "            for X, y in tqdm.tqdm(batches, total=len(batches)):\r\n",
        "                X = X.to(device)\r\n",
        "                y = y.to(device)\r\n",
        "\r\n",
        "                preds = net(X)\r\n",
        "                loss = loss_fn(preds, y)\r\n",
        "                acc = get_accuracy(preds, y)\r\n",
        "\r\n",
        "                batch_losses.append(loss.item())\r\n",
        "                batch_accs.append(acc) \r\n",
        "\r\n",
        "    print(\"\")\r\n",
        "    print(\"\")\r\n",
        "    \r\n",
        "    return sum(batch_losses) / len(batch_losses), sum(batch_accs) / len(batch_accs)"
      ],
      "execution_count": 29,
      "outputs": []
    },
    {
      "cell_type": "code",
      "metadata": {
        "id": "UJJncNx-f0CP",
        "colab": {
          "base_uri": "https://localhost:8080/"
        },
        "outputId": "42b19c02-b4e4-4dda-fe89-29069b2e40f2"
      },
      "source": [
        "for epoch in range(epochs):\r\n",
        "    train_loss, train_acc = loop(net, train_batches, True)\r\n",
        "    val_loss, val_acc = loop(net, val_batches, False)\r\n",
        "    \r\n",
        "    print(f\"epoch: {epoch} | train_loss: {train_loss:.4f} | train_acc: {train_acc:.4f} | val_loss: {val_loss:.4f} | val_acc: {val_acc:.4f}\")\r\n",
        "    print(\"\")"
      ],
      "execution_count": 30,
      "outputs": [
        {
          "output_type": "stream",
          "text": [
            "  0%|          | 1/6231 [00:00<10:42,  9.70it/s]"
          ],
          "name": "stderr"
        },
        {
          "output_type": "stream",
          "text": [
            "Train Loop:\n",
            "\n"
          ],
          "name": "stdout"
        },
        {
          "output_type": "stream",
          "text": [
            "100%|██████████| 6231/6231 [00:16<00:00, 366.77it/s]\n",
            "  3%|▎         | 70/2671 [00:00<00:03, 693.61it/s]"
          ],
          "name": "stderr"
        },
        {
          "output_type": "stream",
          "text": [
            "\n",
            "\n",
            "Validation Loop:\n",
            "\n"
          ],
          "name": "stdout"
        },
        {
          "output_type": "stream",
          "text": [
            "100%|██████████| 2671/2671 [00:02<00:00, 964.42it/s]\n",
            "  0%|          | 21/6231 [00:00<00:30, 206.15it/s]"
          ],
          "name": "stderr"
        },
        {
          "output_type": "stream",
          "text": [
            "\n",
            "\n",
            "epoch: 0 | train_loss: 1.3594 | train_acc: 0.7104 | val_loss: 0.4101 | val_acc: 0.8782\n",
            "\n",
            "Train Loop:\n",
            "\n"
          ],
          "name": "stdout"
        },
        {
          "output_type": "stream",
          "text": [
            "100%|██████████| 6231/6231 [00:16<00:00, 375.29it/s]\n",
            "  3%|▎         | 85/2671 [00:00<00:03, 848.51it/s]"
          ],
          "name": "stderr"
        },
        {
          "output_type": "stream",
          "text": [
            "\n",
            "\n",
            "Validation Loop:\n",
            "\n"
          ],
          "name": "stdout"
        },
        {
          "output_type": "stream",
          "text": [
            "100%|██████████| 2671/2671 [00:03<00:00, 806.94it/s]\n",
            "  0%|          | 19/6231 [00:00<00:33, 185.81it/s]"
          ],
          "name": "stderr"
        },
        {
          "output_type": "stream",
          "text": [
            "\n",
            "\n",
            "epoch: 1 | train_loss: 0.4885 | train_acc: 0.8766 | val_loss: 0.2418 | val_acc: 0.9492\n",
            "\n",
            "Train Loop:\n",
            "\n"
          ],
          "name": "stdout"
        },
        {
          "output_type": "stream",
          "text": [
            "100%|██████████| 6231/6231 [00:18<00:00, 337.33it/s]\n",
            "  2%|▏         | 62/2671 [00:00<00:04, 618.20it/s]"
          ],
          "name": "stderr"
        },
        {
          "output_type": "stream",
          "text": [
            "\n",
            "\n",
            "Validation Loop:\n",
            "\n"
          ],
          "name": "stdout"
        },
        {
          "output_type": "stream",
          "text": [
            "100%|██████████| 2671/2671 [00:03<00:00, 826.02it/s]\n",
            "  0%|          | 25/6231 [00:00<00:24, 248.99it/s]"
          ],
          "name": "stderr"
        },
        {
          "output_type": "stream",
          "text": [
            "\n",
            "\n",
            "epoch: 2 | train_loss: 0.2871 | train_acc: 0.9162 | val_loss: 0.1798 | val_acc: 0.9508\n",
            "\n",
            "Train Loop:\n",
            "\n"
          ],
          "name": "stdout"
        },
        {
          "output_type": "stream",
          "text": [
            "100%|██████████| 6231/6231 [00:17<00:00, 360.70it/s]\n",
            "  3%|▎         | 87/2671 [00:00<00:02, 865.03it/s]"
          ],
          "name": "stderr"
        },
        {
          "output_type": "stream",
          "text": [
            "\n",
            "\n",
            "Validation Loop:\n",
            "\n"
          ],
          "name": "stdout"
        },
        {
          "output_type": "stream",
          "text": [
            "100%|██████████| 2671/2671 [00:02<00:00, 925.92it/s]\n",
            "  0%|          | 24/6231 [00:00<00:26, 235.07it/s]"
          ],
          "name": "stderr"
        },
        {
          "output_type": "stream",
          "text": [
            "\n",
            "\n",
            "epoch: 3 | train_loss: 0.2158 | train_acc: 0.9296 | val_loss: 0.1508 | val_acc: 0.9488\n",
            "\n",
            "Train Loop:\n",
            "\n"
          ],
          "name": "stdout"
        },
        {
          "output_type": "stream",
          "text": [
            "100%|██████████| 6231/6231 [00:16<00:00, 369.24it/s]\n",
            "  3%|▎         | 88/2671 [00:00<00:02, 875.46it/s]"
          ],
          "name": "stderr"
        },
        {
          "output_type": "stream",
          "text": [
            "\n",
            "\n",
            "Validation Loop:\n",
            "\n"
          ],
          "name": "stdout"
        },
        {
          "output_type": "stream",
          "text": [
            "100%|██████████| 2671/2671 [00:03<00:00, 883.52it/s]"
          ],
          "name": "stderr"
        },
        {
          "output_type": "stream",
          "text": [
            "\n",
            "\n",
            "epoch: 4 | train_loss: 0.1842 | train_acc: 0.9357 | val_loss: 0.1354 | val_acc: 0.9507\n",
            "\n"
          ],
          "name": "stdout"
        },
        {
          "output_type": "stream",
          "text": [
            "\n"
          ],
          "name": "stderr"
        }
      ]
    },
    {
      "cell_type": "code",
      "metadata": {
        "id": "s3O7sw62b7vX",
        "colab": {
          "base_uri": "https://localhost:8080/"
        },
        "outputId": "1f0d7806-50bc-4e18-c317-67afc63a1471"
      },
      "source": [
        "net.eval()\r\n",
        "true_preds = []\r\n",
        "fraud_preds = []\r\n",
        "\r\n",
        "for x, y in tqdm.tqdm(val_data, total=len(val_data)):\r\n",
        "    if y.item() == 0: # only true pca_coms\r\n",
        "        x = x.unsqueeze(0).to(device)\r\n",
        "        with torch.no_grad():\r\n",
        "            pred = net(x)\r\n",
        "        true_preds.append(pred.argmax(dim=1).item())\r\n",
        "\r\n",
        "    elif y.item() == 1: # only fraud pca_coms\r\n",
        "        x = x.unsqueeze(0).to(device)\r\n",
        "        with torch.no_grad():\r\n",
        "            pred = net(x)\r\n",
        "        fraud_preds.append(pred.argmax(dim=1).item())"
      ],
      "execution_count": 31,
      "outputs": [
        {
          "output_type": "stream",
          "text": [
            "100%|██████████| 85443/85443 [00:31<00:00, 2695.39it/s]\n"
          ],
          "name": "stderr"
        }
      ]
    },
    {
      "cell_type": "code",
      "metadata": {
        "colab": {
          "base_uri": "https://localhost:8080/"
        },
        "id": "38lsEnxGqFoN",
        "outputId": "e91ee092-baaf-4873-8aa8-81b4f451353f"
      },
      "source": [
        "true_acc = round(true_preds.count(0) / len(true_preds), 4)\r\n",
        "fraud_acc = round(fraud_preds.count(1) / len(fraud_preds), 4)\r\n",
        "print(true_acc, fraud_acc)"
      ],
      "execution_count": 32,
      "outputs": [
        {
          "output_type": "stream",
          "text": [
            "0.9761 0.9231\n"
          ],
          "name": "stdout"
        }
      ]
    },
    {
      "cell_type": "code",
      "metadata": {
        "id": "pZeJotOi8LAT"
      },
      "source": [],
      "execution_count": null,
      "outputs": []
    },
    {
      "cell_type": "code",
      "metadata": {
        "id": "eHGrUH1m8KXG"
      },
      "source": [],
      "execution_count": null,
      "outputs": []
    }
  ]
}