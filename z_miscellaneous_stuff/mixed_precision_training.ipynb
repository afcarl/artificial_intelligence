{
  "nbformat": 4,
  "nbformat_minor": 0,
  "metadata": {
    "colab": {
      "name": "test0.ipynb",
      "provenance": [],
      "collapsed_sections": []
    },
    "kernelspec": {
      "name": "python3",
      "display_name": "Python 3"
    },
    "accelerator": "GPU"
  },
  "cells": [
    {
      "cell_type": "code",
      "metadata": {
        "id": "qPZndKRNMDVr"
      },
      "source": [
        "import torch\r\n",
        "import tqdm\r\n",
        "import torch.nn as nn\r\n",
        "from torch.utils.data import DataLoader\r\n",
        "from torchvision import datasets, transforms"
      ],
      "execution_count": 1,
      "outputs": []
    },
    {
      "cell_type": "code",
      "metadata": {
        "id": "MNGOpGJQv3K5"
      },
      "source": [
        "device = torch.device(\"cuda\" if torch.cuda.is_available() else \"cpu\")\r\n",
        "epochs = 20\r\n",
        "batch_size = 64\r\n",
        "lr = 1e-3"
      ],
      "execution_count": 2,
      "outputs": []
    },
    {
      "cell_type": "code",
      "metadata": {
        "colab": {
          "base_uri": "https://localhost:8080/"
        },
        "id": "vbXnTtyGv3ID",
        "outputId": "6037281d-1314-41be-c7ea-1329db006a05"
      },
      "source": [
        "device"
      ],
      "execution_count": 3,
      "outputs": [
        {
          "output_type": "execute_result",
          "data": {
            "text/plain": [
              "device(type='cuda')"
            ]
          },
          "metadata": {
            "tags": []
          },
          "execution_count": 3
        }
      ]
    },
    {
      "cell_type": "code",
      "metadata": {
        "id": "0ZU6ssSQv5se"
      },
      "source": [
        "transform = transforms.Compose([transforms.ToTensor()])"
      ],
      "execution_count": 4,
      "outputs": []
    },
    {
      "cell_type": "code",
      "metadata": {
        "id": "dtrKzZf0v5oq"
      },
      "source": [
        "train_data = datasets.CIFAR10(\"data/\", train=True, download=True, transform=transform)\r\n",
        "val_data = datasets.CIFAR10(\"data/\", train=False, download=True, transform=transform)"
      ],
      "execution_count": null,
      "outputs": []
    },
    {
      "cell_type": "code",
      "metadata": {
        "id": "ikR2puqpv5ip"
      },
      "source": [
        "train_batches = DataLoader(train_data, batch_size=batch_size, shuffle=True)\r\n",
        "val_batches = DataLoader(val_data, batch_size=batch_size, shuffle=False)"
      ],
      "execution_count": 6,
      "outputs": []
    },
    {
      "cell_type": "code",
      "metadata": {
        "colab": {
          "base_uri": "https://localhost:8080/"
        },
        "id": "kdla2no7v8mR",
        "outputId": "6b317fc4-ba9f-4f92-ffd8-eeb131c2aaae"
      },
      "source": [
        "len(train_data.classes)"
      ],
      "execution_count": 7,
      "outputs": [
        {
          "output_type": "execute_result",
          "data": {
            "text/plain": [
              "10"
            ]
          },
          "metadata": {
            "tags": []
          },
          "execution_count": 7
        }
      ]
    },
    {
      "cell_type": "code",
      "metadata": {
        "id": "LIEqhRYZv8js"
      },
      "source": [
        "class Net(nn.Module):\r\n",
        "    def __init__(self):\r\n",
        "        super().__init__()\r\n",
        "        self.conv1 = nn.Conv2d(3, 32, kernel_size=(3, 3))\r\n",
        "        self.fc1 = nn.Linear(32 * 30 * 30, 10)\r\n",
        "\r\n",
        "        self.dropout = nn.Dropout(0.5)\r\n",
        "        self.relu = nn.ReLU()\r\n",
        "\r\n",
        "    def forward(self, x):\r\n",
        "        x = self.dropout(self.conv1(x))\r\n",
        "        x = self.relu(x)\r\n",
        "\r\n",
        "        x = x.view(x.shape[0], -1)\r\n",
        "        x = self.fc1(x)\r\n",
        "\r\n",
        "        return x"
      ],
      "execution_count": 8,
      "outputs": []
    },
    {
      "cell_type": "code",
      "metadata": {
        "id": "OwOBb0aMwBur"
      },
      "source": [
        "net = Net().to(device)"
      ],
      "execution_count": 9,
      "outputs": []
    },
    {
      "cell_type": "code",
      "metadata": {
        "colab": {
          "base_uri": "https://localhost:8080/"
        },
        "id": "SInvaSfgwBrt",
        "outputId": "94455c7d-f586-4904-95e4-691bc0aeb7b0"
      },
      "source": [
        "inp = torch.randn(1, 3, 32, 32).to(device)\r\n",
        "output = net(inp)\r\n",
        "output.shape"
      ],
      "execution_count": 10,
      "outputs": [
        {
          "output_type": "execute_result",
          "data": {
            "text/plain": [
              "torch.Size([1, 10])"
            ]
          },
          "metadata": {
            "tags": []
          },
          "execution_count": 10
        }
      ]
    },
    {
      "cell_type": "code",
      "metadata": {
        "colab": {
          "base_uri": "https://localhost:8080/"
        },
        "id": "TRwvlEPPwEvh",
        "outputId": "13f0fe67-1362-4c93-ed0d-9d8f3e00f8a8"
      },
      "source": [
        "num_parameters = sum(p.numel() for p in net.parameters() if p.requires_grad)\r\n",
        "num_parameters"
      ],
      "execution_count": 11,
      "outputs": [
        {
          "output_type": "execute_result",
          "data": {
            "text/plain": [
              "288906"
            ]
          },
          "metadata": {
            "tags": []
          },
          "execution_count": 11
        }
      ]
    },
    {
      "cell_type": "code",
      "metadata": {
        "id": "sMeGQX84wEsn"
      },
      "source": [
        "opt = torch.optim.Adam(net.parameters(), lr)\r\n",
        "loss_fn = nn.CrossEntropyLoss()\r\n",
        "scaler = torch.cuda.amp.GradScaler()"
      ],
      "execution_count": 12,
      "outputs": []
    },
    {
      "cell_type": "code",
      "metadata": {
        "id": "gnVLJmGMwEpt"
      },
      "source": [
        "def get_accuracy(preds, y):\r\n",
        "    preds = preds.argmax(dim=1, keepdim=True)\r\n",
        "    correct = preds.squeeze(1).eq(y)\r\n",
        "    acc = correct.sum() / torch.FloatTensor([y.shape[0]]).to(device)\r\n",
        "\r\n",
        "    return acc.item()"
      ],
      "execution_count": 13,
      "outputs": []
    },
    {
      "cell_type": "code",
      "metadata": {
        "id": "-XKVLhBjwBot"
      },
      "source": [
        "def loop(net, batches, train):\r\n",
        "    batch_losses = []\r\n",
        "    batch_accs = []\r\n",
        "\r\n",
        "    if train:\r\n",
        "        print(\"Train Loop:\")\r\n",
        "        print(\"\")\r\n",
        "        net.train()\r\n",
        "\r\n",
        "        for X, y in tqdm.tqdm(batches, total=len(batches)):\r\n",
        "            X = X.to(device)\r\n",
        "            y = y.to(device)\r\n",
        "\r\n",
        "\r\n",
        "            with torch.cuda.amp.autocast():\r\n",
        "                preds = net(X)\r\n",
        "                loss = loss_fn(preds, y)\r\n",
        "                acc = get_accuracy(preds, y)\r\n",
        "\r\n",
        "            opt.zero_grad()\r\n",
        "            scaler.scale(loss).backward()\r\n",
        "            scaler.step(opt)\r\n",
        "            scaler.update()\r\n",
        "\r\n",
        "            batch_losses.append(loss.item())\r\n",
        "            batch_accs.append(acc)\r\n",
        "\r\n",
        "    else:\r\n",
        "        print(\"Validation Loop:\")\r\n",
        "        print(\"\")\r\n",
        "        net.eval()\r\n",
        "\r\n",
        "        with torch.no_grad():\r\n",
        "            for X, y in tqdm.tqdm(batches, total=len(batches)):\r\n",
        "                X = X.to(device)\r\n",
        "                y = y.to(device)\r\n",
        "\r\n",
        "                preds = net(X)\r\n",
        "                loss = loss_fn(preds, y)\r\n",
        "                acc = get_accuracy(preds, y)\r\n",
        "\r\n",
        "                batch_losses.append(loss.item())\r\n",
        "                batch_accs.append(acc) \r\n",
        "\r\n",
        "    print(\"\")\r\n",
        "    print(\"\")\r\n",
        "    \r\n",
        "    return sum(batch_losses) / len(batch_losses), sum(batch_accs) / len(batch_accs)"
      ],
      "execution_count": 14,
      "outputs": []
    },
    {
      "cell_type": "code",
      "metadata": {
        "colab": {
          "base_uri": "https://localhost:8080/"
        },
        "id": "1fT5JsfsvqEP",
        "outputId": "a8b9b338-c784-427a-bfeb-a4fe7c988cdb"
      },
      "source": [
        "for epoch in range(epochs):\r\n",
        "    train_loss, train_acc = loop(net, train_batches, True)\r\n",
        "    val_loss, val_acc = loop(net, val_batches, False)\r\n",
        "\r\n",
        "    print(f\"epoch: {epoch} | train_loss: {train_loss:.4f} | train_acc: {train_acc:.4f} | val_loss: {val_loss:.4f} | val_acc: {val_acc:.4f}\")\r\n",
        "    print(\"\")"
      ],
      "execution_count": 15,
      "outputs": [
        {
          "output_type": "stream",
          "text": [
            "\r  0%|          | 0/782 [00:00<?, ?it/s]"
          ],
          "name": "stderr"
        },
        {
          "output_type": "stream",
          "text": [
            "Train Loop:\n",
            "\n"
          ],
          "name": "stdout"
        },
        {
          "output_type": "stream",
          "text": [
            "100%|██████████| 782/782 [00:08<00:00, 95.78it/s] \n",
            "  9%|▉         | 14/157 [00:00<00:01, 138.95it/s]"
          ],
          "name": "stderr"
        },
        {
          "output_type": "stream",
          "text": [
            "\n",
            "\n",
            "Validation Loop:\n",
            "\n"
          ],
          "name": "stdout"
        },
        {
          "output_type": "stream",
          "text": [
            "100%|██████████| 157/157 [00:01<00:00, 137.86it/s]\n",
            "  1%|▏         | 11/782 [00:00<00:07, 105.35it/s]"
          ],
          "name": "stderr"
        },
        {
          "output_type": "stream",
          "text": [
            "\n",
            "\n",
            "epoch: 0 | train_loss: 1.5285 | train_acc: 0.4650 | val_loss: 1.3442 | val_acc: 0.5213\n",
            "\n",
            "Train Loop:\n",
            "\n"
          ],
          "name": "stdout"
        },
        {
          "output_type": "stream",
          "text": [
            "100%|██████████| 782/782 [00:07<00:00, 101.12it/s]\n",
            "  9%|▉         | 14/157 [00:00<00:01, 131.72it/s]"
          ],
          "name": "stderr"
        },
        {
          "output_type": "stream",
          "text": [
            "\n",
            "\n",
            "Validation Loop:\n",
            "\n"
          ],
          "name": "stdout"
        },
        {
          "output_type": "stream",
          "text": [
            "100%|██████████| 157/157 [00:01<00:00, 128.58it/s]\n",
            "  1%|▏         | 10/782 [00:00<00:08, 93.25it/s]"
          ],
          "name": "stderr"
        },
        {
          "output_type": "stream",
          "text": [
            "\n",
            "\n",
            "epoch: 1 | train_loss: 1.2899 | train_acc: 0.5486 | val_loss: 1.2712 | val_acc: 0.5545\n",
            "\n",
            "Train Loop:\n",
            "\n"
          ],
          "name": "stdout"
        },
        {
          "output_type": "stream",
          "text": [
            "100%|██████████| 782/782 [00:07<00:00, 99.48it/s] \n",
            " 10%|▉         | 15/157 [00:00<00:00, 142.74it/s]"
          ],
          "name": "stderr"
        },
        {
          "output_type": "stream",
          "text": [
            "\n",
            "\n",
            "Validation Loop:\n",
            "\n"
          ],
          "name": "stdout"
        },
        {
          "output_type": "stream",
          "text": [
            "100%|██████████| 157/157 [00:01<00:00, 140.30it/s]\n",
            "  1%|▏         | 11/782 [00:00<00:07, 103.66it/s]"
          ],
          "name": "stderr"
        },
        {
          "output_type": "stream",
          "text": [
            "\n",
            "\n",
            "epoch: 2 | train_loss: 1.2220 | train_acc: 0.5777 | val_loss: 1.2415 | val_acc: 0.5655\n",
            "\n",
            "Train Loop:\n",
            "\n"
          ],
          "name": "stdout"
        },
        {
          "output_type": "stream",
          "text": [
            "100%|██████████| 782/782 [00:08<00:00, 95.04it/s]\n",
            " 10%|▉         | 15/157 [00:00<00:01, 140.76it/s]"
          ],
          "name": "stderr"
        },
        {
          "output_type": "stream",
          "text": [
            "\n",
            "\n",
            "Validation Loop:\n",
            "\n"
          ],
          "name": "stdout"
        },
        {
          "output_type": "stream",
          "text": [
            "100%|██████████| 157/157 [00:01<00:00, 130.78it/s]\n",
            "  1%|▏         | 11/782 [00:00<00:07, 101.79it/s]"
          ],
          "name": "stderr"
        },
        {
          "output_type": "stream",
          "text": [
            "\n",
            "\n",
            "epoch: 3 | train_loss: 1.1644 | train_acc: 0.5935 | val_loss: 1.2051 | val_acc: 0.5790\n",
            "\n",
            "Train Loop:\n",
            "\n"
          ],
          "name": "stdout"
        },
        {
          "output_type": "stream",
          "text": [
            "100%|██████████| 782/782 [00:07<00:00, 97.98it/s]\n",
            "  7%|▋         | 11/157 [00:00<00:01, 109.16it/s]"
          ],
          "name": "stderr"
        },
        {
          "output_type": "stream",
          "text": [
            "\n",
            "\n",
            "Validation Loop:\n",
            "\n"
          ],
          "name": "stdout"
        },
        {
          "output_type": "stream",
          "text": [
            "100%|██████████| 157/157 [00:01<00:00, 121.90it/s]\n",
            "  1%|          | 9/782 [00:00<00:08, 89.82it/s]"
          ],
          "name": "stderr"
        },
        {
          "output_type": "stream",
          "text": [
            "\n",
            "\n",
            "epoch: 4 | train_loss: 1.1224 | train_acc: 0.6083 | val_loss: 1.2163 | val_acc: 0.5729\n",
            "\n",
            "Train Loop:\n",
            "\n"
          ],
          "name": "stdout"
        },
        {
          "output_type": "stream",
          "text": [
            "100%|██████████| 782/782 [00:07<00:00, 101.75it/s]\n",
            "  9%|▉         | 14/157 [00:00<00:01, 139.02it/s]"
          ],
          "name": "stderr"
        },
        {
          "output_type": "stream",
          "text": [
            "\n",
            "\n",
            "Validation Loop:\n",
            "\n"
          ],
          "name": "stdout"
        },
        {
          "output_type": "stream",
          "text": [
            "100%|██████████| 157/157 [00:01<00:00, 131.03it/s]\n",
            "  1%|          | 9/782 [00:00<00:08, 89.44it/s]"
          ],
          "name": "stderr"
        },
        {
          "output_type": "stream",
          "text": [
            "\n",
            "\n",
            "epoch: 5 | train_loss: 1.0865 | train_acc: 0.6223 | val_loss: 1.1838 | val_acc: 0.5920\n",
            "\n",
            "Train Loop:\n",
            "\n"
          ],
          "name": "stdout"
        },
        {
          "output_type": "stream",
          "text": [
            "100%|██████████| 782/782 [00:08<00:00, 96.41it/s]\n",
            "  8%|▊         | 12/157 [00:00<00:01, 119.90it/s]"
          ],
          "name": "stderr"
        },
        {
          "output_type": "stream",
          "text": [
            "\n",
            "\n",
            "Validation Loop:\n",
            "\n"
          ],
          "name": "stdout"
        },
        {
          "output_type": "stream",
          "text": [
            "100%|██████████| 157/157 [00:01<00:00, 135.15it/s]\n",
            "  1%|▏         | 11/782 [00:00<00:07, 102.61it/s]"
          ],
          "name": "stderr"
        },
        {
          "output_type": "stream",
          "text": [
            "\n",
            "\n",
            "epoch: 6 | train_loss: 1.0496 | train_acc: 0.6342 | val_loss: 1.2007 | val_acc: 0.5814\n",
            "\n",
            "Train Loop:\n",
            "\n"
          ],
          "name": "stdout"
        },
        {
          "output_type": "stream",
          "text": [
            "100%|██████████| 782/782 [00:08<00:00, 97.57it/s]\n",
            "  8%|▊         | 12/157 [00:00<00:01, 114.38it/s]"
          ],
          "name": "stderr"
        },
        {
          "output_type": "stream",
          "text": [
            "\n",
            "\n",
            "Validation Loop:\n",
            "\n"
          ],
          "name": "stdout"
        },
        {
          "output_type": "stream",
          "text": [
            "100%|██████████| 157/157 [00:01<00:00, 122.67it/s]\n",
            "  1%|▏         | 11/782 [00:00<00:07, 101.74it/s]"
          ],
          "name": "stderr"
        },
        {
          "output_type": "stream",
          "text": [
            "\n",
            "\n",
            "epoch: 7 | train_loss: 1.0243 | train_acc: 0.6448 | val_loss: 1.1600 | val_acc: 0.6019\n",
            "\n",
            "Train Loop:\n",
            "\n"
          ],
          "name": "stdout"
        },
        {
          "output_type": "stream",
          "text": [
            "100%|██████████| 782/782 [00:07<00:00, 99.80it/s] \n",
            " 10%|▉         | 15/157 [00:00<00:00, 142.84it/s]"
          ],
          "name": "stderr"
        },
        {
          "output_type": "stream",
          "text": [
            "\n",
            "\n",
            "Validation Loop:\n",
            "\n"
          ],
          "name": "stdout"
        },
        {
          "output_type": "stream",
          "text": [
            "100%|██████████| 157/157 [00:01<00:00, 125.51it/s]\n",
            "  1%|          | 9/782 [00:00<00:08, 87.67it/s]"
          ],
          "name": "stderr"
        },
        {
          "output_type": "stream",
          "text": [
            "\n",
            "\n",
            "epoch: 8 | train_loss: 0.9956 | train_acc: 0.6531 | val_loss: 1.1759 | val_acc: 0.5944\n",
            "\n",
            "Train Loop:\n",
            "\n"
          ],
          "name": "stdout"
        },
        {
          "output_type": "stream",
          "text": [
            "100%|██████████| 782/782 [00:07<00:00, 101.51it/s]\n",
            "  8%|▊         | 13/157 [00:00<00:01, 128.38it/s]"
          ],
          "name": "stderr"
        },
        {
          "output_type": "stream",
          "text": [
            "\n",
            "\n",
            "Validation Loop:\n",
            "\n"
          ],
          "name": "stdout"
        },
        {
          "output_type": "stream",
          "text": [
            "100%|██████████| 157/157 [00:01<00:00, 139.36it/s]\n",
            "  1%|▏         | 11/782 [00:00<00:07, 102.87it/s]"
          ],
          "name": "stderr"
        },
        {
          "output_type": "stream",
          "text": [
            "\n",
            "\n",
            "epoch: 9 | train_loss: 0.9754 | train_acc: 0.6612 | val_loss: 1.2397 | val_acc: 0.5782\n",
            "\n",
            "Train Loop:\n",
            "\n"
          ],
          "name": "stdout"
        },
        {
          "output_type": "stream",
          "text": [
            "100%|██████████| 782/782 [00:07<00:00, 99.97it/s]\n",
            "  8%|▊         | 12/157 [00:00<00:01, 118.34it/s]"
          ],
          "name": "stderr"
        },
        {
          "output_type": "stream",
          "text": [
            "\n",
            "\n",
            "Validation Loop:\n",
            "\n"
          ],
          "name": "stdout"
        },
        {
          "output_type": "stream",
          "text": [
            "100%|██████████| 157/157 [00:01<00:00, 137.22it/s]\n",
            "  1%|▏         | 10/782 [00:00<00:07, 99.56it/s]"
          ],
          "name": "stderr"
        },
        {
          "output_type": "stream",
          "text": [
            "\n",
            "\n",
            "epoch: 10 | train_loss: 0.9571 | train_acc: 0.6679 | val_loss: 1.1567 | val_acc: 0.6006\n",
            "\n",
            "Train Loop:\n",
            "\n"
          ],
          "name": "stdout"
        },
        {
          "output_type": "stream",
          "text": [
            "100%|██████████| 782/782 [00:07<00:00, 100.37it/s]\n",
            "  9%|▉         | 14/157 [00:00<00:01, 139.88it/s]"
          ],
          "name": "stderr"
        },
        {
          "output_type": "stream",
          "text": [
            "\n",
            "\n",
            "Validation Loop:\n",
            "\n"
          ],
          "name": "stdout"
        },
        {
          "output_type": "stream",
          "text": [
            "100%|██████████| 157/157 [00:01<00:00, 136.82it/s]\n",
            "  1%|▏         | 10/782 [00:00<00:07, 99.87it/s]"
          ],
          "name": "stderr"
        },
        {
          "output_type": "stream",
          "text": [
            "\n",
            "\n",
            "epoch: 11 | train_loss: 0.9356 | train_acc: 0.6748 | val_loss: 1.1873 | val_acc: 0.5970\n",
            "\n",
            "Train Loop:\n",
            "\n"
          ],
          "name": "stdout"
        },
        {
          "output_type": "stream",
          "text": [
            "100%|██████████| 782/782 [00:07<00:00, 101.30it/s]\n",
            "  9%|▉         | 14/157 [00:00<00:01, 137.52it/s]"
          ],
          "name": "stderr"
        },
        {
          "output_type": "stream",
          "text": [
            "\n",
            "\n",
            "Validation Loop:\n",
            "\n"
          ],
          "name": "stdout"
        },
        {
          "output_type": "stream",
          "text": [
            "100%|██████████| 157/157 [00:01<00:00, 123.88it/s]\n",
            "  1%|▏         | 10/782 [00:00<00:07, 99.17it/s]"
          ],
          "name": "stderr"
        },
        {
          "output_type": "stream",
          "text": [
            "\n",
            "\n",
            "epoch: 12 | train_loss: 0.9199 | train_acc: 0.6799 | val_loss: 1.2043 | val_acc: 0.5947\n",
            "\n",
            "Train Loop:\n",
            "\n"
          ],
          "name": "stdout"
        },
        {
          "output_type": "stream",
          "text": [
            "100%|██████████| 782/782 [00:07<00:00, 99.13it/s] \n",
            " 10%|▉         | 15/157 [00:00<00:00, 142.84it/s]"
          ],
          "name": "stderr"
        },
        {
          "output_type": "stream",
          "text": [
            "\n",
            "\n",
            "Validation Loop:\n",
            "\n"
          ],
          "name": "stdout"
        },
        {
          "output_type": "stream",
          "text": [
            "100%|██████████| 157/157 [00:01<00:00, 138.66it/s]\n",
            "  1%|▏         | 11/782 [00:00<00:07, 103.61it/s]"
          ],
          "name": "stderr"
        },
        {
          "output_type": "stream",
          "text": [
            "\n",
            "\n",
            "epoch: 13 | train_loss: 0.9031 | train_acc: 0.6841 | val_loss: 1.1801 | val_acc: 0.6027\n",
            "\n",
            "Train Loop:\n",
            "\n"
          ],
          "name": "stdout"
        },
        {
          "output_type": "stream",
          "text": [
            "100%|██████████| 782/782 [00:08<00:00, 97.55it/s] \n",
            " 10%|▉         | 15/157 [00:00<00:00, 144.20it/s]"
          ],
          "name": "stderr"
        },
        {
          "output_type": "stream",
          "text": [
            "\n",
            "\n",
            "Validation Loop:\n",
            "\n"
          ],
          "name": "stdout"
        },
        {
          "output_type": "stream",
          "text": [
            "100%|██████████| 157/157 [00:01<00:00, 129.47it/s]\n",
            "  1%|▏         | 10/782 [00:00<00:07, 96.75it/s]"
          ],
          "name": "stderr"
        },
        {
          "output_type": "stream",
          "text": [
            "\n",
            "\n",
            "epoch: 14 | train_loss: 0.8897 | train_acc: 0.6884 | val_loss: 1.1900 | val_acc: 0.5991\n",
            "\n",
            "Train Loop:\n",
            "\n"
          ],
          "name": "stdout"
        },
        {
          "output_type": "stream",
          "text": [
            "100%|██████████| 782/782 [00:08<00:00, 97.39it/s]\n",
            "  9%|▉         | 14/157 [00:00<00:01, 139.95it/s]"
          ],
          "name": "stderr"
        },
        {
          "output_type": "stream",
          "text": [
            "\n",
            "\n",
            "Validation Loop:\n",
            "\n"
          ],
          "name": "stdout"
        },
        {
          "output_type": "stream",
          "text": [
            "100%|██████████| 157/157 [00:01<00:00, 136.83it/s]\n",
            "  1%|          | 9/782 [00:00<00:08, 89.56it/s]"
          ],
          "name": "stderr"
        },
        {
          "output_type": "stream",
          "text": [
            "\n",
            "\n",
            "epoch: 15 | train_loss: 0.8753 | train_acc: 0.6922 | val_loss: 1.1557 | val_acc: 0.6088\n",
            "\n",
            "Train Loop:\n",
            "\n"
          ],
          "name": "stdout"
        },
        {
          "output_type": "stream",
          "text": [
            "100%|██████████| 782/782 [00:07<00:00, 98.85it/s]\n",
            " 10%|▉         | 15/157 [00:00<00:00, 143.26it/s]"
          ],
          "name": "stderr"
        },
        {
          "output_type": "stream",
          "text": [
            "\n",
            "\n",
            "Validation Loop:\n",
            "\n"
          ],
          "name": "stdout"
        },
        {
          "output_type": "stream",
          "text": [
            "100%|██████████| 157/157 [00:01<00:00, 137.95it/s]\n",
            "  1%|▏         | 10/782 [00:00<00:08, 91.00it/s]"
          ],
          "name": "stderr"
        },
        {
          "output_type": "stream",
          "text": [
            "\n",
            "\n",
            "epoch: 16 | train_loss: 0.8626 | train_acc: 0.6987 | val_loss: 1.1642 | val_acc: 0.6075\n",
            "\n",
            "Train Loop:\n",
            "\n"
          ],
          "name": "stdout"
        },
        {
          "output_type": "stream",
          "text": [
            "100%|██████████| 782/782 [00:07<00:00, 98.51it/s] \n",
            "  9%|▉         | 14/157 [00:00<00:01, 139.77it/s]"
          ],
          "name": "stderr"
        },
        {
          "output_type": "stream",
          "text": [
            "\n",
            "\n",
            "Validation Loop:\n",
            "\n"
          ],
          "name": "stdout"
        },
        {
          "output_type": "stream",
          "text": [
            "100%|██████████| 157/157 [00:01<00:00, 141.23it/s]\n",
            "  1%|▏         | 11/782 [00:00<00:07, 103.57it/s]"
          ],
          "name": "stderr"
        },
        {
          "output_type": "stream",
          "text": [
            "\n",
            "\n",
            "epoch: 17 | train_loss: 0.8519 | train_acc: 0.7019 | val_loss: 1.1869 | val_acc: 0.6052\n",
            "\n",
            "Train Loop:\n",
            "\n"
          ],
          "name": "stdout"
        },
        {
          "output_type": "stream",
          "text": [
            "100%|██████████| 782/782 [00:07<00:00, 99.11it/s] \n",
            " 10%|▉         | 15/157 [00:00<00:00, 145.28it/s]"
          ],
          "name": "stderr"
        },
        {
          "output_type": "stream",
          "text": [
            "\n",
            "\n",
            "Validation Loop:\n",
            "\n"
          ],
          "name": "stdout"
        },
        {
          "output_type": "stream",
          "text": [
            "100%|██████████| 157/157 [00:01<00:00, 132.97it/s]\n",
            "  1%|▏         | 10/782 [00:00<00:08, 91.76it/s]"
          ],
          "name": "stderr"
        },
        {
          "output_type": "stream",
          "text": [
            "\n",
            "\n",
            "epoch: 18 | train_loss: 0.8349 | train_acc: 0.7070 | val_loss: 1.1629 | val_acc: 0.6064\n",
            "\n",
            "Train Loop:\n",
            "\n"
          ],
          "name": "stdout"
        },
        {
          "output_type": "stream",
          "text": [
            "100%|██████████| 782/782 [00:08<00:00, 96.24it/s]\n",
            "  9%|▉         | 14/157 [00:00<00:01, 138.05it/s]"
          ],
          "name": "stderr"
        },
        {
          "output_type": "stream",
          "text": [
            "\n",
            "\n",
            "Validation Loop:\n",
            "\n"
          ],
          "name": "stdout"
        },
        {
          "output_type": "stream",
          "text": [
            "100%|██████████| 157/157 [00:01<00:00, 140.42it/s]"
          ],
          "name": "stderr"
        },
        {
          "output_type": "stream",
          "text": [
            "\n",
            "\n",
            "epoch: 19 | train_loss: 0.8292 | train_acc: 0.7099 | val_loss: 1.1834 | val_acc: 0.6039\n",
            "\n"
          ],
          "name": "stdout"
        },
        {
          "output_type": "stream",
          "text": [
            "\n"
          ],
          "name": "stderr"
        }
      ]
    },
    {
      "cell_type": "code",
      "metadata": {
        "id": "OBSjgFcUwT4p"
      },
      "source": [
        ""
      ],
      "execution_count": null,
      "outputs": []
    },
    {
      "cell_type": "code",
      "metadata": {
        "id": "XR4ZSOFo7azT"
      },
      "source": [
        ""
      ],
      "execution_count": null,
      "outputs": []
    }
  ]
}