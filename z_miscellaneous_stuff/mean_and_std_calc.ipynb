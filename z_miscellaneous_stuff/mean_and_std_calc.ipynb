{
  "nbformat": 4,
  "nbformat_minor": 0,
  "metadata": {
    "colab": {
      "name": "test0.ipynb",
      "provenance": [],
      "collapsed_sections": []
    },
    "kernelspec": {
      "name": "python3",
      "display_name": "Python 3"
    }
  },
  "cells": [
    {
      "cell_type": "code",
      "metadata": {
        "id": "LdY3qfIlojUZ"
      },
      "source": [
        "import torch\r\n",
        "import matplotlib.pyplot as plt\r\n",
        "from torch.utils.data import DataLoader\r\n",
        "from torchvision import datasets, transforms"
      ],
      "execution_count": 1,
      "outputs": []
    },
    {
      "cell_type": "code",
      "metadata": {
        "colab": {
          "base_uri": "https://localhost:8080/"
        },
        "id": "xrAVslAHoyYC",
        "outputId": "174ec816-7b90-4180-f86a-e86a5205f2ec"
      },
      "source": [
        "dataset = datasets.CIFAR10(root=\"dataset/\", train=True, transform=transforms.ToTensor(), download=True)\r\n",
        "batches = DataLoader(dataset, batch_size=64, shuffle=True)"
      ],
      "execution_count": 2,
      "outputs": [
        {
          "output_type": "stream",
          "text": [
            "Files already downloaded and verified\n"
          ],
          "name": "stdout"
        }
      ]
    },
    {
      "cell_type": "code",
      "metadata": {
        "colab": {
          "base_uri": "https://localhost:8080/",
          "height": 283
        },
        "id": "H2DhABOyuaTT",
        "outputId": "5cc422e4-9d90-45b0-d162-310fbf59df7e"
      },
      "source": [
        "img, label = dataset[42]\r\n",
        "plt.imshow(img.permute(1, 2, 0))"
      ],
      "execution_count": 3,
      "outputs": [
        {
          "output_type": "execute_result",
          "data": {
            "text/plain": [
              "<matplotlib.image.AxesImage at 0x7f759dbe4dd8>"
            ]
          },
          "metadata": {
            "tags": []
          },
          "execution_count": 3
        },
        {
          "output_type": "display_data",
          "data": {
            "image/png": "[encoded data removed]",
            "text/plain": [
              "<Figure size 432x288 with 1 Axes>"
            ]
          },
          "metadata": {
            "tags": [],
            "needs_background": "light"
          }
        }
      ]
    },
    {
      "cell_type": "code",
      "metadata": {
        "id": "w4VCDPOboyVI"
      },
      "source": [
        "# VAR[X] = E[X**2] - E[X]**2\r\n",
        "# STD[X] = VAR[X]**0.5\r\n",
        "def get_mean_and_std(batches):\r\n",
        "    channels_sum, channels_squared_sum, num_batches = 0, 0, 0\r\n",
        "\r\n",
        "    for data, _ in batches:\r\n",
        "        channels_sum += torch.mean(data, dim = [0, 2, 3]) # 1 -> channel dimension\r\n",
        "        channels_squared_sum += torch.mean(data ** 2, dim = [0, 2, 3])\r\n",
        "        num_batches += 1\r\n",
        "\r\n",
        "    mean = channels_sum / num_batches\r\n",
        "    std = (channels_squared_sum / num_batches - mean ** 2) ** 0.5 \r\n",
        "\r\n",
        "    return mean, std"
      ],
      "execution_count": 4,
      "outputs": []
    },
    {
      "cell_type": "code",
      "metadata": {
        "colab": {
          "base_uri": "https://localhost:8080/"
        },
        "id": "es3j_E6soySb",
        "outputId": "24423d9a-604f-416b-c073-5cca25d4b837"
      },
      "source": [
        "mean, std = get_mean_and_std(batches)\r\n",
        "mean, std"
      ],
      "execution_count": 5,
      "outputs": [
        {
          "output_type": "execute_result",
          "data": {
            "text/plain": [
              "(tensor([0.4914, 0.4822, 0.4465]), tensor([0.2470, 0.2435, 0.2616]))"
            ]
          },
          "metadata": {
            "tags": []
          },
          "execution_count": 5
        }
      ]
    },
    {
      "cell_type": "code",
      "metadata": {
        "id": "eAXAjsjztWKB"
      },
      "source": [
        "transform = transforms.Compose([transforms.ToTensor(), \r\n",
        "                                transforms.Normalize(mean, std)])"
      ],
      "execution_count": 6,
      "outputs": []
    },
    {
      "cell_type": "code",
      "metadata": {
        "colab": {
          "base_uri": "https://localhost:8080/"
        },
        "id": "JM-t2dvquLx3",
        "outputId": "9bf7a90f-5643-4a6a-ed4e-3a3973fa1220"
      },
      "source": [
        "dataset = datasets.CIFAR10(root=\"dataset/\", train=True, transform=transform, download=True)\r\n",
        "batches = DataLoader(dataset, batch_size=64, shuffle=True)"
      ],
      "execution_count": 7,
      "outputs": [
        {
          "output_type": "stream",
          "text": [
            "Files already downloaded and verified\n"
          ],
          "name": "stdout"
        }
      ]
    },
    {
      "cell_type": "code",
      "metadata": {
        "colab": {
          "base_uri": "https://localhost:8080/",
          "height": 300
        },
        "id": "RIsecWJWuRp3",
        "outputId": "fadb7dbd-399c-4a22-9981-497ddebc48d3"
      },
      "source": [
        "img, label = dataset[42]\r\n",
        "plt.imshow(img.permute(1, 2, 0))"
      ],
      "execution_count": 8,
      "outputs": [
        {
          "output_type": "stream",
          "text": [
            "Clipping input data to the valid range for imshow with RGB data ([0..1] for floats or [0..255] for integers).\n"
          ],
          "name": "stderr"
        },
        {
          "output_type": "execute_result",
          "data": {
            "text/plain": [
              "<matplotlib.image.AxesImage at 0x7f759d54b438>"
            ]
          },
          "metadata": {
            "tags": []
          },
          "execution_count": 8
        },
        {
          "output_type": "display_data",
          "data": {
            "image/png": "[encoded data removed]",
            "text/plain": [
              "<Figure size 432x288 with 1 Axes>"
            ]
          },
          "metadata": {
            "tags": [],
            "needs_background": "light"
          }
        }
      ]
    },
    {
      "cell_type": "code",
      "metadata": {
        "colab": {
          "base_uri": "https://localhost:8080/"
        },
        "id": "cnyJWUjMvI63",
        "outputId": "3ac99054-c4c8-4cc1-d9bb-06ff398e1038"
      },
      "source": [
        "mean, std = get_mean_and_std(batches)\r\n",
        "mean, std"
      ],
      "execution_count": 9,
      "outputs": [
        {
          "output_type": "execute_result",
          "data": {
            "text/plain": [
              "(tensor([-0.0002, -0.0002, -0.0002]), tensor([1.0001, 1.0001, 1.0001]))"
            ]
          },
          "metadata": {
            "tags": []
          },
          "execution_count": 9
        }
      ]
    },
    {
      "cell_type": "code",
      "metadata": {
        "id": "KhfKcVeFu5Hg"
      },
      "source": [
        ""
      ],
      "execution_count": null,
      "outputs": []
    },
    {
      "cell_type": "code",
      "metadata": {
        "id": "XR4ZSOFo7azT"
      },
      "source": [
        ""
      ],
      "execution_count": null,
      "outputs": []
    }
  ]
}