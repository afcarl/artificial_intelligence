{
  "nbformat": 4,
  "nbformat_minor": 0,
  "metadata": {
    "colab": {
      "name": "custom_torchtext_dataset.ipynb",
      "provenance": [],
      "collapsed_sections": []
    },
    "kernelspec": {
      "name": "python3",
      "display_name": "Python 3"
    },
    "language_info": {
      "name": "python"
    }
  },
  "cells": [
    {
      "cell_type": "code",
      "metadata": {
        "id": "acBge6kvvhX6"
      },
      "source": [
        "!pip install torchtext==0.8.0"
      ],
      "execution_count": null,
      "outputs": []
    },
    {
      "cell_type": "code",
      "metadata": {
        "id": "o_fUaWOuwC07"
      },
      "source": [
        "# run this twice\n",
        "from torchtext.data import Field, LabelField, TabularDataset, BucketIterator\n",
        "!export LD_LIBRARY_PATH=/usr/local/cuda-9.0/lib64"
      ],
      "execution_count": 2,
      "outputs": []
    },
    {
      "cell_type": "code",
      "metadata": {
        "id": "SASEpWLIuItO"
      },
      "source": [
        "import spacy\n",
        "import torch\n",
        "import pandas as pd\n",
        "from torchtext.data import Field, LabelField, TabularDataset, BucketIterator"
      ],
      "execution_count": 3,
      "outputs": []
    },
    {
      "cell_type": "code",
      "metadata": {
        "id": "3dkfOZyexzt4"
      },
      "source": [
        "import warnings\n",
        "warnings.filterwarnings('ignore')"
      ],
      "execution_count": 4,
      "outputs": []
    },
    {
      "cell_type": "code",
      "metadata": {
        "colab": {
          "base_uri": "https://localhost:8080/",
          "height": 135
        },
        "id": "z13lCpx9vrae",
        "outputId": "e706b64e-a5b5-4b06-cc29-989105514ee6"
      },
      "source": [
        "df = pd.read_csv('test.csv')\n",
        "df.head()"
      ],
      "execution_count": 5,
      "outputs": [
        {
          "output_type": "execute_result",
          "data": {
            "text/html": [
              "<div>\n",
              "<style scoped>\n",
              "    .dataframe tbody tr th:only-of-type {\n",
              "        vertical-align: middle;\n",
              "    }\n",
              "\n",
              "    .dataframe tbody tr th {\n",
              "        vertical-align: top;\n",
              "    }\n",
              "\n",
              "    .dataframe thead th {\n",
              "        text-align: right;\n",
              "    }\n",
              "</style>\n",
              "<table border=\"1\" class=\"dataframe\">\n",
              "  <thead>\n",
              "    <tr style=\"text-align: right;\">\n",
              "      <th></th>\n",
              "      <th>name</th>\n",
              "      <th>quote</th>\n",
              "      <th>score</th>\n",
              "    </tr>\n",
              "  </thead>\n",
              "  <tbody>\n",
              "    <tr>\n",
              "      <th>0</th>\n",
              "      <td>Jocko</td>\n",
              "      <td>You must own everything in your world. There i...</td>\n",
              "      <td>1</td>\n",
              "    </tr>\n",
              "    <tr>\n",
              "      <th>1</th>\n",
              "      <td>Bruce Lee</td>\n",
              "      <td>Do not pray for an easy life, pray for the str...</td>\n",
              "      <td>1</td>\n",
              "    </tr>\n",
              "    <tr>\n",
              "      <th>2</th>\n",
              "      <td>Potato guy</td>\n",
              "      <td>Stand tall, and rice like a potato!</td>\n",
              "      <td>0</td>\n",
              "    </tr>\n",
              "  </tbody>\n",
              "</table>\n",
              "</div>"
            ],
            "text/plain": [
              "         name                                              quote  score\n",
              "0       Jocko  You must own everything in your world. There i...      1\n",
              "1   Bruce Lee  Do not pray for an easy life, pray for the str...      1\n",
              "2  Potato guy                Stand tall, and rice like a potato!      0"
            ]
          },
          "metadata": {
            "tags": []
          },
          "execution_count": 5
        }
      ]
    },
    {
      "cell_type": "code",
      "metadata": {
        "id": "na0DVNcWwLdR"
      },
      "source": [
        "TEXT0 = Field(sequential=True, use_vocab=True, tokenize='spacy', lower=True)\n",
        "TEXT1 = Field(sequential=True, use_vocab=True, tokenize='spacy', lower=True)\n",
        "LABEL = LabelField(dtype=torch.float)\n",
        "fields = {'name': ('name', TEXT0), 'quote': ('quote', TEXT1), 'score': ('score', LABEL)}"
      ],
      "execution_count": 6,
      "outputs": []
    },
    {
      "cell_type": "code",
      "metadata": {
        "id": "sgPzgACDxvsV"
      },
      "source": [
        "train_data, test_data = TabularDataset.splits(\n",
        "    path=\"\", train=\"test.csv\", test=\"test.csv\", format=\"csv\", fields=fields # use test data here\n",
        ")\n",
        "TEXT0.build_vocab(train_data, max_size=10000, min_freq=3)\n",
        "TEXT1.build_vocab(train_data, max_size=10000, min_freq=3)\n",
        "LABEL.build_vocab(train_data)\n",
        "train_iterator, test_iterator = BucketIterator.splits(\n",
        "    (train_data, test_data), batch_size=2, device='cpu'\n",
        ")"
      ],
      "execution_count": 8,
      "outputs": []
    },
    {
      "cell_type": "code",
      "metadata": {
        "colab": {
          "base_uri": "https://localhost:8080/"
        },
        "id": "tvfAr1s_yd3z",
        "outputId": "99ce6561-68f8-487a-9c01-4329abd57835"
      },
      "source": [
        "for d in train_data:\n",
        "    print(vars(d)['name'])\n",
        "    print(vars(d)['quote'])\n",
        "    print(vars(d)['score'])\n",
        "    break"
      ],
      "execution_count": 10,
      "outputs": [
        {
          "output_type": "stream",
          "text": [
            "['jocko']\n",
            "['you', 'must', 'own', 'everything', 'in', 'your', 'world', '.', 'there', 'is', 'no', 'one', 'else', 'to', 'blame', '.']\n",
            "1\n"
          ],
          "name": "stdout"
        }
      ]
    },
    {
      "cell_type": "code",
      "metadata": {
        "colab": {
          "base_uri": "https://localhost:8080/"
        },
        "id": "JcePPXqayz1j",
        "outputId": "421ffa69-f2c2-4d8c-b658-848f150f838f"
      },
      "source": [
        "batch = next(iter(train_iterator))\n",
        "print(batch.name, batch.quote, batch.score)"
      ],
      "execution_count": 11,
      "outputs": [
        {
          "output_type": "stream",
          "text": [
            "tensor([[0]]) tensor([[0],\n",
            "        [0],\n",
            "        [0],\n",
            "        [0],\n",
            "        [0],\n",
            "        [0],\n",
            "        [0],\n",
            "        [2],\n",
            "        [0],\n",
            "        [0],\n",
            "        [0],\n",
            "        [0],\n",
            "        [0],\n",
            "        [0],\n",
            "        [0],\n",
            "        [2]]) tensor([0.])\n"
          ],
          "name": "stdout"
        }
      ]
    },
    {
      "cell_type": "code",
      "metadata": {
        "colab": {
          "base_uri": "https://localhost:8080/"
        },
        "id": "jFvVzRUvy79N",
        "outputId": "2efdbae7-4cec-4f42-ae1f-cef2885fbed9"
      },
      "source": [
        "print(len(TEXT0.vocab), len(TEXT1.vocab), len(LABEL.vocab), LABEL.vocab.stoi, LABEL.vocab.itos)"
      ],
      "execution_count": 13,
      "outputs": [
        {
          "output_type": "stream",
          "text": [
            "2 3 2 defaultdict(None, {'1': 0, '0': 1}) ['1', '0']\n"
          ],
          "name": "stdout"
        }
      ]
    }
  ]
}