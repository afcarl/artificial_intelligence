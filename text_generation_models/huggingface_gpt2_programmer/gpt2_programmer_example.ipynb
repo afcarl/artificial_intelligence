{
  "nbformat": 4,
  "nbformat_minor": 0,
  "metadata": {
    "colab": {
      "name": "test0.ipynb",
      "provenance": [],
      "collapsed_sections": []
    },
    "kernelspec": {
      "name": "python3",
      "display_name": "Python 3"
    },
    "language_info": {
      "name": "python"
    }
  },
  "cells": [
    {
      "cell_type": "code",
      "metadata": {
        "colab": {
          "base_uri": "https://localhost:8080/"
        },
        "id": "LS47UyLgm5Vx",
        "outputId": "828e45d6-7ac1-4d9f-c0f7-41c8f1c4a802"
      },
      "source": [
        "from transformers import pipeline\n",
        "\n",
        "programmer = pipeline('text-generation', model='zer0sh0t/gpt2-programmer')\n",
        "output = programmer('''import numpy as np\\n''', max_length=500)[0]['generated_text']\n",
        "print(output)"
      ],
      "execution_count": 1,
      "outputs": [
        {
          "output_type": "stream",
          "text": [
            "Setting `pad_token_id` to `eos_token_id`:50256 for open-end generation.\n"
          ],
          "name": "stderr"
        },
        {
          "output_type": "stream",
          "text": [
            "import numpy as np\n",
            "from matplotlib import pyplot as plt\n",
            "\n",
            "\n",
            "def sigmoid(x):\n",
            "    return 1 / (1 + np.exp(-1 * x))\n",
            "\n",
            "\n",
            "class DenseLayer:\n",
            "     \"\"\"\n",
            "    Layers of BP neural network\n",
            "     \"\"\"\n",
            "\n",
            "    def __init__(\n",
            "     self, units, activation=None, learning_rate=None, is_input_layer=False\n",
            "    ):\n",
            "         \"\"\"\n",
            "    I will put the example on other file\n",
            "    \"\"\"\n",
            "\n",
            "\n",
            "\"\"\"\n",
            "\"\"\"\n",
            "    def __init__(\n",
            "    self, units, activation=None, is_input_layer=False\n",
            "   ):\n",
            "        \"\"\"\n",
            "    I will put the example on other file\n",
            "   \"\"\"\n",
            "\n",
            "\n",
            "\"\"\"\n",
            "\n",
            "DenseLayer:\n",
            "    def __init__(\n",
            "   self, units, activation=None, is_input_layer=False\n",
            "   ):\n",
            "          \"\"\"\n",
            "    def __init__(\n",
            "           self, activation=None, is_input_layer=False\n",
            "          \"\"\"\n",
            "           \"\"\"\n",
            "           def __init__(self):\n",
            "            \"\"\"\n",
            "            self.layers = [\n",
            "             self.layers[1],\n",
            "              \"\"\"\n",
            "             self.w_conv1 = np.mat(-1 * np.random.rand(self.conv1[1], self.conv1[1])\n",
            "              self.thre_conv1 = np.mat(-1 * np.random.rand(self.conv1[1])\n",
            "             self.thre_bp3 =\n"
          ],
          "name": "stdout"
        }
      ]
    }
  ]
}