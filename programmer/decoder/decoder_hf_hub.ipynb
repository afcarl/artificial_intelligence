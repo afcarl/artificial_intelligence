{
  "nbformat": 4,
  "nbformat_minor": 0,
  "metadata": {
    "colab": {
      "name": "decoder_hf_hub.ipynb",
      "provenance": [],
      "collapsed_sections": []
    },
    "kernelspec": {
      "name": "python3",
      "display_name": "Python 3"
    },
    "language_info": {
      "name": "python"
    }
  },
  "cells": [
    {
      "cell_type": "code",
      "metadata": {
        "colab": {
          "base_uri": "https://localhost:8080/"
        },
        "id": "ldGDcWgplng_",
        "outputId": "a1d17034-bbae-472a-dc58-941b5733b3d1"
      },
      "source": [
        "from transformers import pipeline\n",
        "\n",
        "decoder = pipeline('text-generation', model='zer0sh0t/programmer_gpt2_decoder_prototype')\n",
        "output = decoder('''def reverse_str(s):\\n''', max_length=500)[0]['generated_text']\n",
        "print(output)"
      ],
      "execution_count": 3,
      "outputs": [
        {
          "output_type": "stream",
          "text": [
            "Setting `pad_token_id` to `eos_token_id`:50256 for open-end generation.\n"
          ],
          "name": "stderr"
        },
        {
          "output_type": "stream",
          "text": [
            "def reverse_str(s):\n",
            "        if number < 0:\n",
            "        raise ValueError(\"the value of input must be positive\")\n",
            "     elif isinstance(number, float):\n",
            "             return raise TypeError(\"Input must be a 'int' type\")\n",
            "        :param instance_count\n",
            "\n",
            "          :return self.__name__ = number\n",
            "\n",
            "\n",
            "                      return\n",
            "              return\n",
            "           print(\"TypeError: Input value must be a 'int' type=int'\")\n",
            "                 raise ValueError(\"'<' not_obey = False\n",
            "                    raise TypeError(\" 'int' not_obey = self._get_type(number)\n",
            "                                   return self._error(\" 'int' typeError: operation can represent balanced or constant function, if the function returns a 'int'\n",
            "                                     raise TypeError(\" 'int' type 'int'\")\n",
            "                          return self.__name__name__name__name__name__ def _loc:\n",
            "                def _ def _ def _str = self._error_msg=\"'\n",
            "\n",
            "\n",
            "         return self._error_msg=\"'\n",
            "              print(def _ def _ def _ def _ def _ def _ def _error_msg=\"'\n",
            "   def _ def _ def _ def\n"
          ],
          "name": "stdout"
        }
      ]
    }
  ]
}