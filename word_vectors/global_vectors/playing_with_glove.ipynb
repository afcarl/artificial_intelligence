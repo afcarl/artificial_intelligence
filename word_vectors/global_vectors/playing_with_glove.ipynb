{
  "nbformat": 4,
  "nbformat_minor": 0,
  "metadata": {
    "colab": {
      "name": "GloVe.ipynb",
      "provenance": [],
      "collapsed_sections": []
    },
    "kernelspec": {
      "name": "python3",
      "display_name": "Python 3"
    }
  },
  "cells": [
    {
      "cell_type": "code",
      "metadata": {
        "id": "x7x7KbytQ50A"
      },
      "source": [
        "import torch\r\n",
        "import torchtext"
      ],
      "execution_count": 1,
      "outputs": []
    },
    {
      "cell_type": "code",
      "metadata": {
        "id": "pMdHTAfiZWof"
      },
      "source": [
        "embeddings = torchtext.vocab.GloVe(name=\"6B\", dim=100)"
      ],
      "execution_count": 2,
      "outputs": []
    },
    {
      "cell_type": "code",
      "metadata": {
        "id": "yFzXmoY2Q5tl"
      },
      "source": [
        "class GloVe():\r\n",
        "    def __init__(self, embeddings):\r\n",
        "        self.embeddings = embeddings\r\n",
        "\r\n",
        "    def get_vector(self, word):\r\n",
        "        vec = self.embeddings.vectors[self.embeddings.stoi[word]]\r\n",
        "        return vec \r\n",
        "\r\n",
        "    def get_closest_words(self, input, k=10):\r\n",
        "        if type(input) == str:\r\n",
        "            input_word_vec = self.get_vector(input)\r\n",
        "        else:\r\n",
        "            input_word_vec = input\r\n",
        "\r\n",
        "        distances = [(word, torch.dist(input_word_vec, self.get_vector(word)).item()) \r\n",
        "                    for word in self.embeddings.stoi]\r\n",
        "\r\n",
        "        return sorted(distances, key=lambda w: w[1])[:k]\r\n",
        "\r\n",
        "    def get_analogous_words(self, word1, word2, word3, k=10):\r\n",
        "        word1_vec = self.get_vector(word1)\r\n",
        "        word2_vec = self.get_vector(word2)\r\n",
        "        word3_vec = self.get_vector(word3)\r\n",
        "\r\n",
        "        analogy_vec = word2_vec - word1_vec + word3_vec\r\n",
        "        analogous_words = self.get_closest_words(analogy_vec)\r\n",
        "        analogous_words = [(word, dist) for (word, dist) in analogous_words\r\n",
        "                          if word not in [word1, word2, word3]]\r\n",
        "\r\n",
        "        print(f\"{word1} is to {word2} as {word3} is to..\")\r\n",
        "        print(\"\")\r\n",
        "\r\n",
        "        return analogous_words"
      ],
      "execution_count": 3,
      "outputs": []
    },
    {
      "cell_type": "code",
      "metadata": {
        "id": "L-3J4hFRZEyO"
      },
      "source": [
        "glove = GloVe(embeddings)"
      ],
      "execution_count": 4,
      "outputs": []
    },
    {
      "cell_type": "code",
      "metadata": {
        "colab": {
          "base_uri": "https://localhost:8080/"
        },
        "id": "Edw5HIiDbMoa",
        "outputId": "f8a0fc1b-56f1-4f39-a0dd-61fafd070e4a"
      },
      "source": [
        "what_vec = glove.get_vector(\"what\")\r\n",
        "what_vec, what_vec.shape"
      ],
      "execution_count": 5,
      "outputs": [
        {
          "output_type": "execute_result",
          "data": {
            "text/plain": [
              "(tensor([-1.5180e-01,  3.8409e-01,  8.9340e-01, -4.2421e-01, -9.2161e-01,\n",
              "          3.7988e-02, -3.2026e-01,  3.4119e-03,  2.2101e-01, -2.2045e-01,\n",
              "          1.6661e-01,  2.1956e-01,  2.5325e-01, -2.9267e-01,  1.0171e-01,\n",
              "         -7.5491e-02, -6.0406e-02,  2.8194e-01, -5.8519e-01,  4.8271e-01,\n",
              "          1.7504e-02, -1.2086e-01, -1.0990e-01, -6.9554e-01,  1.5600e-01,\n",
              "          7.0558e-02, -1.5058e-01, -8.1811e-01, -1.8535e-01, -3.6863e-01,\n",
              "          3.1650e-02,  7.6616e-01,  8.4041e-02,  2.6928e-03, -2.7440e-01,\n",
              "          2.1815e-01, -3.5157e-02,  3.2569e-01,  1.0032e-01, -6.0932e-01,\n",
              "         -7.0316e-01,  1.8299e-01,  3.3134e-01, -1.2416e-01, -9.0542e-01,\n",
              "         -3.9157e-02,  4.4719e-01, -5.7338e-01, -4.0172e-01, -8.2234e-01,\n",
              "          5.5740e-01,  1.5101e-01,  2.4598e-01,  1.0113e+00, -4.6626e-01,\n",
              "         -2.7133e+00,  4.3273e-01, -1.6314e-01,  1.5828e+00,  5.5081e-01,\n",
              "         -2.4738e-01,  1.4184e+00, -1.6867e-02, -1.9368e-01,  1.0090e+00,\n",
              "         -5.9864e-02,  9.1853e-01,  4.3022e-01, -2.0624e-01,  7.6127e-02,\n",
              "          2.1595e-01, -2.6834e-01, -3.3342e-01, -3.7151e-01,  4.5197e-01,\n",
              "         -8.2460e-02,  3.2984e-01, -5.7376e-01, -1.3042e+00,  2.7121e-01,\n",
              "          6.6277e-01, -7.9626e-02, -7.9167e-01, -5.3662e-03, -1.7916e+00,\n",
              "         -3.3298e-01, -3.0698e-01, -3.3980e-01, -5.5618e-01, -6.9471e-01,\n",
              "          2.7427e-01, -2.1898e-01, -2.6714e-01,  2.2561e-03, -5.0178e-01,\n",
              "         -3.2775e-01, -4.5670e-01, -2.7123e-01,  2.2157e-01,  9.2112e-01]),\n",
              " torch.Size([100]))"
            ]
          },
          "metadata": {
            "tags": []
          },
          "execution_count": 5
        }
      ]
    },
    {
      "cell_type": "code",
      "metadata": {
        "colab": {
          "base_uri": "https://localhost:8080/"
        },
        "id": "kBSW1_MKk-CS",
        "outputId": "42b490ac-2fbe-42ed-a892-4bb793770835"
      },
      "source": [
        "the_vec = glove.get_vector(\"the\")\r\n",
        "the_vec, the_vec.shape"
      ],
      "execution_count": 6,
      "outputs": [
        {
          "output_type": "execute_result",
          "data": {
            "text/plain": [
              "(tensor([-0.0382, -0.2449,  0.7281, -0.3996,  0.0832,  0.0440, -0.3914,  0.3344,\n",
              "         -0.5755,  0.0875,  0.2879, -0.0673,  0.3091, -0.2638, -0.1323, -0.2076,\n",
              "          0.3340, -0.3385, -0.3174, -0.4834,  0.1464, -0.3730,  0.3458,  0.0520,\n",
              "          0.4495, -0.4697,  0.0263, -0.5415, -0.1552, -0.1411, -0.0397,  0.2828,\n",
              "          0.1439,  0.2346, -0.3102,  0.0862,  0.2040,  0.5262,  0.1716, -0.0824,\n",
              "         -0.7179, -0.4153,  0.2033, -0.1276,  0.4137,  0.5519,  0.5791, -0.3348,\n",
              "         -0.3656, -0.5486, -0.0629,  0.2658,  0.3020,  0.9977, -0.8048, -3.0243,\n",
              "          0.0125, -0.3694,  2.2167,  0.7220, -0.2498,  0.9214,  0.0345,  0.4674,\n",
              "          1.1079, -0.1936, -0.0746,  0.2335, -0.0521, -0.2204,  0.0572, -0.1581,\n",
              "         -0.3080, -0.4162,  0.3797,  0.1501, -0.5321, -0.2055, -1.2526,  0.0716,\n",
              "          0.7056,  0.4974, -0.4206,  0.2615, -1.5380, -0.3022, -0.0734, -0.2831,\n",
              "          0.3710, -0.2522,  0.0162, -0.0171, -0.3898,  0.8742, -0.7257, -0.5106,\n",
              "         -0.5203, -0.1459,  0.8278,  0.2706]), torch.Size([100]))"
            ]
          },
          "metadata": {
            "tags": []
          },
          "execution_count": 6
        }
      ]
    },
    {
      "cell_type": "code",
      "metadata": {
        "colab": {
          "base_uri": "https://localhost:8080/"
        },
        "id": "cIdzzECzbUxq",
        "outputId": "574a9238-681d-42c3-c16d-ef1353c37491"
      },
      "source": [
        "glove.get_closest_words(\"rocket\")"
      ],
      "execution_count": 7,
      "outputs": [
        {
          "output_type": "execute_result",
          "data": {
            "text/plain": [
              "[('rocket', 0.0),\n",
              " ('rockets', 4.294834613800049),\n",
              " ('launcher', 4.528061389923096),\n",
              " ('propelled', 4.573644638061523),\n",
              " ('launching', 4.586248397827148),\n",
              " ('launch', 4.654458045959473),\n",
              " ('firing', 4.665835857391357),\n",
              " ('fired', 4.6791582107543945),\n",
              " ('launchers', 4.699558258056641),\n",
              " ('missiles', 4.822944641113281)]"
            ]
          },
          "metadata": {
            "tags": []
          },
          "execution_count": 7
        }
      ]
    },
    {
      "cell_type": "code",
      "metadata": {
        "colab": {
          "base_uri": "https://localhost:8080/"
        },
        "id": "r2Mslh2oljfH",
        "outputId": "b59c35d7-0f0a-4dcf-fcaf-b05b56ffeb39"
      },
      "source": [
        "glove.get_closest_words(\"dogs\")"
      ],
      "execution_count": 8,
      "outputs": [
        {
          "output_type": "execute_result",
          "data": {
            "text/plain": [
              "[('dogs', 0.0),\n",
              " ('dog', 3.2425272464752197),\n",
              " ('cats', 3.528623342514038),\n",
              " ('cat', 4.055587291717529),\n",
              " ('pets', 4.109102249145508),\n",
              " ('animals', 4.179422378540039),\n",
              " ('horses', 4.338571071624756),\n",
              " ('pigs', 4.477031707763672),\n",
              " ('sniffing', 4.527379989624023),\n",
              " ('puppies', 4.53402042388916)]"
            ]
          },
          "metadata": {
            "tags": []
          },
          "execution_count": 8
        }
      ]
    },
    {
      "cell_type": "code",
      "metadata": {
        "colab": {
          "base_uri": "https://localhost:8080/"
        },
        "id": "Q-iW0TMXlocR",
        "outputId": "d32b18c7-75ad-4900-f5b3-a27b5b30704c"
      },
      "source": [
        "glove.get_closest_words(\"space\")"
      ],
      "execution_count": 9,
      "outputs": [
        {
          "output_type": "execute_result",
          "data": {
            "text/plain": [
              "[('space', 0.0),\n",
              " ('spaces', 4.672468185424805),\n",
              " ('nasa', 4.70680046081543),\n",
              " ('earth', 4.920621871948242),\n",
              " ('shuttle', 4.9815287590026855),\n",
              " ('spaceship', 5.055478572845459),\n",
              " ('spacecraft', 5.101546764373779),\n",
              " ('module', 5.113476753234863),\n",
              " ('discovery', 5.203618049621582),\n",
              " ('orbit', 5.274632930755615)]"
            ]
          },
          "metadata": {
            "tags": []
          },
          "execution_count": 9
        }
      ]
    },
    {
      "cell_type": "code",
      "metadata": {
        "colab": {
          "base_uri": "https://localhost:8080/"
        },
        "id": "t3YvwrDNl6yz",
        "outputId": "03874177-b032-480e-efbe-17cdb1895991"
      },
      "source": [
        "glove.get_closest_words(\"cartoon\")"
      ],
      "execution_count": 10,
      "outputs": [
        {
          "output_type": "execute_result",
          "data": {
            "text/plain": [
              "[('cartoon', 0.0),\n",
              " ('cartoons', 3.426957607269287),\n",
              " ('animated', 3.5315918922424316),\n",
              " ('parody', 4.147957801818848),\n",
              " ('spoof', 4.408638000488281),\n",
              " ('comic', 4.498523235321045),\n",
              " ('caricature', 4.643454074859619),\n",
              " ('live-action', 4.821722507476807),\n",
              " ('animation', 4.872594833374023),\n",
              " ('poster', 4.894413471221924)]"
            ]
          },
          "metadata": {
            "tags": []
          },
          "execution_count": 10
        }
      ]
    },
    {
      "cell_type": "code",
      "metadata": {
        "colab": {
          "base_uri": "https://localhost:8080/"
        },
        "id": "EtEpdg7bbUjD",
        "outputId": "dcc1131a-e7a0-41dc-8a65-b40c658c5fc2"
      },
      "source": [
        "glove.get_analogous_words(\"man\", \"king\", \"woman\")"
      ],
      "execution_count": 11,
      "outputs": [
        {
          "output_type": "stream",
          "text": [
            "man is to king as woman is to..\n",
            "\n"
          ],
          "name": "stdout"
        },
        {
          "output_type": "execute_result",
          "data": {
            "text/plain": [
              "[('queen', 4.08107852935791),\n",
              " ('monarch', 4.642907619476318),\n",
              " ('throne', 4.905500888824463),\n",
              " ('elizabeth', 4.921558380126953),\n",
              " ('prince', 4.981146812438965),\n",
              " ('daughter', 4.985714912414551),\n",
              " ('mother', 5.064087390899658),\n",
              " ('cousin', 5.077497482299805),\n",
              " ('princess', 5.078685760498047)]"
            ]
          },
          "metadata": {
            "tags": []
          },
          "execution_count": 11
        }
      ]
    },
    {
      "cell_type": "code",
      "metadata": {
        "colab": {
          "base_uri": "https://localhost:8080/"
        },
        "id": "Z5mnUF2xk0_P",
        "outputId": "dc109664-b40c-440a-e845-ec63d468ec44"
      },
      "source": [
        "glove.get_analogous_words(\"dog\", \"puppy\", \"cat\")"
      ],
      "execution_count": 12,
      "outputs": [
        {
          "output_type": "stream",
          "text": [
            "dog is to puppy as cat is to..\n",
            "\n"
          ],
          "name": "stdout"
        },
        {
          "output_type": "execute_result",
          "data": {
            "text/plain": [
              "[('kitten', 3.814647674560547),\n",
              " ('puppies', 4.0254998207092285),\n",
              " ('kittens', 4.157486915588379),\n",
              " ('pterodactyl', 4.188157558441162),\n",
              " ('scaredy', 4.194512844085693),\n",
              " ('tigress', 4.203792572021484),\n",
              " ('tabby', 4.257164478302002),\n",
              " ('pup', 4.304572582244873)]"
            ]
          },
          "metadata": {
            "tags": []
          },
          "execution_count": 12
        }
      ]
    },
    {
      "cell_type": "code",
      "metadata": {
        "colab": {
          "base_uri": "https://localhost:8080/"
        },
        "id": "nyUVZxWDk07L",
        "outputId": "f50ebaef-73f1-407b-e4d6-ecfef551f2d6"
      },
      "source": [
        "glove.get_analogous_words(\"japan\", \"tokyo\", \"india\")"
      ],
      "execution_count": 13,
      "outputs": [
        {
          "output_type": "stream",
          "text": [
            "japan is to tokyo as india is to..\n",
            "\n"
          ],
          "name": "stdout"
        },
        {
          "output_type": "execute_result",
          "data": {
            "text/plain": [
              "[('delhi', 3.4406583309173584),\n",
              " ('mumbai', 4.064070701599121),\n",
              " ('bombay', 4.229851722717285),\n",
              " ('lahore', 4.608885288238525),\n",
              " ('karachi', 4.626933574676514),\n",
              " ('dhaka', 4.73362922668457),\n",
              " ('calcutta', 4.911397457122803),\n",
              " ('islamabad', 4.915811538696289),\n",
              " ('colombo', 5.079125881195068)]"
            ]
          },
          "metadata": {
            "tags": []
          },
          "execution_count": 13
        }
      ]
    },
    {
      "cell_type": "code",
      "metadata": {
        "id": "Fs8HBm7jQ5nl",
        "colab": {
          "base_uri": "https://localhost:8080/"
        },
        "outputId": "89111628-e573-49f3-9c06-472623ee398e"
      },
      "source": [
        "glove.get_analogous_words(\"sky\", \"birds\", \"ocean\")"
      ],
      "execution_count": 14,
      "outputs": [
        {
          "output_type": "stream",
          "text": [
            "sky is to birds as ocean is to..\n",
            "\n"
          ],
          "name": "stdout"
        },
        {
          "output_type": "execute_result",
          "data": {
            "text/plain": [
              "[('mammals', 6.280848979949951),\n",
              " ('migratory', 6.450166702270508),\n",
              " ('animals', 6.53190803527832),\n",
              " ('species', 6.55869197845459),\n",
              " ('fish', 6.747007369995117),\n",
              " ('whales', 6.748803615570068),\n",
              " ('reptiles', 6.835613250732422),\n",
              " ('amphibians', 7.035011291503906),\n",
              " ('insects', 7.082273006439209)]"
            ]
          },
          "metadata": {
            "tags": []
          },
          "execution_count": 14
        }
      ]
    },
    {
      "cell_type": "code",
      "metadata": {
        "colab": {
          "base_uri": "https://localhost:8080/"
        },
        "id": "xdxnEyuFncXn",
        "outputId": "d2a5db13-304c-4d1b-a80f-34a93bc3db9e"
      },
      "source": [
        "glove.get_analogous_words(\"cars\", \"roads\", \"trains\")"
      ],
      "execution_count": 15,
      "outputs": [
        {
          "output_type": "stream",
          "text": [
            "cars is to roads as trains is to..\n",
            "\n"
          ],
          "name": "stdout"
        },
        {
          "output_type": "execute_result",
          "data": {
            "text/plain": [
              "[('rail', 6.112190246582031),\n",
              " ('highways', 6.130516052246094),\n",
              " ('routes', 6.1638360023498535),\n",
              " ('railway', 6.392805099487305),\n",
              " ('connecting', 6.472668170928955),\n",
              " ('route', 6.508240222930908),\n",
              " ('bridges', 6.801179885864258),\n",
              " ('transit', 6.902473449707031)]"
            ]
          },
          "metadata": {
            "tags": []
          },
          "execution_count": 15
        }
      ]
    },
    {
      "cell_type": "code",
      "metadata": {
        "colab": {
          "base_uri": "https://localhost:8080/"
        },
        "id": "4gABNv5vkMbf",
        "outputId": "8fd405e8-478a-4ea5-f7c5-94b442439f22"
      },
      "source": [
        "glove.get_analogous_words(\"humans\", \"earth\", \"aliens\")"
      ],
      "execution_count": 16,
      "outputs": [
        {
          "output_type": "stream",
          "text": [
            "humans is to earth as aliens is to..\n",
            "\n"
          ],
          "name": "stdout"
        },
        {
          "output_type": "execute_result",
          "data": {
            "text/plain": [
              "[('alien', 6.089966297149658),\n",
              " ('spaceship', 6.189017295837402),\n",
              " ('planet', 6.470367431640625),\n",
              " ('shadows', 6.541500091552734),\n",
              " ('voyager', 6.677394866943359),\n",
              " ('mars', 6.795182228088379),\n",
              " ('space', 6.814069747924805),\n",
              " ('sky', 6.867318153381348)]"
            ]
          },
          "metadata": {
            "tags": []
          },
          "execution_count": 16
        }
      ]
    },
    {
      "cell_type": "code",
      "metadata": {
        "id": "RRNPjIKqkMX6"
      },
      "source": [
        ""
      ],
      "execution_count": null,
      "outputs": []
    },
    {
      "cell_type": "code",
      "metadata": {
        "id": "Gf-mfZ3MQvgF"
      },
      "source": [
        ""
      ],
      "execution_count": null,
      "outputs": []
    }
  ]
}