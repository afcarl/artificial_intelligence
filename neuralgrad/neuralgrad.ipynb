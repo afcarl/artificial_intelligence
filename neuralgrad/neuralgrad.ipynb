{
  "nbformat": 4,
  "nbformat_minor": 0,
  "metadata": {
    "colab": {
      "name": "neuralgrad.ipynb",
      "provenance": [],
      "collapsed_sections": []
    },
    "kernelspec": {
      "name": "python3",
      "display_name": "Python 3"
    },
    "language_info": {
      "name": "python"
    }
  },
  "cells": [
    {
      "cell_type": "code",
      "metadata": {
        "id": "QqglCqaloExA"
      },
      "source": [
        "class Scalar():\n",
        "    def __init__(self, data, children=(), op=\"\", requires_grad=True):\n",
        "        self.data = data\n",
        "        self.grad = 0\n",
        "        self.requires_grad = requires_grad\n",
        "        self._backward = lambda: None\n",
        "        self.children = set(children)\n",
        "        self.op = op\n",
        "\n",
        "    def __add__(self, other):\n",
        "        other = other if isinstance(other, Scalar) else Scalar(other)\n",
        "        out = Scalar(self.data + other.data, (self, other), \"+\")\n",
        "        def _backward():\n",
        "            if self.requires_grad:\n",
        "                self.grad += float(out.grad)\n",
        "            if other.requires_grad:\n",
        "                other.grad += float(out.grad)\n",
        "        out._backward = _backward\n",
        "        return out\n",
        "\n",
        "    def __mul__(self, other):\n",
        "        other = other if isinstance(other, Scalar) else Scalar(other)\n",
        "        out = Scalar(self.data * other.data, (self, other), \"*\")\n",
        "        def _backward():\n",
        "            if self.requires_grad:\n",
        "                self.grad += other.data * out.grad\n",
        "            if other.requires_grad:\n",
        "                other.grad += self.data * out.grad\n",
        "        out._backward = _backward\n",
        "        return out\n",
        "\n",
        "    def dot(self, other):\n",
        "        other = other if isinstance(other, Scalar) else Scalar(other)\n",
        "        out = Scalar(self.data.dot(other.data), (self, other), \"dot\")\n",
        "        def _backward():\n",
        "            if self.requires_grad:\n",
        "                self.grad += out.grad.dot(other.data.transpose())\n",
        "            if other.requires_grad:\n",
        "                other.grad += self.data.transpose().dot(out.grad)\n",
        "        out._backward = _backward\n",
        "        return out\n",
        "\n",
        "    def __pow__(self, other):\n",
        "        out = Scalar(self.data ** other, (self,), f\"**{other}\")\n",
        "        def _backward():\n",
        "            if self.requires_grad:\n",
        "                self.grad += other * (self.data ** (other - 1)) * out.grad\n",
        "        out._backward = _backward\n",
        "        return out\n",
        "\n",
        "    def __radd__(self, other):\n",
        "        return self + other\n",
        "\n",
        "    def __sub__(self, other):\n",
        "        return self + (-other)\n",
        "\n",
        "    def __rsub__(self, other):\n",
        "        return other + (-self)\n",
        "    \n",
        "    def __rmul__(self, other):\n",
        "        return self * other\n",
        "\n",
        "    def __neg__(self):\n",
        "        return self * -1\n",
        "\n",
        "    def __truediv__(self, other):\n",
        "        return self * (other ** -1)\n",
        "\n",
        "    def __rtruediv__(self, other):\n",
        "        return other * (self ** -1)\n",
        "\n",
        "    def backward(self):\n",
        "        graph = [] # dynamic computation graph\n",
        "        visited = set()\n",
        "        def build_graph(v):\n",
        "            if v not in visited:\n",
        "                visited.add(v)\n",
        "                for child in v.children:\n",
        "                    build_graph(child)\n",
        "                graph.append(v)\n",
        "\n",
        "        build_graph(self)\n",
        "        self.grad = 1\n",
        "        for v in graph[::-1]:\n",
        "            v._backward()\n",
        "\n",
        "    def __repr__(self):\n",
        "        return f\"Scalar({self.data}, {self.grad})\""
      ],
      "execution_count": 1,
      "outputs": []
    },
    {
      "cell_type": "code",
      "metadata": {
        "colab": {
          "base_uri": "https://localhost:8080/"
        },
        "id": "YNWkrz_wRufb",
        "outputId": "91b7c947-214c-4dc1-e38e-f98994c4db3c"
      },
      "source": [
        "a = Scalar(1)\n",
        "b = Scalar(2)\n",
        "c = a * b\n",
        "print(a, b, c)\n",
        "c.backward()\n",
        "print(a, b, c)"
      ],
      "execution_count": 2,
      "outputs": [
        {
          "output_type": "stream",
          "text": [
            "Scalar(1, 0) Scalar(2, 0) Scalar(2, 0)\n",
            "Scalar(1, 2) Scalar(2, 1) Scalar(2, 1)\n"
          ],
          "name": "stdout"
        }
      ]
    },
    {
      "cell_type": "code",
      "metadata": {
        "colab": {
          "base_uri": "https://localhost:8080/"
        },
        "id": "Dn5L97piPqvV",
        "outputId": "8b13ce36-32a2-4de7-b35e-63900864f903"
      },
      "source": [
        "q = Scalar(1020, requires_grad=False)\n",
        "w = Scalar(212)\n",
        "e = Scalar(123123)\n",
        "r = Scalar(546)\n",
        "t = Scalar(42)\n",
        "y = (q * w) - (e + (r / t))\n",
        "print(q, w, e, r, t, y)\n",
        "y.backward()\n",
        "print(q, w, e, r, t, y)"
      ],
      "execution_count": 3,
      "outputs": [
        {
          "output_type": "stream",
          "text": [
            "Scalar(1020, 0) Scalar(212, 0) Scalar(123123, 0) Scalar(546, 0) Scalar(42, 0) Scalar(93104.0, 0)\n",
            "Scalar(1020, 0) Scalar(212, 1020.0) Scalar(123123, -1.0) Scalar(546, -0.023809523809523808) Scalar(42, 0.30952380952380953) Scalar(93104.0, 1)\n"
          ],
          "name": "stdout"
        }
      ]
    }
  ]
}